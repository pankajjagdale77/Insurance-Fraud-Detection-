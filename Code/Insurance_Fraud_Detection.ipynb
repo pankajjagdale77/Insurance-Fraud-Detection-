{
 "cells": [
  {
   "cell_type": "markdown",
   "id": "0b68ef2c",
   "metadata": {
    "id": "0b68ef2c"
   },
   "source": [
    "# <font color='red'>Group Number-2</font>\n",
    "### <font color='blue'>Project Title- Insurance Fraud Detection</font>\n",
    "### <font color='green'>Group Member</font>\n",
    "<font color='brown'>GHARGE ROHIT VISHWAS SUNITA 220960925006</font>\n",
    "\n",
    "<font color='brown'>HAJARE TANMAY YOGESH 220960925007</font>\n",
    "\n",
    "<font color='brown'>HANAN P T 220960925008</font>\n",
    "\n",
    "<font color='brown'>HARSHADA PARDIP PATIL 220960925009</font>\n",
    "\n",
    "<font color='brown'>JADHAV AKSHAY SANJAY 220960925010</font>\n",
    "\n",
    "<font color='brown'>JAGDALE PANKAJ KALIDAS 220960925011</font>"
   ]
  },
  {
   "cell_type": "markdown",
   "id": "6c3ec334",
   "metadata": {
    "id": "6c3ec334"
   },
   "source": [
    "# <font color='red'>1. Data Preprocessing </font>"
   ]
  },
  {
   "cell_type": "markdown",
   "id": "686205cc",
   "metadata": {
    "id": "686205cc"
   },
   "source": [
    "### 1.1 Read CSV"
   ]
  },
  {
   "cell_type": "code",
   "execution_count": 2,
   "id": "d17ce2c1",
   "metadata": {
    "executionInfo": {
     "elapsed": 655,
     "status": "ok",
     "timestamp": 1678212416055,
     "user": {
      "displayName": "Tanmay Hajare",
      "userId": "05037382924936965487"
     },
     "user_tz": -330
    },
    "id": "d17ce2c1"
   },
   "outputs": [],
   "source": [
    "import numpy as np\n",
    "import pandas as pd\n",
    "import matplotlib.pyplot as plt\n",
    "import seaborn \n"
   ]
  },
  {
   "cell_type": "code",
   "execution_count": 3,
   "id": "33cb57d4",
   "metadata": {
    "executionInfo": {
     "elapsed": 230,
     "status": "ok",
     "timestamp": 1678212417567,
     "user": {
      "displayName": "Tanmay Hajare",
      "userId": "05037382924936965487"
     },
     "user_tz": -330
    },
    "id": "33cb57d4"
   },
   "outputs": [],
   "source": [
    "df=pd.read_csv(\"insuranceFraud.csv\")"
   ]
  },
  {
   "cell_type": "code",
   "execution_count": 4,
   "id": "f8a23d96",
   "metadata": {
    "colab": {
     "base_uri": "https://localhost:8080/",
     "height": 340
    },
    "executionInfo": {
     "elapsed": 231,
     "status": "ok",
     "timestamp": 1678212417571,
     "user": {
      "displayName": "Tanmay Hajare",
      "userId": "05037382924936965487"
     },
     "user_tz": -330
    },
    "id": "f8a23d96",
    "outputId": "3fb52528-f6ba-49b8-b2ad-5e28e1079d43"
   },
   "outputs": [
    {
     "data": {
      "text/html": [
       "<div>\n",
       "<style scoped>\n",
       "    .dataframe tbody tr th:only-of-type {\n",
       "        vertical-align: middle;\n",
       "    }\n",
       "\n",
       "    .dataframe tbody tr th {\n",
       "        vertical-align: top;\n",
       "    }\n",
       "\n",
       "    .dataframe thead th {\n",
       "        text-align: right;\n",
       "    }\n",
       "</style>\n",
       "<table border=\"1\" class=\"dataframe\">\n",
       "  <thead>\n",
       "    <tr style=\"text-align: right;\">\n",
       "      <th></th>\n",
       "      <th>months_as_customer</th>\n",
       "      <th>age</th>\n",
       "      <th>policy_number</th>\n",
       "      <th>policy_bind_date</th>\n",
       "      <th>policy_state</th>\n",
       "      <th>policy_csl</th>\n",
       "      <th>policy_deductable</th>\n",
       "      <th>policy_annual_premium</th>\n",
       "      <th>umbrella_limit</th>\n",
       "      <th>insured_zip</th>\n",
       "      <th>insured_sex</th>\n",
       "      <th>insured_education_level</th>\n",
       "      <th>insured_occupation</th>\n",
       "      <th>insured_hobbies</th>\n",
       "      <th>insured_relationship</th>\n",
       "      <th>capital-gains</th>\n",
       "      <th>capital-loss</th>\n",
       "      <th>incident_date</th>\n",
       "      <th>incident_type</th>\n",
       "      <th>collision_type</th>\n",
       "      <th>incident_severity</th>\n",
       "      <th>authorities_contacted</th>\n",
       "      <th>incident_state</th>\n",
       "      <th>incident_city</th>\n",
       "      <th>incident_location</th>\n",
       "      <th>incident_hour_of_the_day</th>\n",
       "      <th>number_of_vehicles_involved</th>\n",
       "      <th>property_damage</th>\n",
       "      <th>bodily_injuries</th>\n",
       "      <th>witnesses</th>\n",
       "      <th>police_report_available</th>\n",
       "      <th>total_claim_amount</th>\n",
       "      <th>injury_claim</th>\n",
       "      <th>property_claim</th>\n",
       "      <th>vehicle_claim</th>\n",
       "      <th>auto_make</th>\n",
       "      <th>auto_model</th>\n",
       "      <th>auto_year</th>\n",
       "      <th>fraud_reported</th>\n",
       "    </tr>\n",
       "  </thead>\n",
       "  <tbody>\n",
       "    <tr>\n",
       "      <th>0</th>\n",
       "      <td>328</td>\n",
       "      <td>48</td>\n",
       "      <td>521585</td>\n",
       "      <td>10/17/2014</td>\n",
       "      <td>OH</td>\n",
       "      <td>250/500</td>\n",
       "      <td>1000</td>\n",
       "      <td>1406.91</td>\n",
       "      <td>0</td>\n",
       "      <td>466132</td>\n",
       "      <td>MALE</td>\n",
       "      <td>MD</td>\n",
       "      <td>craft-repair</td>\n",
       "      <td>sleeping</td>\n",
       "      <td>husband</td>\n",
       "      <td>53300</td>\n",
       "      <td>0</td>\n",
       "      <td>1/25/2015</td>\n",
       "      <td>Single Vehicle Collision</td>\n",
       "      <td>Side Collision</td>\n",
       "      <td>Major Damage</td>\n",
       "      <td>Police</td>\n",
       "      <td>SC</td>\n",
       "      <td>Columbus</td>\n",
       "      <td>9935 4th Drive</td>\n",
       "      <td>5</td>\n",
       "      <td>1</td>\n",
       "      <td>YES</td>\n",
       "      <td>1</td>\n",
       "      <td>2</td>\n",
       "      <td>YES</td>\n",
       "      <td>71610</td>\n",
       "      <td>6510</td>\n",
       "      <td>13020</td>\n",
       "      <td>52080</td>\n",
       "      <td>Saab</td>\n",
       "      <td>92x</td>\n",
       "      <td>2004</td>\n",
       "      <td>Y</td>\n",
       "    </tr>\n",
       "    <tr>\n",
       "      <th>1</th>\n",
       "      <td>228</td>\n",
       "      <td>42</td>\n",
       "      <td>342868</td>\n",
       "      <td>6/27/2006</td>\n",
       "      <td>IN</td>\n",
       "      <td>250/500</td>\n",
       "      <td>2000</td>\n",
       "      <td>1197.22</td>\n",
       "      <td>5000000</td>\n",
       "      <td>468176</td>\n",
       "      <td>MALE</td>\n",
       "      <td>MD</td>\n",
       "      <td>machine-op-inspct</td>\n",
       "      <td>reading</td>\n",
       "      <td>other-relative</td>\n",
       "      <td>0</td>\n",
       "      <td>0</td>\n",
       "      <td>1/21/2015</td>\n",
       "      <td>Vehicle Theft</td>\n",
       "      <td>?</td>\n",
       "      <td>Minor Damage</td>\n",
       "      <td>Police</td>\n",
       "      <td>VA</td>\n",
       "      <td>Riverwood</td>\n",
       "      <td>6608 MLK Hwy</td>\n",
       "      <td>8</td>\n",
       "      <td>1</td>\n",
       "      <td>?</td>\n",
       "      <td>0</td>\n",
       "      <td>0</td>\n",
       "      <td>?</td>\n",
       "      <td>5070</td>\n",
       "      <td>780</td>\n",
       "      <td>780</td>\n",
       "      <td>3510</td>\n",
       "      <td>Mercedes</td>\n",
       "      <td>E400</td>\n",
       "      <td>2007</td>\n",
       "      <td>Y</td>\n",
       "    </tr>\n",
       "    <tr>\n",
       "      <th>2</th>\n",
       "      <td>134</td>\n",
       "      <td>29</td>\n",
       "      <td>687698</td>\n",
       "      <td>9/6/2000</td>\n",
       "      <td>OH</td>\n",
       "      <td>100/300</td>\n",
       "      <td>2000</td>\n",
       "      <td>1413.14</td>\n",
       "      <td>5000000</td>\n",
       "      <td>430632</td>\n",
       "      <td>FEMALE</td>\n",
       "      <td>PhD</td>\n",
       "      <td>sales</td>\n",
       "      <td>board-games</td>\n",
       "      <td>own-child</td>\n",
       "      <td>35100</td>\n",
       "      <td>0</td>\n",
       "      <td>2/22/2015</td>\n",
       "      <td>Multi-vehicle Collision</td>\n",
       "      <td>Rear Collision</td>\n",
       "      <td>Minor Damage</td>\n",
       "      <td>Police</td>\n",
       "      <td>NY</td>\n",
       "      <td>Columbus</td>\n",
       "      <td>7121 Francis Lane</td>\n",
       "      <td>7</td>\n",
       "      <td>3</td>\n",
       "      <td>NO</td>\n",
       "      <td>2</td>\n",
       "      <td>3</td>\n",
       "      <td>NO</td>\n",
       "      <td>34650</td>\n",
       "      <td>7700</td>\n",
       "      <td>3850</td>\n",
       "      <td>23100</td>\n",
       "      <td>Dodge</td>\n",
       "      <td>RAM</td>\n",
       "      <td>2007</td>\n",
       "      <td>N</td>\n",
       "    </tr>\n",
       "    <tr>\n",
       "      <th>3</th>\n",
       "      <td>256</td>\n",
       "      <td>41</td>\n",
       "      <td>227811</td>\n",
       "      <td>5/25/1990</td>\n",
       "      <td>IL</td>\n",
       "      <td>250/500</td>\n",
       "      <td>2000</td>\n",
       "      <td>1415.74</td>\n",
       "      <td>6000000</td>\n",
       "      <td>608117</td>\n",
       "      <td>FEMALE</td>\n",
       "      <td>PhD</td>\n",
       "      <td>armed-forces</td>\n",
       "      <td>board-games</td>\n",
       "      <td>unmarried</td>\n",
       "      <td>48900</td>\n",
       "      <td>-62400</td>\n",
       "      <td>1/10/2015</td>\n",
       "      <td>Single Vehicle Collision</td>\n",
       "      <td>Front Collision</td>\n",
       "      <td>Major Damage</td>\n",
       "      <td>Police</td>\n",
       "      <td>OH</td>\n",
       "      <td>Arlington</td>\n",
       "      <td>6956 Maple Drive</td>\n",
       "      <td>5</td>\n",
       "      <td>1</td>\n",
       "      <td>?</td>\n",
       "      <td>1</td>\n",
       "      <td>2</td>\n",
       "      <td>NO</td>\n",
       "      <td>63400</td>\n",
       "      <td>6340</td>\n",
       "      <td>6340</td>\n",
       "      <td>50720</td>\n",
       "      <td>Chevrolet</td>\n",
       "      <td>Tahoe</td>\n",
       "      <td>2014</td>\n",
       "      <td>Y</td>\n",
       "    </tr>\n",
       "    <tr>\n",
       "      <th>4</th>\n",
       "      <td>228</td>\n",
       "      <td>44</td>\n",
       "      <td>367455</td>\n",
       "      <td>6/6/2014</td>\n",
       "      <td>IL</td>\n",
       "      <td>500/1000</td>\n",
       "      <td>1000</td>\n",
       "      <td>1583.91</td>\n",
       "      <td>6000000</td>\n",
       "      <td>610706</td>\n",
       "      <td>MALE</td>\n",
       "      <td>Associate</td>\n",
       "      <td>sales</td>\n",
       "      <td>board-games</td>\n",
       "      <td>unmarried</td>\n",
       "      <td>66000</td>\n",
       "      <td>-46000</td>\n",
       "      <td>2/17/2015</td>\n",
       "      <td>Vehicle Theft</td>\n",
       "      <td>?</td>\n",
       "      <td>Minor Damage</td>\n",
       "      <td>None</td>\n",
       "      <td>NY</td>\n",
       "      <td>Arlington</td>\n",
       "      <td>3041 3rd Ave</td>\n",
       "      <td>20</td>\n",
       "      <td>1</td>\n",
       "      <td>NO</td>\n",
       "      <td>0</td>\n",
       "      <td>1</td>\n",
       "      <td>NO</td>\n",
       "      <td>6500</td>\n",
       "      <td>1300</td>\n",
       "      <td>650</td>\n",
       "      <td>4550</td>\n",
       "      <td>Accura</td>\n",
       "      <td>RSX</td>\n",
       "      <td>2009</td>\n",
       "      <td>N</td>\n",
       "    </tr>\n",
       "    <tr>\n",
       "      <th>...</th>\n",
       "      <td>...</td>\n",
       "      <td>...</td>\n",
       "      <td>...</td>\n",
       "      <td>...</td>\n",
       "      <td>...</td>\n",
       "      <td>...</td>\n",
       "      <td>...</td>\n",
       "      <td>...</td>\n",
       "      <td>...</td>\n",
       "      <td>...</td>\n",
       "      <td>...</td>\n",
       "      <td>...</td>\n",
       "      <td>...</td>\n",
       "      <td>...</td>\n",
       "      <td>...</td>\n",
       "      <td>...</td>\n",
       "      <td>...</td>\n",
       "      <td>...</td>\n",
       "      <td>...</td>\n",
       "      <td>...</td>\n",
       "      <td>...</td>\n",
       "      <td>...</td>\n",
       "      <td>...</td>\n",
       "      <td>...</td>\n",
       "      <td>...</td>\n",
       "      <td>...</td>\n",
       "      <td>...</td>\n",
       "      <td>...</td>\n",
       "      <td>...</td>\n",
       "      <td>...</td>\n",
       "      <td>...</td>\n",
       "      <td>...</td>\n",
       "      <td>...</td>\n",
       "      <td>...</td>\n",
       "      <td>...</td>\n",
       "      <td>...</td>\n",
       "      <td>...</td>\n",
       "      <td>...</td>\n",
       "      <td>...</td>\n",
       "    </tr>\n",
       "    <tr>\n",
       "      <th>995</th>\n",
       "      <td>3</td>\n",
       "      <td>38</td>\n",
       "      <td>941851</td>\n",
       "      <td>7/16/1991</td>\n",
       "      <td>OH</td>\n",
       "      <td>500/1000</td>\n",
       "      <td>1000</td>\n",
       "      <td>1310.80</td>\n",
       "      <td>0</td>\n",
       "      <td>431289</td>\n",
       "      <td>FEMALE</td>\n",
       "      <td>Masters</td>\n",
       "      <td>craft-repair</td>\n",
       "      <td>paintball</td>\n",
       "      <td>unmarried</td>\n",
       "      <td>0</td>\n",
       "      <td>0</td>\n",
       "      <td>2/22/2015</td>\n",
       "      <td>Single Vehicle Collision</td>\n",
       "      <td>Front Collision</td>\n",
       "      <td>Minor Damage</td>\n",
       "      <td>Fire</td>\n",
       "      <td>NC</td>\n",
       "      <td>Northbrook</td>\n",
       "      <td>6045 Andromedia St</td>\n",
       "      <td>20</td>\n",
       "      <td>1</td>\n",
       "      <td>YES</td>\n",
       "      <td>0</td>\n",
       "      <td>1</td>\n",
       "      <td>?</td>\n",
       "      <td>87200</td>\n",
       "      <td>17440</td>\n",
       "      <td>8720</td>\n",
       "      <td>61040</td>\n",
       "      <td>Honda</td>\n",
       "      <td>Accord</td>\n",
       "      <td>2006</td>\n",
       "      <td>N</td>\n",
       "    </tr>\n",
       "    <tr>\n",
       "      <th>996</th>\n",
       "      <td>285</td>\n",
       "      <td>41</td>\n",
       "      <td>186934</td>\n",
       "      <td>1/5/2014</td>\n",
       "      <td>IL</td>\n",
       "      <td>100/300</td>\n",
       "      <td>1000</td>\n",
       "      <td>1436.79</td>\n",
       "      <td>0</td>\n",
       "      <td>608177</td>\n",
       "      <td>FEMALE</td>\n",
       "      <td>PhD</td>\n",
       "      <td>prof-specialty</td>\n",
       "      <td>sleeping</td>\n",
       "      <td>wife</td>\n",
       "      <td>70900</td>\n",
       "      <td>0</td>\n",
       "      <td>1/24/2015</td>\n",
       "      <td>Single Vehicle Collision</td>\n",
       "      <td>Rear Collision</td>\n",
       "      <td>Major Damage</td>\n",
       "      <td>Fire</td>\n",
       "      <td>SC</td>\n",
       "      <td>Northbend</td>\n",
       "      <td>3092 Texas Drive</td>\n",
       "      <td>23</td>\n",
       "      <td>1</td>\n",
       "      <td>YES</td>\n",
       "      <td>2</td>\n",
       "      <td>3</td>\n",
       "      <td>?</td>\n",
       "      <td>108480</td>\n",
       "      <td>18080</td>\n",
       "      <td>18080</td>\n",
       "      <td>72320</td>\n",
       "      <td>Volkswagen</td>\n",
       "      <td>Passat</td>\n",
       "      <td>2015</td>\n",
       "      <td>N</td>\n",
       "    </tr>\n",
       "    <tr>\n",
       "      <th>997</th>\n",
       "      <td>130</td>\n",
       "      <td>34</td>\n",
       "      <td>918516</td>\n",
       "      <td>2/17/2003</td>\n",
       "      <td>OH</td>\n",
       "      <td>250/500</td>\n",
       "      <td>500</td>\n",
       "      <td>1383.49</td>\n",
       "      <td>3000000</td>\n",
       "      <td>442797</td>\n",
       "      <td>FEMALE</td>\n",
       "      <td>Masters</td>\n",
       "      <td>armed-forces</td>\n",
       "      <td>bungie-jumping</td>\n",
       "      <td>other-relative</td>\n",
       "      <td>35100</td>\n",
       "      <td>0</td>\n",
       "      <td>1/23/2015</td>\n",
       "      <td>Multi-vehicle Collision</td>\n",
       "      <td>Side Collision</td>\n",
       "      <td>Minor Damage</td>\n",
       "      <td>Police</td>\n",
       "      <td>NC</td>\n",
       "      <td>Arlington</td>\n",
       "      <td>7629 5th St</td>\n",
       "      <td>4</td>\n",
       "      <td>3</td>\n",
       "      <td>?</td>\n",
       "      <td>2</td>\n",
       "      <td>3</td>\n",
       "      <td>YES</td>\n",
       "      <td>67500</td>\n",
       "      <td>7500</td>\n",
       "      <td>7500</td>\n",
       "      <td>52500</td>\n",
       "      <td>Suburu</td>\n",
       "      <td>Impreza</td>\n",
       "      <td>1996</td>\n",
       "      <td>N</td>\n",
       "    </tr>\n",
       "    <tr>\n",
       "      <th>998</th>\n",
       "      <td>458</td>\n",
       "      <td>62</td>\n",
       "      <td>533940</td>\n",
       "      <td>11/18/2011</td>\n",
       "      <td>IL</td>\n",
       "      <td>500/1000</td>\n",
       "      <td>2000</td>\n",
       "      <td>1356.92</td>\n",
       "      <td>5000000</td>\n",
       "      <td>441714</td>\n",
       "      <td>MALE</td>\n",
       "      <td>Associate</td>\n",
       "      <td>handlers-cleaners</td>\n",
       "      <td>base-jumping</td>\n",
       "      <td>wife</td>\n",
       "      <td>0</td>\n",
       "      <td>0</td>\n",
       "      <td>2/26/2015</td>\n",
       "      <td>Single Vehicle Collision</td>\n",
       "      <td>Rear Collision</td>\n",
       "      <td>Major Damage</td>\n",
       "      <td>Other</td>\n",
       "      <td>NY</td>\n",
       "      <td>Arlington</td>\n",
       "      <td>6128 Elm Lane</td>\n",
       "      <td>2</td>\n",
       "      <td>1</td>\n",
       "      <td>?</td>\n",
       "      <td>0</td>\n",
       "      <td>1</td>\n",
       "      <td>YES</td>\n",
       "      <td>46980</td>\n",
       "      <td>5220</td>\n",
       "      <td>5220</td>\n",
       "      <td>36540</td>\n",
       "      <td>Audi</td>\n",
       "      <td>A5</td>\n",
       "      <td>1998</td>\n",
       "      <td>N</td>\n",
       "    </tr>\n",
       "    <tr>\n",
       "      <th>999</th>\n",
       "      <td>456</td>\n",
       "      <td>60</td>\n",
       "      <td>556080</td>\n",
       "      <td>11/11/1996</td>\n",
       "      <td>OH</td>\n",
       "      <td>250/500</td>\n",
       "      <td>1000</td>\n",
       "      <td>766.19</td>\n",
       "      <td>0</td>\n",
       "      <td>612260</td>\n",
       "      <td>FEMALE</td>\n",
       "      <td>Associate</td>\n",
       "      <td>sales</td>\n",
       "      <td>kayaking</td>\n",
       "      <td>husband</td>\n",
       "      <td>0</td>\n",
       "      <td>0</td>\n",
       "      <td>2/26/2015</td>\n",
       "      <td>Parked Car</td>\n",
       "      <td>?</td>\n",
       "      <td>Minor Damage</td>\n",
       "      <td>Police</td>\n",
       "      <td>WV</td>\n",
       "      <td>Columbus</td>\n",
       "      <td>1416 Cherokee Ridge</td>\n",
       "      <td>6</td>\n",
       "      <td>1</td>\n",
       "      <td>?</td>\n",
       "      <td>0</td>\n",
       "      <td>3</td>\n",
       "      <td>?</td>\n",
       "      <td>5060</td>\n",
       "      <td>460</td>\n",
       "      <td>920</td>\n",
       "      <td>3680</td>\n",
       "      <td>Mercedes</td>\n",
       "      <td>E400</td>\n",
       "      <td>2007</td>\n",
       "      <td>N</td>\n",
       "    </tr>\n",
       "  </tbody>\n",
       "</table>\n",
       "<p>1000 rows × 39 columns</p>\n",
       "</div>"
      ],
      "text/plain": [
       "     months_as_customer  age  policy_number policy_bind_date policy_state  \\\n",
       "0                   328   48         521585       10/17/2014           OH   \n",
       "1                   228   42         342868        6/27/2006           IN   \n",
       "2                   134   29         687698         9/6/2000           OH   \n",
       "3                   256   41         227811        5/25/1990           IL   \n",
       "4                   228   44         367455         6/6/2014           IL   \n",
       "..                  ...  ...            ...              ...          ...   \n",
       "995                   3   38         941851        7/16/1991           OH   \n",
       "996                 285   41         186934         1/5/2014           IL   \n",
       "997                 130   34         918516        2/17/2003           OH   \n",
       "998                 458   62         533940       11/18/2011           IL   \n",
       "999                 456   60         556080       11/11/1996           OH   \n",
       "\n",
       "    policy_csl  policy_deductable  policy_annual_premium  umbrella_limit  \\\n",
       "0      250/500               1000                1406.91               0   \n",
       "1      250/500               2000                1197.22         5000000   \n",
       "2      100/300               2000                1413.14         5000000   \n",
       "3      250/500               2000                1415.74         6000000   \n",
       "4     500/1000               1000                1583.91         6000000   \n",
       "..         ...                ...                    ...             ...   \n",
       "995   500/1000               1000                1310.80               0   \n",
       "996    100/300               1000                1436.79               0   \n",
       "997    250/500                500                1383.49         3000000   \n",
       "998   500/1000               2000                1356.92         5000000   \n",
       "999    250/500               1000                 766.19               0   \n",
       "\n",
       "     insured_zip insured_sex insured_education_level insured_occupation  \\\n",
       "0         466132        MALE                      MD       craft-repair   \n",
       "1         468176        MALE                      MD  machine-op-inspct   \n",
       "2         430632      FEMALE                     PhD              sales   \n",
       "3         608117      FEMALE                     PhD       armed-forces   \n",
       "4         610706        MALE               Associate              sales   \n",
       "..           ...         ...                     ...                ...   \n",
       "995       431289      FEMALE                 Masters       craft-repair   \n",
       "996       608177      FEMALE                     PhD     prof-specialty   \n",
       "997       442797      FEMALE                 Masters       armed-forces   \n",
       "998       441714        MALE               Associate  handlers-cleaners   \n",
       "999       612260      FEMALE               Associate              sales   \n",
       "\n",
       "    insured_hobbies insured_relationship  capital-gains  capital-loss  \\\n",
       "0          sleeping              husband          53300             0   \n",
       "1           reading       other-relative              0             0   \n",
       "2       board-games            own-child          35100             0   \n",
       "3       board-games            unmarried          48900        -62400   \n",
       "4       board-games            unmarried          66000        -46000   \n",
       "..              ...                  ...            ...           ...   \n",
       "995       paintball            unmarried              0             0   \n",
       "996        sleeping                 wife          70900             0   \n",
       "997  bungie-jumping       other-relative          35100             0   \n",
       "998    base-jumping                 wife              0             0   \n",
       "999        kayaking              husband              0             0   \n",
       "\n",
       "    incident_date             incident_type   collision_type  \\\n",
       "0       1/25/2015  Single Vehicle Collision   Side Collision   \n",
       "1       1/21/2015             Vehicle Theft                ?   \n",
       "2       2/22/2015   Multi-vehicle Collision   Rear Collision   \n",
       "3       1/10/2015  Single Vehicle Collision  Front Collision   \n",
       "4       2/17/2015             Vehicle Theft                ?   \n",
       "..            ...                       ...              ...   \n",
       "995     2/22/2015  Single Vehicle Collision  Front Collision   \n",
       "996     1/24/2015  Single Vehicle Collision   Rear Collision   \n",
       "997     1/23/2015   Multi-vehicle Collision   Side Collision   \n",
       "998     2/26/2015  Single Vehicle Collision   Rear Collision   \n",
       "999     2/26/2015                Parked Car                ?   \n",
       "\n",
       "    incident_severity authorities_contacted incident_state incident_city  \\\n",
       "0        Major Damage                Police             SC      Columbus   \n",
       "1        Minor Damage                Police             VA     Riverwood   \n",
       "2        Minor Damage                Police             NY      Columbus   \n",
       "3        Major Damage                Police             OH     Arlington   \n",
       "4        Minor Damage                  None             NY     Arlington   \n",
       "..                ...                   ...            ...           ...   \n",
       "995      Minor Damage                  Fire             NC    Northbrook   \n",
       "996      Major Damage                  Fire             SC     Northbend   \n",
       "997      Minor Damage                Police             NC     Arlington   \n",
       "998      Major Damage                 Other             NY     Arlington   \n",
       "999      Minor Damage                Police             WV      Columbus   \n",
       "\n",
       "       incident_location  incident_hour_of_the_day  \\\n",
       "0         9935 4th Drive                         5   \n",
       "1           6608 MLK Hwy                         8   \n",
       "2      7121 Francis Lane                         7   \n",
       "3       6956 Maple Drive                         5   \n",
       "4           3041 3rd Ave                        20   \n",
       "..                   ...                       ...   \n",
       "995   6045 Andromedia St                        20   \n",
       "996     3092 Texas Drive                        23   \n",
       "997          7629 5th St                         4   \n",
       "998        6128 Elm Lane                         2   \n",
       "999  1416 Cherokee Ridge                         6   \n",
       "\n",
       "     number_of_vehicles_involved property_damage  bodily_injuries  witnesses  \\\n",
       "0                              1             YES                1          2   \n",
       "1                              1               ?                0          0   \n",
       "2                              3              NO                2          3   \n",
       "3                              1               ?                1          2   \n",
       "4                              1              NO                0          1   \n",
       "..                           ...             ...              ...        ...   \n",
       "995                            1             YES                0          1   \n",
       "996                            1             YES                2          3   \n",
       "997                            3               ?                2          3   \n",
       "998                            1               ?                0          1   \n",
       "999                            1               ?                0          3   \n",
       "\n",
       "    police_report_available  total_claim_amount  injury_claim  property_claim  \\\n",
       "0                       YES               71610          6510           13020   \n",
       "1                         ?                5070           780             780   \n",
       "2                        NO               34650          7700            3850   \n",
       "3                        NO               63400          6340            6340   \n",
       "4                        NO                6500          1300             650   \n",
       "..                      ...                 ...           ...             ...   \n",
       "995                       ?               87200         17440            8720   \n",
       "996                       ?              108480         18080           18080   \n",
       "997                     YES               67500          7500            7500   \n",
       "998                     YES               46980          5220            5220   \n",
       "999                       ?                5060           460             920   \n",
       "\n",
       "     vehicle_claim   auto_make auto_model  auto_year fraud_reported  \n",
       "0            52080        Saab        92x       2004              Y  \n",
       "1             3510    Mercedes       E400       2007              Y  \n",
       "2            23100       Dodge        RAM       2007              N  \n",
       "3            50720   Chevrolet      Tahoe       2014              Y  \n",
       "4             4550      Accura        RSX       2009              N  \n",
       "..             ...         ...        ...        ...            ...  \n",
       "995          61040       Honda     Accord       2006              N  \n",
       "996          72320  Volkswagen     Passat       2015              N  \n",
       "997          52500      Suburu    Impreza       1996              N  \n",
       "998          36540        Audi         A5       1998              N  \n",
       "999           3680    Mercedes       E400       2007              N  \n",
       "\n",
       "[1000 rows x 39 columns]"
      ]
     },
     "execution_count": 4,
     "metadata": {},
     "output_type": "execute_result"
    }
   ],
   "source": [
    "pd.set_option(\"display.max_columns\",39)\n",
    "df"
   ]
  },
  {
   "cell_type": "markdown",
   "id": "7f705328",
   "metadata": {
    "id": "7f705328"
   },
   "source": [
    "### 1.2 Drop Unecessary Column "
   ]
  },
  {
   "cell_type": "code",
   "execution_count": 5,
   "id": "a2cb1000",
   "metadata": {
    "executionInfo": {
     "elapsed": 229,
     "status": "ok",
     "timestamp": 1678212417574,
     "user": {
      "displayName": "Tanmay Hajare",
      "userId": "05037382924936965487"
     },
     "user_tz": -330
    },
    "id": "a2cb1000"
   },
   "outputs": [],
   "source": [
    "# list of columns[12] not necessary for prediction\n",
    "cols_to_drop=['policy_number','policy_bind_date','policy_state','insured_zip','incident_location','incident_date','incident_state','incident_city','insured_hobbies','auto_make','auto_model','auto_year']"
   ]
  },
  {
   "cell_type": "code",
   "execution_count": 6,
   "id": "3081769f",
   "metadata": {
    "executionInfo": {
     "elapsed": 231,
     "status": "ok",
     "timestamp": 1678212417577,
     "user": {
      "displayName": "Tanmay Hajare",
      "userId": "05037382924936965487"
     },
     "user_tz": -330
    },
    "id": "3081769f"
   },
   "outputs": [],
   "source": [
    "# dropping the unnecessary columns\n",
    "df.drop(columns=cols_to_drop,inplace=True)"
   ]
  },
  {
   "cell_type": "markdown",
   "id": "3556e2b2",
   "metadata": {
    "id": "3556e2b2"
   },
   "source": [
    "### 1.3 Check Columns data types "
   ]
  },
  {
   "cell_type": "code",
   "execution_count": 7,
   "id": "5f187ccb",
   "metadata": {
    "colab": {
     "base_uri": "https://localhost:8080/"
    },
    "executionInfo": {
     "elapsed": 232,
     "status": "ok",
     "timestamp": 1678212417579,
     "user": {
      "displayName": "Tanmay Hajare",
      "userId": "05037382924936965487"
     },
     "user_tz": -330
    },
    "id": "5f187ccb",
    "outputId": "d15cf307-bb11-4f01-cd43-4eada3215553"
   },
   "outputs": [
    {
     "name": "stdout",
     "output_type": "stream",
     "text": [
      "<class 'pandas.core.frame.DataFrame'>\n",
      "RangeIndex: 1000 entries, 0 to 999\n",
      "Data columns (total 27 columns):\n",
      " #   Column                       Non-Null Count  Dtype  \n",
      "---  ------                       --------------  -----  \n",
      " 0   months_as_customer           1000 non-null   int64  \n",
      " 1   age                          1000 non-null   int64  \n",
      " 2   policy_csl                   1000 non-null   object \n",
      " 3   policy_deductable            1000 non-null   int64  \n",
      " 4   policy_annual_premium        1000 non-null   float64\n",
      " 5   umbrella_limit               1000 non-null   int64  \n",
      " 6   insured_sex                  1000 non-null   object \n",
      " 7   insured_education_level      1000 non-null   object \n",
      " 8   insured_occupation           1000 non-null   object \n",
      " 9   insured_relationship         1000 non-null   object \n",
      " 10  capital-gains                1000 non-null   int64  \n",
      " 11  capital-loss                 1000 non-null   int64  \n",
      " 12  incident_type                1000 non-null   object \n",
      " 13  collision_type               1000 non-null   object \n",
      " 14  incident_severity            1000 non-null   object \n",
      " 15  authorities_contacted        1000 non-null   object \n",
      " 16  incident_hour_of_the_day     1000 non-null   int64  \n",
      " 17  number_of_vehicles_involved  1000 non-null   int64  \n",
      " 18  property_damage              1000 non-null   object \n",
      " 19  bodily_injuries              1000 non-null   int64  \n",
      " 20  witnesses                    1000 non-null   int64  \n",
      " 21  police_report_available      1000 non-null   object \n",
      " 22  total_claim_amount           1000 non-null   int64  \n",
      " 23  injury_claim                 1000 non-null   int64  \n",
      " 24  property_claim               1000 non-null   int64  \n",
      " 25  vehicle_claim                1000 non-null   int64  \n",
      " 26  fraud_reported               1000 non-null   object \n",
      "dtypes: float64(1), int64(14), object(12)\n",
      "memory usage: 211.1+ KB\n"
     ]
    }
   ],
   "source": [
    "df.info()"
   ]
  },
  {
   "cell_type": "raw",
   "id": "d14e75f0",
   "metadata": {
    "id": "d14e75f0"
   },
   "source": [
    "# There are 14 numerical columns \n",
    "1. months_as_customer\n",
    "2. age\n",
    "3. policy_deductable\n",
    "4. umbrella_limit\n",
    "5. capital-gains\n",
    "6. capital-loss\n",
    "7. incident_hour_of_the_day\n",
    "8. number_of_vehicles_involved\n",
    "9. bodily_injuries\n",
    "10. witnesses\n",
    "11. total_claim_amount\n",
    "12. injury_claim\n",
    "13. property_claim\n",
    "14. vehicle_claim"
   ]
  },
  {
   "cell_type": "raw",
   "id": "2799941b",
   "metadata": {
    "id": "2799941b"
   },
   "source": [
    "# there are 1 float column \n",
    "1. policy_annual_premium"
   ]
  },
  {
   "cell_type": "raw",
   "id": "c368ab36",
   "metadata": {
    "id": "c368ab36"
   },
   "source": [
    "# there are 12 Categorical columns in this dataset \n",
    "1.policy_csl \n",
    "2.insured_sex \n",
    "3.insured_education_level\n",
    "4.insured_occupation\n",
    "5.insured_relationship\n",
    "6.incident_type\n",
    "7.collision_type \n",
    "8.incident_severity\n",
    "9.authorities_contacted\n",
    "10.property_damage\n",
    "11.police_report_available\n",
    "12.fraud_reported"
   ]
  },
  {
   "cell_type": "markdown",
   "id": "dd5a911f",
   "metadata": {
    "id": "dd5a911f"
   },
   "source": [
    "### there is 27 column in dataset in that 15 numerical and 12 categorical "
   ]
  },
  {
   "cell_type": "markdown",
   "id": "f4cb90ea",
   "metadata": {
    "id": "f4cb90ea"
   },
   "source": [
    "### 1.4 Check Null values"
   ]
  },
  {
   "cell_type": "code",
   "execution_count": 8,
   "id": "f0d87571",
   "metadata": {
    "colab": {
     "base_uri": "https://localhost:8080/"
    },
    "executionInfo": {
     "elapsed": 208,
     "status": "ok",
     "timestamp": 1678212417581,
     "user": {
      "displayName": "Tanmay Hajare",
      "userId": "05037382924936965487"
     },
     "user_tz": -330
    },
    "id": "f0d87571",
    "outputId": "a51cccad-b2ed-481d-f506-2ac6630533b6"
   },
   "outputs": [
    {
     "data": {
      "text/plain": [
       "months_as_customer             0\n",
       "age                            0\n",
       "policy_csl                     0\n",
       "policy_deductable              0\n",
       "policy_annual_premium          0\n",
       "umbrella_limit                 0\n",
       "insured_sex                    0\n",
       "insured_education_level        0\n",
       "insured_occupation             0\n",
       "insured_relationship           0\n",
       "capital-gains                  0\n",
       "capital-loss                   0\n",
       "incident_type                  0\n",
       "collision_type                 0\n",
       "incident_severity              0\n",
       "authorities_contacted          0\n",
       "incident_hour_of_the_day       0\n",
       "number_of_vehicles_involved    0\n",
       "property_damage                0\n",
       "bodily_injuries                0\n",
       "witnesses                      0\n",
       "police_report_available        0\n",
       "total_claim_amount             0\n",
       "injury_claim                   0\n",
       "property_claim                 0\n",
       "vehicle_claim                  0\n",
       "fraud_reported                 0\n",
       "dtype: int64"
      ]
     },
     "execution_count": 8,
     "metadata": {},
     "output_type": "execute_result"
    }
   ],
   "source": [
    "df.isnull().sum()"
   ]
  },
  {
   "cell_type": "markdown",
   "id": "a18d65b7",
   "metadata": {
    "id": "a18d65b7"
   },
   "source": [
    "### 1.5 Check Unique Value of all 12 Categorical columns "
   ]
  },
  {
   "cell_type": "code",
   "execution_count": 9,
   "id": "a79da715",
   "metadata": {
    "colab": {
     "base_uri": "https://localhost:8080/"
    },
    "executionInfo": {
     "elapsed": 195,
     "status": "ok",
     "timestamp": 1678212417583,
     "user": {
      "displayName": "Tanmay Hajare",
      "userId": "05037382924936965487"
     },
     "user_tz": -330
    },
    "id": "a79da715",
    "outputId": "3302a919-dc99-4b1d-ef50-f1530d592d3d"
   },
   "outputs": [
    {
     "data": {
      "text/plain": [
       "array(['250/500', '100/300', '500/1000'], dtype=object)"
      ]
     },
     "execution_count": 9,
     "metadata": {},
     "output_type": "execute_result"
    }
   ],
   "source": [
    "df[\"policy_csl\"].unique()"
   ]
  },
  {
   "cell_type": "code",
   "execution_count": 10,
   "id": "0542b19a",
   "metadata": {
    "colab": {
     "base_uri": "https://localhost:8080/"
    },
    "executionInfo": {
     "elapsed": 187,
     "status": "ok",
     "timestamp": 1678212417585,
     "user": {
      "displayName": "Tanmay Hajare",
      "userId": "05037382924936965487"
     },
     "user_tz": -330
    },
    "id": "0542b19a",
    "outputId": "e2d1618e-05a8-49e8-ba29-c3ab281ab4f3"
   },
   "outputs": [
    {
     "data": {
      "text/plain": [
       "array(['MALE', 'FEMALE'], dtype=object)"
      ]
     },
     "execution_count": 10,
     "metadata": {},
     "output_type": "execute_result"
    }
   ],
   "source": [
    "df[\"insured_sex\"].unique()"
   ]
  },
  {
   "cell_type": "code",
   "execution_count": 11,
   "id": "5297adfd",
   "metadata": {
    "colab": {
     "base_uri": "https://localhost:8080/"
    },
    "executionInfo": {
     "elapsed": 179,
     "status": "ok",
     "timestamp": 1678212417587,
     "user": {
      "displayName": "Tanmay Hajare",
      "userId": "05037382924936965487"
     },
     "user_tz": -330
    },
    "id": "5297adfd",
    "outputId": "324d3e8c-3ed1-4c1b-e5fd-4d1edcfe3ab0"
   },
   "outputs": [
    {
     "data": {
      "text/plain": [
       "array(['MD', 'PhD', 'Associate', 'Masters', 'High School', 'College',\n",
       "       'JD'], dtype=object)"
      ]
     },
     "execution_count": 11,
     "metadata": {},
     "output_type": "execute_result"
    }
   ],
   "source": [
    "df[\"insured_education_level\"].unique()"
   ]
  },
  {
   "cell_type": "code",
   "execution_count": 12,
   "id": "64dda45d",
   "metadata": {
    "colab": {
     "base_uri": "https://localhost:8080/"
    },
    "executionInfo": {
     "elapsed": 173,
     "status": "ok",
     "timestamp": 1678212417589,
     "user": {
      "displayName": "Tanmay Hajare",
      "userId": "05037382924936965487"
     },
     "user_tz": -330
    },
    "id": "64dda45d",
    "outputId": "b5580a60-1a8d-4122-898e-a8c0c43c47d7"
   },
   "outputs": [
    {
     "data": {
      "text/plain": [
       "array(['craft-repair', 'machine-op-inspct', 'sales', 'armed-forces',\n",
       "       'tech-support', 'prof-specialty', 'other-service',\n",
       "       'priv-house-serv', 'exec-managerial', 'protective-serv',\n",
       "       'transport-moving', 'handlers-cleaners', 'adm-clerical',\n",
       "       'farming-fishing'], dtype=object)"
      ]
     },
     "execution_count": 12,
     "metadata": {},
     "output_type": "execute_result"
    }
   ],
   "source": [
    "df[\"insured_occupation\"].unique()"
   ]
  },
  {
   "cell_type": "code",
   "execution_count": 13,
   "id": "331611d6",
   "metadata": {
    "colab": {
     "base_uri": "https://localhost:8080/"
    },
    "executionInfo": {
     "elapsed": 167,
     "status": "ok",
     "timestamp": 1678212417590,
     "user": {
      "displayName": "Tanmay Hajare",
      "userId": "05037382924936965487"
     },
     "user_tz": -330
    },
    "id": "331611d6",
    "outputId": "9a884b26-8e23-4826-d8d5-a0fc2d5a74fb"
   },
   "outputs": [
    {
     "data": {
      "text/plain": [
       "array(['husband', 'other-relative', 'own-child', 'unmarried', 'wife',\n",
       "       'not-in-family'], dtype=object)"
      ]
     },
     "execution_count": 13,
     "metadata": {},
     "output_type": "execute_result"
    }
   ],
   "source": [
    "df[\"insured_relationship\"].unique()"
   ]
  },
  {
   "cell_type": "code",
   "execution_count": 14,
   "id": "fac686b8",
   "metadata": {
    "colab": {
     "base_uri": "https://localhost:8080/"
    },
    "executionInfo": {
     "elapsed": 162,
     "status": "ok",
     "timestamp": 1678212417593,
     "user": {
      "displayName": "Tanmay Hajare",
      "userId": "05037382924936965487"
     },
     "user_tz": -330
    },
    "id": "fac686b8",
    "outputId": "18266739-2f59-4aa8-c1d4-867a2c52e56c"
   },
   "outputs": [
    {
     "data": {
      "text/plain": [
       "array(['Single Vehicle Collision', 'Vehicle Theft',\n",
       "       'Multi-vehicle Collision', 'Parked Car'], dtype=object)"
      ]
     },
     "execution_count": 14,
     "metadata": {},
     "output_type": "execute_result"
    }
   ],
   "source": [
    "df[\"incident_type\"].unique()"
   ]
  },
  {
   "cell_type": "code",
   "execution_count": 15,
   "id": "decabe50",
   "metadata": {
    "colab": {
     "base_uri": "https://localhost:8080/"
    },
    "executionInfo": {
     "elapsed": 156,
     "status": "ok",
     "timestamp": 1678212417595,
     "user": {
      "displayName": "Tanmay Hajare",
      "userId": "05037382924936965487"
     },
     "user_tz": -330
    },
    "id": "decabe50",
    "outputId": "61a0ffe0-feab-4ad1-8242-d2888f68225f"
   },
   "outputs": [
    {
     "data": {
      "text/plain": [
       "array(['Side Collision', '?', 'Rear Collision', 'Front Collision'],\n",
       "      dtype=object)"
      ]
     },
     "execution_count": 15,
     "metadata": {},
     "output_type": "execute_result"
    }
   ],
   "source": [
    "df[\"collision_type\"].unique()"
   ]
  },
  {
   "cell_type": "code",
   "execution_count": 16,
   "id": "98ede186",
   "metadata": {
    "colab": {
     "base_uri": "https://localhost:8080/"
    },
    "executionInfo": {
     "elapsed": 149,
     "status": "ok",
     "timestamp": 1678212417597,
     "user": {
      "displayName": "Tanmay Hajare",
      "userId": "05037382924936965487"
     },
     "user_tz": -330
    },
    "id": "98ede186",
    "outputId": "98657a8c-d8c6-40ec-947d-2f86bbe8d7d1"
   },
   "outputs": [
    {
     "data": {
      "text/plain": [
       "array(['Major Damage', 'Minor Damage', 'Total Loss', 'Trivial Damage'],\n",
       "      dtype=object)"
      ]
     },
     "execution_count": 16,
     "metadata": {},
     "output_type": "execute_result"
    }
   ],
   "source": [
    "df[\"incident_severity\"].unique()"
   ]
  },
  {
   "cell_type": "code",
   "execution_count": 17,
   "id": "abaa1657",
   "metadata": {
    "colab": {
     "base_uri": "https://localhost:8080/"
    },
    "executionInfo": {
     "elapsed": 143,
     "status": "ok",
     "timestamp": 1678212417599,
     "user": {
      "displayName": "Tanmay Hajare",
      "userId": "05037382924936965487"
     },
     "user_tz": -330
    },
    "id": "abaa1657",
    "outputId": "969c52ef-5135-44e9-adcd-cf1b5e5b8177"
   },
   "outputs": [
    {
     "data": {
      "text/plain": [
       "array(['Police', 'None', 'Fire', 'Other', 'Ambulance'], dtype=object)"
      ]
     },
     "execution_count": 17,
     "metadata": {},
     "output_type": "execute_result"
    }
   ],
   "source": [
    "df[\"authorities_contacted\"].unique()"
   ]
  },
  {
   "cell_type": "code",
   "execution_count": 18,
   "id": "b9285546",
   "metadata": {
    "colab": {
     "base_uri": "https://localhost:8080/"
    },
    "executionInfo": {
     "elapsed": 137,
     "status": "ok",
     "timestamp": 1678212417602,
     "user": {
      "displayName": "Tanmay Hajare",
      "userId": "05037382924936965487"
     },
     "user_tz": -330
    },
    "id": "b9285546",
    "outputId": "ba3228c4-3010-40ed-e684-42414c08f8b5"
   },
   "outputs": [
    {
     "data": {
      "text/plain": [
       "array(['YES', '?', 'NO'], dtype=object)"
      ]
     },
     "execution_count": 18,
     "metadata": {},
     "output_type": "execute_result"
    }
   ],
   "source": [
    "df[\"property_damage\"].unique()"
   ]
  },
  {
   "cell_type": "code",
   "execution_count": 19,
   "id": "b245ec9f",
   "metadata": {
    "colab": {
     "base_uri": "https://localhost:8080/"
    },
    "executionInfo": {
     "elapsed": 126,
     "status": "ok",
     "timestamp": 1678212417604,
     "user": {
      "displayName": "Tanmay Hajare",
      "userId": "05037382924936965487"
     },
     "user_tz": -330
    },
    "id": "b245ec9f",
    "outputId": "75465f61-7404-420e-d135-78ad70711ca3"
   },
   "outputs": [
    {
     "data": {
      "text/plain": [
       "array(['YES', '?', 'NO'], dtype=object)"
      ]
     },
     "execution_count": 19,
     "metadata": {},
     "output_type": "execute_result"
    }
   ],
   "source": [
    "df[\"police_report_available\"].unique()"
   ]
  },
  {
   "cell_type": "code",
   "execution_count": 20,
   "id": "741abd6c",
   "metadata": {
    "colab": {
     "base_uri": "https://localhost:8080/"
    },
    "executionInfo": {
     "elapsed": 120,
     "status": "ok",
     "timestamp": 1678212417607,
     "user": {
      "displayName": "Tanmay Hajare",
      "userId": "05037382924936965487"
     },
     "user_tz": -330
    },
    "id": "741abd6c",
    "outputId": "1c05a96e-57e4-4386-8456-9054d17cd1e3"
   },
   "outputs": [
    {
     "data": {
      "text/plain": [
       "array(['Y', 'N'], dtype=object)"
      ]
     },
     "execution_count": 20,
     "metadata": {},
     "output_type": "execute_result"
    }
   ],
   "source": [
    "df[\"fraud_reported\"].unique()"
   ]
  },
  {
   "cell_type": "markdown",
   "id": "cf64c3bd",
   "metadata": {
    "id": "cf64c3bd"
   },
   "source": [
    "### In this dataset [collision type, property damage, police_report_available] categorcal columns present missing value "
   ]
  },
  {
   "cell_type": "markdown",
   "id": "b8e647c5",
   "metadata": {
    "id": "b8e647c5"
   },
   "source": [
    "### 1.6 Replacing missing values with most frequent value"
   ]
  },
  {
   "cell_type": "code",
   "execution_count": 21,
   "id": "e27d447f",
   "metadata": {
    "colab": {
     "base_uri": "https://localhost:8080/"
    },
    "executionInfo": {
     "elapsed": 114,
     "status": "ok",
     "timestamp": 1678212417609,
     "user": {
      "displayName": "Tanmay Hajare",
      "userId": "05037382924936965487"
     },
     "user_tz": -330
    },
    "id": "e27d447f",
    "outputId": "c83f71d0-64d7-4f01-b99b-061eb6261fd1"
   },
   "outputs": [
    {
     "data": {
      "text/plain": [
       "276"
      ]
     },
     "execution_count": 21,
     "metadata": {},
     "output_type": "execute_result"
    }
   ],
   "source": [
    "df[\"collision_type\"].value_counts()[\"Side Collision\"]"
   ]
  },
  {
   "cell_type": "code",
   "execution_count": 22,
   "id": "25a1bd7f",
   "metadata": {
    "colab": {
     "base_uri": "https://localhost:8080/"
    },
    "executionInfo": {
     "elapsed": 109,
     "status": "ok",
     "timestamp": 1678212417613,
     "user": {
      "displayName": "Tanmay Hajare",
      "userId": "05037382924936965487"
     },
     "user_tz": -330
    },
    "id": "25a1bd7f",
    "outputId": "a6656b66-9dff-4e22-ced1-cc6beac750de"
   },
   "outputs": [
    {
     "data": {
      "text/plain": [
       "292"
      ]
     },
     "execution_count": 22,
     "metadata": {},
     "output_type": "execute_result"
    }
   ],
   "source": [
    "df[\"collision_type\"].value_counts()[\"Rear Collision\"]"
   ]
  },
  {
   "cell_type": "code",
   "execution_count": 23,
   "id": "630d7f50",
   "metadata": {
    "colab": {
     "base_uri": "https://localhost:8080/"
    },
    "executionInfo": {
     "elapsed": 103,
     "status": "ok",
     "timestamp": 1678212417615,
     "user": {
      "displayName": "Tanmay Hajare",
      "userId": "05037382924936965487"
     },
     "user_tz": -330
    },
    "id": "630d7f50",
    "outputId": "5e810032-50d4-4441-8b0a-a4695901eb75"
   },
   "outputs": [
    {
     "data": {
      "text/plain": [
       "254"
      ]
     },
     "execution_count": 23,
     "metadata": {},
     "output_type": "execute_result"
    }
   ],
   "source": [
    "df[\"collision_type\"].value_counts()[\"Front Collision\"]"
   ]
  },
  {
   "cell_type": "code",
   "execution_count": 24,
   "id": "9b376a47",
   "metadata": {
    "executionInfo": {
     "elapsed": 97,
     "status": "ok",
     "timestamp": 1678212417616,
     "user": {
      "displayName": "Tanmay Hajare",
      "userId": "05037382924936965487"
     },
     "user_tz": -330
    },
    "id": "9b376a47"
   },
   "outputs": [],
   "source": [
    "# Replace ? with null value\n",
    "df['collision_type'] = df['collision_type'].replace('?','Rear Collision')"
   ]
  },
  {
   "cell_type": "code",
   "execution_count": 25,
   "id": "20735603",
   "metadata": {
    "colab": {
     "base_uri": "https://localhost:8080/",
     "height": 340
    },
    "executionInfo": {
     "elapsed": 766,
     "status": "ok",
     "timestamp": 1678212418287,
     "user": {
      "displayName": "Tanmay Hajare",
      "userId": "05037382924936965487"
     },
     "user_tz": -330
    },
    "id": "20735603",
    "outputId": "9f1690e6-3186-45ae-9457-1490d4a4146a"
   },
   "outputs": [
    {
     "data": {
      "text/html": [
       "<div>\n",
       "<style scoped>\n",
       "    .dataframe tbody tr th:only-of-type {\n",
       "        vertical-align: middle;\n",
       "    }\n",
       "\n",
       "    .dataframe tbody tr th {\n",
       "        vertical-align: top;\n",
       "    }\n",
       "\n",
       "    .dataframe thead th {\n",
       "        text-align: right;\n",
       "    }\n",
       "</style>\n",
       "<table border=\"1\" class=\"dataframe\">\n",
       "  <thead>\n",
       "    <tr style=\"text-align: right;\">\n",
       "      <th></th>\n",
       "      <th>months_as_customer</th>\n",
       "      <th>age</th>\n",
       "      <th>policy_csl</th>\n",
       "      <th>policy_deductable</th>\n",
       "      <th>policy_annual_premium</th>\n",
       "      <th>umbrella_limit</th>\n",
       "      <th>insured_sex</th>\n",
       "      <th>insured_education_level</th>\n",
       "      <th>insured_occupation</th>\n",
       "      <th>insured_relationship</th>\n",
       "      <th>capital-gains</th>\n",
       "      <th>capital-loss</th>\n",
       "      <th>incident_type</th>\n",
       "      <th>collision_type</th>\n",
       "      <th>incident_severity</th>\n",
       "      <th>authorities_contacted</th>\n",
       "      <th>incident_hour_of_the_day</th>\n",
       "      <th>number_of_vehicles_involved</th>\n",
       "      <th>property_damage</th>\n",
       "      <th>bodily_injuries</th>\n",
       "      <th>witnesses</th>\n",
       "      <th>police_report_available</th>\n",
       "      <th>total_claim_amount</th>\n",
       "      <th>injury_claim</th>\n",
       "      <th>property_claim</th>\n",
       "      <th>vehicle_claim</th>\n",
       "      <th>fraud_reported</th>\n",
       "    </tr>\n",
       "  </thead>\n",
       "  <tbody>\n",
       "    <tr>\n",
       "      <th>0</th>\n",
       "      <td>328</td>\n",
       "      <td>48</td>\n",
       "      <td>250/500</td>\n",
       "      <td>1000</td>\n",
       "      <td>1406.91</td>\n",
       "      <td>0</td>\n",
       "      <td>MALE</td>\n",
       "      <td>MD</td>\n",
       "      <td>craft-repair</td>\n",
       "      <td>husband</td>\n",
       "      <td>53300</td>\n",
       "      <td>0</td>\n",
       "      <td>Single Vehicle Collision</td>\n",
       "      <td>Side Collision</td>\n",
       "      <td>Major Damage</td>\n",
       "      <td>Police</td>\n",
       "      <td>5</td>\n",
       "      <td>1</td>\n",
       "      <td>YES</td>\n",
       "      <td>1</td>\n",
       "      <td>2</td>\n",
       "      <td>YES</td>\n",
       "      <td>71610</td>\n",
       "      <td>6510</td>\n",
       "      <td>13020</td>\n",
       "      <td>52080</td>\n",
       "      <td>Y</td>\n",
       "    </tr>\n",
       "    <tr>\n",
       "      <th>1</th>\n",
       "      <td>228</td>\n",
       "      <td>42</td>\n",
       "      <td>250/500</td>\n",
       "      <td>2000</td>\n",
       "      <td>1197.22</td>\n",
       "      <td>5000000</td>\n",
       "      <td>MALE</td>\n",
       "      <td>MD</td>\n",
       "      <td>machine-op-inspct</td>\n",
       "      <td>other-relative</td>\n",
       "      <td>0</td>\n",
       "      <td>0</td>\n",
       "      <td>Vehicle Theft</td>\n",
       "      <td>Rear Collision</td>\n",
       "      <td>Minor Damage</td>\n",
       "      <td>Police</td>\n",
       "      <td>8</td>\n",
       "      <td>1</td>\n",
       "      <td>?</td>\n",
       "      <td>0</td>\n",
       "      <td>0</td>\n",
       "      <td>?</td>\n",
       "      <td>5070</td>\n",
       "      <td>780</td>\n",
       "      <td>780</td>\n",
       "      <td>3510</td>\n",
       "      <td>Y</td>\n",
       "    </tr>\n",
       "    <tr>\n",
       "      <th>2</th>\n",
       "      <td>134</td>\n",
       "      <td>29</td>\n",
       "      <td>100/300</td>\n",
       "      <td>2000</td>\n",
       "      <td>1413.14</td>\n",
       "      <td>5000000</td>\n",
       "      <td>FEMALE</td>\n",
       "      <td>PhD</td>\n",
       "      <td>sales</td>\n",
       "      <td>own-child</td>\n",
       "      <td>35100</td>\n",
       "      <td>0</td>\n",
       "      <td>Multi-vehicle Collision</td>\n",
       "      <td>Rear Collision</td>\n",
       "      <td>Minor Damage</td>\n",
       "      <td>Police</td>\n",
       "      <td>7</td>\n",
       "      <td>3</td>\n",
       "      <td>NO</td>\n",
       "      <td>2</td>\n",
       "      <td>3</td>\n",
       "      <td>NO</td>\n",
       "      <td>34650</td>\n",
       "      <td>7700</td>\n",
       "      <td>3850</td>\n",
       "      <td>23100</td>\n",
       "      <td>N</td>\n",
       "    </tr>\n",
       "    <tr>\n",
       "      <th>3</th>\n",
       "      <td>256</td>\n",
       "      <td>41</td>\n",
       "      <td>250/500</td>\n",
       "      <td>2000</td>\n",
       "      <td>1415.74</td>\n",
       "      <td>6000000</td>\n",
       "      <td>FEMALE</td>\n",
       "      <td>PhD</td>\n",
       "      <td>armed-forces</td>\n",
       "      <td>unmarried</td>\n",
       "      <td>48900</td>\n",
       "      <td>-62400</td>\n",
       "      <td>Single Vehicle Collision</td>\n",
       "      <td>Front Collision</td>\n",
       "      <td>Major Damage</td>\n",
       "      <td>Police</td>\n",
       "      <td>5</td>\n",
       "      <td>1</td>\n",
       "      <td>?</td>\n",
       "      <td>1</td>\n",
       "      <td>2</td>\n",
       "      <td>NO</td>\n",
       "      <td>63400</td>\n",
       "      <td>6340</td>\n",
       "      <td>6340</td>\n",
       "      <td>50720</td>\n",
       "      <td>Y</td>\n",
       "    </tr>\n",
       "    <tr>\n",
       "      <th>4</th>\n",
       "      <td>228</td>\n",
       "      <td>44</td>\n",
       "      <td>500/1000</td>\n",
       "      <td>1000</td>\n",
       "      <td>1583.91</td>\n",
       "      <td>6000000</td>\n",
       "      <td>MALE</td>\n",
       "      <td>Associate</td>\n",
       "      <td>sales</td>\n",
       "      <td>unmarried</td>\n",
       "      <td>66000</td>\n",
       "      <td>-46000</td>\n",
       "      <td>Vehicle Theft</td>\n",
       "      <td>Rear Collision</td>\n",
       "      <td>Minor Damage</td>\n",
       "      <td>None</td>\n",
       "      <td>20</td>\n",
       "      <td>1</td>\n",
       "      <td>NO</td>\n",
       "      <td>0</td>\n",
       "      <td>1</td>\n",
       "      <td>NO</td>\n",
       "      <td>6500</td>\n",
       "      <td>1300</td>\n",
       "      <td>650</td>\n",
       "      <td>4550</td>\n",
       "      <td>N</td>\n",
       "    </tr>\n",
       "  </tbody>\n",
       "</table>\n",
       "</div>"
      ],
      "text/plain": [
       "   months_as_customer  age policy_csl  policy_deductable  \\\n",
       "0                 328   48    250/500               1000   \n",
       "1                 228   42    250/500               2000   \n",
       "2                 134   29    100/300               2000   \n",
       "3                 256   41    250/500               2000   \n",
       "4                 228   44   500/1000               1000   \n",
       "\n",
       "   policy_annual_premium  umbrella_limit insured_sex insured_education_level  \\\n",
       "0                1406.91               0        MALE                      MD   \n",
       "1                1197.22         5000000        MALE                      MD   \n",
       "2                1413.14         5000000      FEMALE                     PhD   \n",
       "3                1415.74         6000000      FEMALE                     PhD   \n",
       "4                1583.91         6000000        MALE               Associate   \n",
       "\n",
       "  insured_occupation insured_relationship  capital-gains  capital-loss  \\\n",
       "0       craft-repair              husband          53300             0   \n",
       "1  machine-op-inspct       other-relative              0             0   \n",
       "2              sales            own-child          35100             0   \n",
       "3       armed-forces            unmarried          48900        -62400   \n",
       "4              sales            unmarried          66000        -46000   \n",
       "\n",
       "              incident_type   collision_type incident_severity  \\\n",
       "0  Single Vehicle Collision   Side Collision      Major Damage   \n",
       "1             Vehicle Theft   Rear Collision      Minor Damage   \n",
       "2   Multi-vehicle Collision   Rear Collision      Minor Damage   \n",
       "3  Single Vehicle Collision  Front Collision      Major Damage   \n",
       "4             Vehicle Theft   Rear Collision      Minor Damage   \n",
       "\n",
       "  authorities_contacted  incident_hour_of_the_day  \\\n",
       "0                Police                         5   \n",
       "1                Police                         8   \n",
       "2                Police                         7   \n",
       "3                Police                         5   \n",
       "4                  None                        20   \n",
       "\n",
       "   number_of_vehicles_involved property_damage  bodily_injuries  witnesses  \\\n",
       "0                            1             YES                1          2   \n",
       "1                            1               ?                0          0   \n",
       "2                            3              NO                2          3   \n",
       "3                            1               ?                1          2   \n",
       "4                            1              NO                0          1   \n",
       "\n",
       "  police_report_available  total_claim_amount  injury_claim  property_claim  \\\n",
       "0                     YES               71610          6510           13020   \n",
       "1                       ?                5070           780             780   \n",
       "2                      NO               34650          7700            3850   \n",
       "3                      NO               63400          6340            6340   \n",
       "4                      NO                6500          1300             650   \n",
       "\n",
       "   vehicle_claim fraud_reported  \n",
       "0          52080              Y  \n",
       "1           3510              Y  \n",
       "2          23100              N  \n",
       "3          50720              Y  \n",
       "4           4550              N  "
      ]
     },
     "execution_count": 25,
     "metadata": {},
     "output_type": "execute_result"
    }
   ],
   "source": [
    "pd.set_option(\"display.max_columns\",40)\n",
    "df.head()"
   ]
  },
  {
   "cell_type": "code",
   "execution_count": 26,
   "id": "bbb3102b",
   "metadata": {
    "colab": {
     "base_uri": "https://localhost:8080/"
    },
    "executionInfo": {
     "elapsed": 193,
     "status": "ok",
     "timestamp": 1678212418290,
     "user": {
      "displayName": "Tanmay Hajare",
      "userId": "05037382924936965487"
     },
     "user_tz": -330
    },
    "id": "bbb3102b",
    "outputId": "a5449927-0c3b-4817-f985-bfcbf4fe89f9"
   },
   "outputs": [
    {
     "data": {
      "text/plain": [
       "array(['YES', '?', 'NO'], dtype=object)"
      ]
     },
     "execution_count": 26,
     "metadata": {},
     "output_type": "execute_result"
    }
   ],
   "source": [
    "df[\"property_damage\"].unique()"
   ]
  },
  {
   "cell_type": "code",
   "execution_count": 27,
   "id": "8bd156a7",
   "metadata": {
    "colab": {
     "base_uri": "https://localhost:8080/"
    },
    "executionInfo": {
     "elapsed": 168,
     "status": "ok",
     "timestamp": 1678212418292,
     "user": {
      "displayName": "Tanmay Hajare",
      "userId": "05037382924936965487"
     },
     "user_tz": -330
    },
    "id": "8bd156a7",
    "outputId": "42618e28-b8ea-4489-ca89-b56015b887bc"
   },
   "outputs": [
    {
     "data": {
      "text/plain": [
       "302"
      ]
     },
     "execution_count": 27,
     "metadata": {},
     "output_type": "execute_result"
    }
   ],
   "source": [
    "df[\"property_damage\"].value_counts()[\"YES\"]"
   ]
  },
  {
   "cell_type": "code",
   "execution_count": 28,
   "id": "3aad82f8",
   "metadata": {
    "colab": {
     "base_uri": "https://localhost:8080/"
    },
    "executionInfo": {
     "elapsed": 160,
     "status": "ok",
     "timestamp": 1678212418294,
     "user": {
      "displayName": "Tanmay Hajare",
      "userId": "05037382924936965487"
     },
     "user_tz": -330
    },
    "id": "3aad82f8",
    "outputId": "3dd607ac-7275-4933-b636-41563d86aaeb"
   },
   "outputs": [
    {
     "data": {
      "text/plain": [
       "338"
      ]
     },
     "execution_count": 28,
     "metadata": {},
     "output_type": "execute_result"
    }
   ],
   "source": [
    "df[\"property_damage\"].value_counts()[\"NO\"]"
   ]
  },
  {
   "cell_type": "code",
   "execution_count": 29,
   "id": "76596ed7",
   "metadata": {
    "executionInfo": {
     "elapsed": 149,
     "status": "ok",
     "timestamp": 1678212418295,
     "user": {
      "displayName": "Tanmay Hajare",
      "userId": "05037382924936965487"
     },
     "user_tz": -330
    },
    "id": "76596ed7"
   },
   "outputs": [],
   "source": [
    "# Replace ? with null value\n",
    "df['property_damage'] = df['property_damage'].replace('?','NO')"
   ]
  },
  {
   "cell_type": "code",
   "execution_count": 30,
   "id": "9caf2052",
   "metadata": {
    "colab": {
     "base_uri": "https://localhost:8080/",
     "height": 340
    },
    "executionInfo": {
     "elapsed": 150,
     "status": "ok",
     "timestamp": 1678212418298,
     "user": {
      "displayName": "Tanmay Hajare",
      "userId": "05037382924936965487"
     },
     "user_tz": -330
    },
    "id": "9caf2052",
    "outputId": "18dd0c1b-9218-4a66-e3fa-395bf15401ef"
   },
   "outputs": [
    {
     "data": {
      "text/html": [
       "<div>\n",
       "<style scoped>\n",
       "    .dataframe tbody tr th:only-of-type {\n",
       "        vertical-align: middle;\n",
       "    }\n",
       "\n",
       "    .dataframe tbody tr th {\n",
       "        vertical-align: top;\n",
       "    }\n",
       "\n",
       "    .dataframe thead th {\n",
       "        text-align: right;\n",
       "    }\n",
       "</style>\n",
       "<table border=\"1\" class=\"dataframe\">\n",
       "  <thead>\n",
       "    <tr style=\"text-align: right;\">\n",
       "      <th></th>\n",
       "      <th>months_as_customer</th>\n",
       "      <th>age</th>\n",
       "      <th>policy_csl</th>\n",
       "      <th>policy_deductable</th>\n",
       "      <th>policy_annual_premium</th>\n",
       "      <th>umbrella_limit</th>\n",
       "      <th>insured_sex</th>\n",
       "      <th>insured_education_level</th>\n",
       "      <th>insured_occupation</th>\n",
       "      <th>insured_relationship</th>\n",
       "      <th>capital-gains</th>\n",
       "      <th>capital-loss</th>\n",
       "      <th>incident_type</th>\n",
       "      <th>collision_type</th>\n",
       "      <th>incident_severity</th>\n",
       "      <th>authorities_contacted</th>\n",
       "      <th>incident_hour_of_the_day</th>\n",
       "      <th>number_of_vehicles_involved</th>\n",
       "      <th>property_damage</th>\n",
       "      <th>bodily_injuries</th>\n",
       "      <th>witnesses</th>\n",
       "      <th>police_report_available</th>\n",
       "      <th>total_claim_amount</th>\n",
       "      <th>injury_claim</th>\n",
       "      <th>property_claim</th>\n",
       "      <th>vehicle_claim</th>\n",
       "      <th>fraud_reported</th>\n",
       "    </tr>\n",
       "  </thead>\n",
       "  <tbody>\n",
       "    <tr>\n",
       "      <th>0</th>\n",
       "      <td>328</td>\n",
       "      <td>48</td>\n",
       "      <td>250/500</td>\n",
       "      <td>1000</td>\n",
       "      <td>1406.91</td>\n",
       "      <td>0</td>\n",
       "      <td>MALE</td>\n",
       "      <td>MD</td>\n",
       "      <td>craft-repair</td>\n",
       "      <td>husband</td>\n",
       "      <td>53300</td>\n",
       "      <td>0</td>\n",
       "      <td>Single Vehicle Collision</td>\n",
       "      <td>Side Collision</td>\n",
       "      <td>Major Damage</td>\n",
       "      <td>Police</td>\n",
       "      <td>5</td>\n",
       "      <td>1</td>\n",
       "      <td>YES</td>\n",
       "      <td>1</td>\n",
       "      <td>2</td>\n",
       "      <td>YES</td>\n",
       "      <td>71610</td>\n",
       "      <td>6510</td>\n",
       "      <td>13020</td>\n",
       "      <td>52080</td>\n",
       "      <td>Y</td>\n",
       "    </tr>\n",
       "    <tr>\n",
       "      <th>1</th>\n",
       "      <td>228</td>\n",
       "      <td>42</td>\n",
       "      <td>250/500</td>\n",
       "      <td>2000</td>\n",
       "      <td>1197.22</td>\n",
       "      <td>5000000</td>\n",
       "      <td>MALE</td>\n",
       "      <td>MD</td>\n",
       "      <td>machine-op-inspct</td>\n",
       "      <td>other-relative</td>\n",
       "      <td>0</td>\n",
       "      <td>0</td>\n",
       "      <td>Vehicle Theft</td>\n",
       "      <td>Rear Collision</td>\n",
       "      <td>Minor Damage</td>\n",
       "      <td>Police</td>\n",
       "      <td>8</td>\n",
       "      <td>1</td>\n",
       "      <td>NO</td>\n",
       "      <td>0</td>\n",
       "      <td>0</td>\n",
       "      <td>?</td>\n",
       "      <td>5070</td>\n",
       "      <td>780</td>\n",
       "      <td>780</td>\n",
       "      <td>3510</td>\n",
       "      <td>Y</td>\n",
       "    </tr>\n",
       "    <tr>\n",
       "      <th>2</th>\n",
       "      <td>134</td>\n",
       "      <td>29</td>\n",
       "      <td>100/300</td>\n",
       "      <td>2000</td>\n",
       "      <td>1413.14</td>\n",
       "      <td>5000000</td>\n",
       "      <td>FEMALE</td>\n",
       "      <td>PhD</td>\n",
       "      <td>sales</td>\n",
       "      <td>own-child</td>\n",
       "      <td>35100</td>\n",
       "      <td>0</td>\n",
       "      <td>Multi-vehicle Collision</td>\n",
       "      <td>Rear Collision</td>\n",
       "      <td>Minor Damage</td>\n",
       "      <td>Police</td>\n",
       "      <td>7</td>\n",
       "      <td>3</td>\n",
       "      <td>NO</td>\n",
       "      <td>2</td>\n",
       "      <td>3</td>\n",
       "      <td>NO</td>\n",
       "      <td>34650</td>\n",
       "      <td>7700</td>\n",
       "      <td>3850</td>\n",
       "      <td>23100</td>\n",
       "      <td>N</td>\n",
       "    </tr>\n",
       "    <tr>\n",
       "      <th>3</th>\n",
       "      <td>256</td>\n",
       "      <td>41</td>\n",
       "      <td>250/500</td>\n",
       "      <td>2000</td>\n",
       "      <td>1415.74</td>\n",
       "      <td>6000000</td>\n",
       "      <td>FEMALE</td>\n",
       "      <td>PhD</td>\n",
       "      <td>armed-forces</td>\n",
       "      <td>unmarried</td>\n",
       "      <td>48900</td>\n",
       "      <td>-62400</td>\n",
       "      <td>Single Vehicle Collision</td>\n",
       "      <td>Front Collision</td>\n",
       "      <td>Major Damage</td>\n",
       "      <td>Police</td>\n",
       "      <td>5</td>\n",
       "      <td>1</td>\n",
       "      <td>NO</td>\n",
       "      <td>1</td>\n",
       "      <td>2</td>\n",
       "      <td>NO</td>\n",
       "      <td>63400</td>\n",
       "      <td>6340</td>\n",
       "      <td>6340</td>\n",
       "      <td>50720</td>\n",
       "      <td>Y</td>\n",
       "    </tr>\n",
       "    <tr>\n",
       "      <th>4</th>\n",
       "      <td>228</td>\n",
       "      <td>44</td>\n",
       "      <td>500/1000</td>\n",
       "      <td>1000</td>\n",
       "      <td>1583.91</td>\n",
       "      <td>6000000</td>\n",
       "      <td>MALE</td>\n",
       "      <td>Associate</td>\n",
       "      <td>sales</td>\n",
       "      <td>unmarried</td>\n",
       "      <td>66000</td>\n",
       "      <td>-46000</td>\n",
       "      <td>Vehicle Theft</td>\n",
       "      <td>Rear Collision</td>\n",
       "      <td>Minor Damage</td>\n",
       "      <td>None</td>\n",
       "      <td>20</td>\n",
       "      <td>1</td>\n",
       "      <td>NO</td>\n",
       "      <td>0</td>\n",
       "      <td>1</td>\n",
       "      <td>NO</td>\n",
       "      <td>6500</td>\n",
       "      <td>1300</td>\n",
       "      <td>650</td>\n",
       "      <td>4550</td>\n",
       "      <td>N</td>\n",
       "    </tr>\n",
       "  </tbody>\n",
       "</table>\n",
       "</div>"
      ],
      "text/plain": [
       "   months_as_customer  age policy_csl  policy_deductable  \\\n",
       "0                 328   48    250/500               1000   \n",
       "1                 228   42    250/500               2000   \n",
       "2                 134   29    100/300               2000   \n",
       "3                 256   41    250/500               2000   \n",
       "4                 228   44   500/1000               1000   \n",
       "\n",
       "   policy_annual_premium  umbrella_limit insured_sex insured_education_level  \\\n",
       "0                1406.91               0        MALE                      MD   \n",
       "1                1197.22         5000000        MALE                      MD   \n",
       "2                1413.14         5000000      FEMALE                     PhD   \n",
       "3                1415.74         6000000      FEMALE                     PhD   \n",
       "4                1583.91         6000000        MALE               Associate   \n",
       "\n",
       "  insured_occupation insured_relationship  capital-gains  capital-loss  \\\n",
       "0       craft-repair              husband          53300             0   \n",
       "1  machine-op-inspct       other-relative              0             0   \n",
       "2              sales            own-child          35100             0   \n",
       "3       armed-forces            unmarried          48900        -62400   \n",
       "4              sales            unmarried          66000        -46000   \n",
       "\n",
       "              incident_type   collision_type incident_severity  \\\n",
       "0  Single Vehicle Collision   Side Collision      Major Damage   \n",
       "1             Vehicle Theft   Rear Collision      Minor Damage   \n",
       "2   Multi-vehicle Collision   Rear Collision      Minor Damage   \n",
       "3  Single Vehicle Collision  Front Collision      Major Damage   \n",
       "4             Vehicle Theft   Rear Collision      Minor Damage   \n",
       "\n",
       "  authorities_contacted  incident_hour_of_the_day  \\\n",
       "0                Police                         5   \n",
       "1                Police                         8   \n",
       "2                Police                         7   \n",
       "3                Police                         5   \n",
       "4                  None                        20   \n",
       "\n",
       "   number_of_vehicles_involved property_damage  bodily_injuries  witnesses  \\\n",
       "0                            1             YES                1          2   \n",
       "1                            1              NO                0          0   \n",
       "2                            3              NO                2          3   \n",
       "3                            1              NO                1          2   \n",
       "4                            1              NO                0          1   \n",
       "\n",
       "  police_report_available  total_claim_amount  injury_claim  property_claim  \\\n",
       "0                     YES               71610          6510           13020   \n",
       "1                       ?                5070           780             780   \n",
       "2                      NO               34650          7700            3850   \n",
       "3                      NO               63400          6340            6340   \n",
       "4                      NO                6500          1300             650   \n",
       "\n",
       "   vehicle_claim fraud_reported  \n",
       "0          52080              Y  \n",
       "1           3510              Y  \n",
       "2          23100              N  \n",
       "3          50720              Y  \n",
       "4           4550              N  "
      ]
     },
     "execution_count": 30,
     "metadata": {},
     "output_type": "execute_result"
    }
   ],
   "source": [
    "pd.set_option(\"display.max_columns\",40)\n",
    "df.head()"
   ]
  },
  {
   "cell_type": "code",
   "execution_count": 31,
   "id": "240579b7",
   "metadata": {
    "colab": {
     "base_uri": "https://localhost:8080/"
    },
    "executionInfo": {
     "elapsed": 154,
     "status": "ok",
     "timestamp": 1678212418307,
     "user": {
      "displayName": "Tanmay Hajare",
      "userId": "05037382924936965487"
     },
     "user_tz": -330
    },
    "id": "240579b7",
    "outputId": "b2d10789-c07e-4bc3-ef4d-ecb0184b8e2c"
   },
   "outputs": [
    {
     "data": {
      "text/plain": [
       "array(['YES', '?', 'NO'], dtype=object)"
      ]
     },
     "execution_count": 31,
     "metadata": {},
     "output_type": "execute_result"
    }
   ],
   "source": [
    "df[\"police_report_available\"].unique()"
   ]
  },
  {
   "cell_type": "code",
   "execution_count": 32,
   "id": "eb463463",
   "metadata": {
    "colab": {
     "base_uri": "https://localhost:8080/"
    },
    "executionInfo": {
     "elapsed": 142,
     "status": "ok",
     "timestamp": 1678212418309,
     "user": {
      "displayName": "Tanmay Hajare",
      "userId": "05037382924936965487"
     },
     "user_tz": -330
    },
    "id": "eb463463",
    "outputId": "ff5d7204-5eef-445d-e97b-fcc9ac3b2148"
   },
   "outputs": [
    {
     "data": {
      "text/plain": [
       "314"
      ]
     },
     "execution_count": 32,
     "metadata": {},
     "output_type": "execute_result"
    }
   ],
   "source": [
    "df[\"police_report_available\"].value_counts()[\"YES\"]"
   ]
  },
  {
   "cell_type": "code",
   "execution_count": 33,
   "id": "56ce0e98",
   "metadata": {
    "colab": {
     "base_uri": "https://localhost:8080/"
    },
    "executionInfo": {
     "elapsed": 136,
     "status": "ok",
     "timestamp": 1678212418311,
     "user": {
      "displayName": "Tanmay Hajare",
      "userId": "05037382924936965487"
     },
     "user_tz": -330
    },
    "id": "56ce0e98",
    "outputId": "d2b646f6-fd9c-45c2-bd01-8f6d5b7f1b57"
   },
   "outputs": [
    {
     "data": {
      "text/plain": [
       "343"
      ]
     },
     "execution_count": 33,
     "metadata": {},
     "output_type": "execute_result"
    }
   ],
   "source": [
    "df[\"police_report_available\"].value_counts()[\"NO\"]"
   ]
  },
  {
   "cell_type": "code",
   "execution_count": 34,
   "id": "d405103d",
   "metadata": {
    "executionInfo": {
     "elapsed": 130,
     "status": "ok",
     "timestamp": 1678212418313,
     "user": {
      "displayName": "Tanmay Hajare",
      "userId": "05037382924936965487"
     },
     "user_tz": -330
    },
    "id": "d405103d"
   },
   "outputs": [],
   "source": [
    "# Replace ? with null value\n",
    "df['police_report_available'] = df['police_report_available'].replace('?','NO')"
   ]
  },
  {
   "cell_type": "code",
   "execution_count": 35,
   "id": "8efd1932",
   "metadata": {
    "colab": {
     "base_uri": "https://localhost:8080/",
     "height": 340
    },
    "executionInfo": {
     "elapsed": 131,
     "status": "ok",
     "timestamp": 1678212418315,
     "user": {
      "displayName": "Tanmay Hajare",
      "userId": "05037382924936965487"
     },
     "user_tz": -330
    },
    "id": "8efd1932",
    "outputId": "71a88450-59f9-4273-c6b5-8d4e77ecc613"
   },
   "outputs": [
    {
     "data": {
      "text/html": [
       "<div>\n",
       "<style scoped>\n",
       "    .dataframe tbody tr th:only-of-type {\n",
       "        vertical-align: middle;\n",
       "    }\n",
       "\n",
       "    .dataframe tbody tr th {\n",
       "        vertical-align: top;\n",
       "    }\n",
       "\n",
       "    .dataframe thead th {\n",
       "        text-align: right;\n",
       "    }\n",
       "</style>\n",
       "<table border=\"1\" class=\"dataframe\">\n",
       "  <thead>\n",
       "    <tr style=\"text-align: right;\">\n",
       "      <th></th>\n",
       "      <th>months_as_customer</th>\n",
       "      <th>age</th>\n",
       "      <th>policy_csl</th>\n",
       "      <th>policy_deductable</th>\n",
       "      <th>policy_annual_premium</th>\n",
       "      <th>umbrella_limit</th>\n",
       "      <th>insured_sex</th>\n",
       "      <th>insured_education_level</th>\n",
       "      <th>insured_occupation</th>\n",
       "      <th>insured_relationship</th>\n",
       "      <th>capital-gains</th>\n",
       "      <th>capital-loss</th>\n",
       "      <th>incident_type</th>\n",
       "      <th>collision_type</th>\n",
       "      <th>incident_severity</th>\n",
       "      <th>authorities_contacted</th>\n",
       "      <th>incident_hour_of_the_day</th>\n",
       "      <th>number_of_vehicles_involved</th>\n",
       "      <th>property_damage</th>\n",
       "      <th>bodily_injuries</th>\n",
       "      <th>witnesses</th>\n",
       "      <th>police_report_available</th>\n",
       "      <th>total_claim_amount</th>\n",
       "      <th>injury_claim</th>\n",
       "      <th>property_claim</th>\n",
       "      <th>vehicle_claim</th>\n",
       "      <th>fraud_reported</th>\n",
       "    </tr>\n",
       "  </thead>\n",
       "  <tbody>\n",
       "    <tr>\n",
       "      <th>0</th>\n",
       "      <td>328</td>\n",
       "      <td>48</td>\n",
       "      <td>250/500</td>\n",
       "      <td>1000</td>\n",
       "      <td>1406.91</td>\n",
       "      <td>0</td>\n",
       "      <td>MALE</td>\n",
       "      <td>MD</td>\n",
       "      <td>craft-repair</td>\n",
       "      <td>husband</td>\n",
       "      <td>53300</td>\n",
       "      <td>0</td>\n",
       "      <td>Single Vehicle Collision</td>\n",
       "      <td>Side Collision</td>\n",
       "      <td>Major Damage</td>\n",
       "      <td>Police</td>\n",
       "      <td>5</td>\n",
       "      <td>1</td>\n",
       "      <td>YES</td>\n",
       "      <td>1</td>\n",
       "      <td>2</td>\n",
       "      <td>YES</td>\n",
       "      <td>71610</td>\n",
       "      <td>6510</td>\n",
       "      <td>13020</td>\n",
       "      <td>52080</td>\n",
       "      <td>Y</td>\n",
       "    </tr>\n",
       "    <tr>\n",
       "      <th>1</th>\n",
       "      <td>228</td>\n",
       "      <td>42</td>\n",
       "      <td>250/500</td>\n",
       "      <td>2000</td>\n",
       "      <td>1197.22</td>\n",
       "      <td>5000000</td>\n",
       "      <td>MALE</td>\n",
       "      <td>MD</td>\n",
       "      <td>machine-op-inspct</td>\n",
       "      <td>other-relative</td>\n",
       "      <td>0</td>\n",
       "      <td>0</td>\n",
       "      <td>Vehicle Theft</td>\n",
       "      <td>Rear Collision</td>\n",
       "      <td>Minor Damage</td>\n",
       "      <td>Police</td>\n",
       "      <td>8</td>\n",
       "      <td>1</td>\n",
       "      <td>NO</td>\n",
       "      <td>0</td>\n",
       "      <td>0</td>\n",
       "      <td>NO</td>\n",
       "      <td>5070</td>\n",
       "      <td>780</td>\n",
       "      <td>780</td>\n",
       "      <td>3510</td>\n",
       "      <td>Y</td>\n",
       "    </tr>\n",
       "    <tr>\n",
       "      <th>2</th>\n",
       "      <td>134</td>\n",
       "      <td>29</td>\n",
       "      <td>100/300</td>\n",
       "      <td>2000</td>\n",
       "      <td>1413.14</td>\n",
       "      <td>5000000</td>\n",
       "      <td>FEMALE</td>\n",
       "      <td>PhD</td>\n",
       "      <td>sales</td>\n",
       "      <td>own-child</td>\n",
       "      <td>35100</td>\n",
       "      <td>0</td>\n",
       "      <td>Multi-vehicle Collision</td>\n",
       "      <td>Rear Collision</td>\n",
       "      <td>Minor Damage</td>\n",
       "      <td>Police</td>\n",
       "      <td>7</td>\n",
       "      <td>3</td>\n",
       "      <td>NO</td>\n",
       "      <td>2</td>\n",
       "      <td>3</td>\n",
       "      <td>NO</td>\n",
       "      <td>34650</td>\n",
       "      <td>7700</td>\n",
       "      <td>3850</td>\n",
       "      <td>23100</td>\n",
       "      <td>N</td>\n",
       "    </tr>\n",
       "    <tr>\n",
       "      <th>3</th>\n",
       "      <td>256</td>\n",
       "      <td>41</td>\n",
       "      <td>250/500</td>\n",
       "      <td>2000</td>\n",
       "      <td>1415.74</td>\n",
       "      <td>6000000</td>\n",
       "      <td>FEMALE</td>\n",
       "      <td>PhD</td>\n",
       "      <td>armed-forces</td>\n",
       "      <td>unmarried</td>\n",
       "      <td>48900</td>\n",
       "      <td>-62400</td>\n",
       "      <td>Single Vehicle Collision</td>\n",
       "      <td>Front Collision</td>\n",
       "      <td>Major Damage</td>\n",
       "      <td>Police</td>\n",
       "      <td>5</td>\n",
       "      <td>1</td>\n",
       "      <td>NO</td>\n",
       "      <td>1</td>\n",
       "      <td>2</td>\n",
       "      <td>NO</td>\n",
       "      <td>63400</td>\n",
       "      <td>6340</td>\n",
       "      <td>6340</td>\n",
       "      <td>50720</td>\n",
       "      <td>Y</td>\n",
       "    </tr>\n",
       "    <tr>\n",
       "      <th>4</th>\n",
       "      <td>228</td>\n",
       "      <td>44</td>\n",
       "      <td>500/1000</td>\n",
       "      <td>1000</td>\n",
       "      <td>1583.91</td>\n",
       "      <td>6000000</td>\n",
       "      <td>MALE</td>\n",
       "      <td>Associate</td>\n",
       "      <td>sales</td>\n",
       "      <td>unmarried</td>\n",
       "      <td>66000</td>\n",
       "      <td>-46000</td>\n",
       "      <td>Vehicle Theft</td>\n",
       "      <td>Rear Collision</td>\n",
       "      <td>Minor Damage</td>\n",
       "      <td>None</td>\n",
       "      <td>20</td>\n",
       "      <td>1</td>\n",
       "      <td>NO</td>\n",
       "      <td>0</td>\n",
       "      <td>1</td>\n",
       "      <td>NO</td>\n",
       "      <td>6500</td>\n",
       "      <td>1300</td>\n",
       "      <td>650</td>\n",
       "      <td>4550</td>\n",
       "      <td>N</td>\n",
       "    </tr>\n",
       "  </tbody>\n",
       "</table>\n",
       "</div>"
      ],
      "text/plain": [
       "   months_as_customer  age policy_csl  policy_deductable  \\\n",
       "0                 328   48    250/500               1000   \n",
       "1                 228   42    250/500               2000   \n",
       "2                 134   29    100/300               2000   \n",
       "3                 256   41    250/500               2000   \n",
       "4                 228   44   500/1000               1000   \n",
       "\n",
       "   policy_annual_premium  umbrella_limit insured_sex insured_education_level  \\\n",
       "0                1406.91               0        MALE                      MD   \n",
       "1                1197.22         5000000        MALE                      MD   \n",
       "2                1413.14         5000000      FEMALE                     PhD   \n",
       "3                1415.74         6000000      FEMALE                     PhD   \n",
       "4                1583.91         6000000        MALE               Associate   \n",
       "\n",
       "  insured_occupation insured_relationship  capital-gains  capital-loss  \\\n",
       "0       craft-repair              husband          53300             0   \n",
       "1  machine-op-inspct       other-relative              0             0   \n",
       "2              sales            own-child          35100             0   \n",
       "3       armed-forces            unmarried          48900        -62400   \n",
       "4              sales            unmarried          66000        -46000   \n",
       "\n",
       "              incident_type   collision_type incident_severity  \\\n",
       "0  Single Vehicle Collision   Side Collision      Major Damage   \n",
       "1             Vehicle Theft   Rear Collision      Minor Damage   \n",
       "2   Multi-vehicle Collision   Rear Collision      Minor Damage   \n",
       "3  Single Vehicle Collision  Front Collision      Major Damage   \n",
       "4             Vehicle Theft   Rear Collision      Minor Damage   \n",
       "\n",
       "  authorities_contacted  incident_hour_of_the_day  \\\n",
       "0                Police                         5   \n",
       "1                Police                         8   \n",
       "2                Police                         7   \n",
       "3                Police                         5   \n",
       "4                  None                        20   \n",
       "\n",
       "   number_of_vehicles_involved property_damage  bodily_injuries  witnesses  \\\n",
       "0                            1             YES                1          2   \n",
       "1                            1              NO                0          0   \n",
       "2                            3              NO                2          3   \n",
       "3                            1              NO                1          2   \n",
       "4                            1              NO                0          1   \n",
       "\n",
       "  police_report_available  total_claim_amount  injury_claim  property_claim  \\\n",
       "0                     YES               71610          6510           13020   \n",
       "1                      NO                5070           780             780   \n",
       "2                      NO               34650          7700            3850   \n",
       "3                      NO               63400          6340            6340   \n",
       "4                      NO                6500          1300             650   \n",
       "\n",
       "   vehicle_claim fraud_reported  \n",
       "0          52080              Y  \n",
       "1           3510              Y  \n",
       "2          23100              N  \n",
       "3          50720              Y  \n",
       "4           4550              N  "
      ]
     },
     "execution_count": 35,
     "metadata": {},
     "output_type": "execute_result"
    }
   ],
   "source": [
    "# check the data after replacing missing value from coulmns \n",
    "df.head()"
   ]
  },
  {
   "cell_type": "markdown",
   "id": "f5dcb16b",
   "metadata": {
    "id": "f5dcb16b"
   },
   "source": [
    "### 1.7 Extracting the categorical columns"
   ]
  },
  {
   "cell_type": "code",
   "execution_count": 36,
   "id": "60870241",
   "metadata": {
    "executionInfo": {
     "elapsed": 130,
     "status": "ok",
     "timestamp": 1678212418317,
     "user": {
      "displayName": "Tanmay Hajare",
      "userId": "05037382924936965487"
     },
     "user_tz": -330
    },
    "id": "60870241"
   },
   "outputs": [],
   "source": [
    "cat_df = df.select_dtypes(include=['object']).copy()"
   ]
  },
  {
   "cell_type": "code",
   "execution_count": 37,
   "id": "b7869f24",
   "metadata": {
    "colab": {
     "base_uri": "https://localhost:8080/"
    },
    "executionInfo": {
     "elapsed": 131,
     "status": "ok",
     "timestamp": 1678212418319,
     "user": {
      "displayName": "Tanmay Hajare",
      "userId": "05037382924936965487"
     },
     "user_tz": -330
    },
    "id": "b7869f24",
    "outputId": "8f7f7e01-1c3b-4140-e809-4129e78e8d83"
   },
   "outputs": [
    {
     "data": {
      "text/plain": [
       "Index(['policy_csl', 'insured_sex', 'insured_education_level',\n",
       "       'insured_occupation', 'insured_relationship', 'incident_type',\n",
       "       'collision_type', 'incident_severity', 'authorities_contacted',\n",
       "       'property_damage', 'police_report_available', 'fraud_reported'],\n",
       "      dtype='object')"
      ]
     },
     "execution_count": 37,
     "metadata": {},
     "output_type": "execute_result"
    }
   ],
   "source": [
    "cat_df.columns"
   ]
  },
  {
   "cell_type": "code",
   "execution_count": 38,
   "id": "0656625f",
   "metadata": {
    "colab": {
     "base_uri": "https://localhost:8080/",
     "height": 322
    },
    "executionInfo": {
     "elapsed": 127,
     "status": "ok",
     "timestamp": 1678212418323,
     "user": {
      "displayName": "Tanmay Hajare",
      "userId": "05037382924936965487"
     },
     "user_tz": -330
    },
    "id": "0656625f",
    "outputId": "8e4faf83-0598-4756-dada-2872e53b0e0c"
   },
   "outputs": [
    {
     "data": {
      "text/html": [
       "<div>\n",
       "<style scoped>\n",
       "    .dataframe tbody tr th:only-of-type {\n",
       "        vertical-align: middle;\n",
       "    }\n",
       "\n",
       "    .dataframe tbody tr th {\n",
       "        vertical-align: top;\n",
       "    }\n",
       "\n",
       "    .dataframe thead th {\n",
       "        text-align: right;\n",
       "    }\n",
       "</style>\n",
       "<table border=\"1\" class=\"dataframe\">\n",
       "  <thead>\n",
       "    <tr style=\"text-align: right;\">\n",
       "      <th></th>\n",
       "      <th>policy_csl</th>\n",
       "      <th>insured_sex</th>\n",
       "      <th>insured_education_level</th>\n",
       "      <th>insured_occupation</th>\n",
       "      <th>insured_relationship</th>\n",
       "      <th>incident_type</th>\n",
       "      <th>collision_type</th>\n",
       "      <th>incident_severity</th>\n",
       "      <th>authorities_contacted</th>\n",
       "      <th>property_damage</th>\n",
       "      <th>police_report_available</th>\n",
       "      <th>fraud_reported</th>\n",
       "    </tr>\n",
       "  </thead>\n",
       "  <tbody>\n",
       "    <tr>\n",
       "      <th>0</th>\n",
       "      <td>250/500</td>\n",
       "      <td>MALE</td>\n",
       "      <td>MD</td>\n",
       "      <td>craft-repair</td>\n",
       "      <td>husband</td>\n",
       "      <td>Single Vehicle Collision</td>\n",
       "      <td>Side Collision</td>\n",
       "      <td>Major Damage</td>\n",
       "      <td>Police</td>\n",
       "      <td>YES</td>\n",
       "      <td>YES</td>\n",
       "      <td>Y</td>\n",
       "    </tr>\n",
       "    <tr>\n",
       "      <th>1</th>\n",
       "      <td>250/500</td>\n",
       "      <td>MALE</td>\n",
       "      <td>MD</td>\n",
       "      <td>machine-op-inspct</td>\n",
       "      <td>other-relative</td>\n",
       "      <td>Vehicle Theft</td>\n",
       "      <td>Rear Collision</td>\n",
       "      <td>Minor Damage</td>\n",
       "      <td>Police</td>\n",
       "      <td>NO</td>\n",
       "      <td>NO</td>\n",
       "      <td>Y</td>\n",
       "    </tr>\n",
       "    <tr>\n",
       "      <th>2</th>\n",
       "      <td>100/300</td>\n",
       "      <td>FEMALE</td>\n",
       "      <td>PhD</td>\n",
       "      <td>sales</td>\n",
       "      <td>own-child</td>\n",
       "      <td>Multi-vehicle Collision</td>\n",
       "      <td>Rear Collision</td>\n",
       "      <td>Minor Damage</td>\n",
       "      <td>Police</td>\n",
       "      <td>NO</td>\n",
       "      <td>NO</td>\n",
       "      <td>N</td>\n",
       "    </tr>\n",
       "    <tr>\n",
       "      <th>3</th>\n",
       "      <td>250/500</td>\n",
       "      <td>FEMALE</td>\n",
       "      <td>PhD</td>\n",
       "      <td>armed-forces</td>\n",
       "      <td>unmarried</td>\n",
       "      <td>Single Vehicle Collision</td>\n",
       "      <td>Front Collision</td>\n",
       "      <td>Major Damage</td>\n",
       "      <td>Police</td>\n",
       "      <td>NO</td>\n",
       "      <td>NO</td>\n",
       "      <td>Y</td>\n",
       "    </tr>\n",
       "    <tr>\n",
       "      <th>4</th>\n",
       "      <td>500/1000</td>\n",
       "      <td>MALE</td>\n",
       "      <td>Associate</td>\n",
       "      <td>sales</td>\n",
       "      <td>unmarried</td>\n",
       "      <td>Vehicle Theft</td>\n",
       "      <td>Rear Collision</td>\n",
       "      <td>Minor Damage</td>\n",
       "      <td>None</td>\n",
       "      <td>NO</td>\n",
       "      <td>NO</td>\n",
       "      <td>N</td>\n",
       "    </tr>\n",
       "  </tbody>\n",
       "</table>\n",
       "</div>"
      ],
      "text/plain": [
       "  policy_csl insured_sex insured_education_level insured_occupation  \\\n",
       "0    250/500        MALE                      MD       craft-repair   \n",
       "1    250/500        MALE                      MD  machine-op-inspct   \n",
       "2    100/300      FEMALE                     PhD              sales   \n",
       "3    250/500      FEMALE                     PhD       armed-forces   \n",
       "4   500/1000        MALE               Associate              sales   \n",
       "\n",
       "  insured_relationship             incident_type   collision_type  \\\n",
       "0              husband  Single Vehicle Collision   Side Collision   \n",
       "1       other-relative             Vehicle Theft   Rear Collision   \n",
       "2            own-child   Multi-vehicle Collision   Rear Collision   \n",
       "3            unmarried  Single Vehicle Collision  Front Collision   \n",
       "4            unmarried             Vehicle Theft   Rear Collision   \n",
       "\n",
       "  incident_severity authorities_contacted property_damage  \\\n",
       "0      Major Damage                Police             YES   \n",
       "1      Minor Damage                Police              NO   \n",
       "2      Minor Damage                Police              NO   \n",
       "3      Major Damage                Police              NO   \n",
       "4      Minor Damage                  None              NO   \n",
       "\n",
       "  police_report_available fraud_reported  \n",
       "0                     YES              Y  \n",
       "1                      NO              Y  \n",
       "2                      NO              N  \n",
       "3                      NO              Y  \n",
       "4                      NO              N  "
      ]
     },
     "execution_count": 38,
     "metadata": {},
     "output_type": "execute_result"
    }
   ],
   "source": [
    "cat_df.head()"
   ]
  },
  {
   "cell_type": "markdown",
   "id": "671e92fc",
   "metadata": {
    "id": "671e92fc"
   },
   "source": [
    "### 1.8 Encoding Categorical columns "
   ]
  },
  {
   "cell_type": "code",
   "execution_count": 39,
   "id": "4db0fadb",
   "metadata": {
    "executionInfo": {
     "elapsed": 125,
     "status": "ok",
     "timestamp": 1678212418325,
     "user": {
      "displayName": "Tanmay Hajare",
      "userId": "05037382924936965487"
     },
     "user_tz": -330
    },
    "id": "4db0fadb"
   },
   "outputs": [],
   "source": [
    "# custom mapping for encoding [7]\n",
    "cat_df['policy_csl'] = cat_df['policy_csl'].map({'100/300' : 1, '250/500' : 2.5 ,'500/1000':5})\n",
    "cat_df['insured_education_level'] = cat_df['insured_education_level'].map({'JD' : 1, 'High School' : 2,'College':3,'Masters':4,'Associate':5,'MD':6,'PhD':7})\n",
    "cat_df['incident_severity'] = cat_df['incident_severity'].map({'Trivial Damage' : 1, 'Minor Damage' : 2,'Major Damage':3,'Total Loss':4})\n",
    "cat_df['insured_sex'] = cat_df['insured_sex'].map({'FEMALE' : 0, 'MALE' : 1})\n",
    "cat_df['property_damage'] = cat_df['property_damage'].map({'NO' : 0, 'YES' : 1})\n",
    "cat_df['police_report_available'] = cat_df['police_report_available'].map({'NO' : 0, 'YES' : 1})\n",
    "cat_df['fraud_reported'] = cat_df['fraud_reported'].map({'N' : 0, 'Y' : 1})"
   ]
  },
  {
   "cell_type": "code",
   "execution_count": 40,
   "id": "11147f6e",
   "metadata": {
    "executionInfo": {
     "elapsed": 126,
     "status": "ok",
     "timestamp": 1678212418327,
     "user": {
      "displayName": "Tanmay Hajare",
      "userId": "05037382924936965487"
     },
     "user_tz": -330
    },
    "id": "11147f6e"
   },
   "outputs": [],
   "source": [
    "# auto encoding of categorical variables [5]\n",
    "for col in cat_df.drop(columns=['policy_csl','insured_education_level','incident_severity','insured_sex','property_damage','police_report_available','fraud_reported']).columns:\n",
    "    cat_df= pd.get_dummies(cat_df, columns=[col], prefix = [col], drop_first=True)"
   ]
  },
  {
   "cell_type": "code",
   "execution_count": 41,
   "id": "57bea658",
   "metadata": {
    "colab": {
     "base_uri": "https://localhost:8080/",
     "height": 288
    },
    "executionInfo": {
     "elapsed": 128,
     "status": "ok",
     "timestamp": 1678212418329,
     "user": {
      "displayName": "Tanmay Hajare",
      "userId": "05037382924936965487"
     },
     "user_tz": -330
    },
    "id": "57bea658",
    "outputId": "39a3aa46-39db-4daa-993d-523e6e6222d3"
   },
   "outputs": [
    {
     "data": {
      "text/html": [
       "<div>\n",
       "<style scoped>\n",
       "    .dataframe tbody tr th:only-of-type {\n",
       "        vertical-align: middle;\n",
       "    }\n",
       "\n",
       "    .dataframe tbody tr th {\n",
       "        vertical-align: top;\n",
       "    }\n",
       "\n",
       "    .dataframe thead th {\n",
       "        text-align: right;\n",
       "    }\n",
       "</style>\n",
       "<table border=\"1\" class=\"dataframe\">\n",
       "  <thead>\n",
       "    <tr style=\"text-align: right;\">\n",
       "      <th></th>\n",
       "      <th>policy_csl</th>\n",
       "      <th>insured_sex</th>\n",
       "      <th>insured_education_level</th>\n",
       "      <th>incident_severity</th>\n",
       "      <th>property_damage</th>\n",
       "      <th>police_report_available</th>\n",
       "      <th>fraud_reported</th>\n",
       "      <th>insured_occupation_armed-forces</th>\n",
       "      <th>insured_occupation_craft-repair</th>\n",
       "      <th>insured_occupation_exec-managerial</th>\n",
       "      <th>insured_occupation_farming-fishing</th>\n",
       "      <th>insured_occupation_handlers-cleaners</th>\n",
       "      <th>insured_occupation_machine-op-inspct</th>\n",
       "      <th>insured_occupation_other-service</th>\n",
       "      <th>insured_occupation_priv-house-serv</th>\n",
       "      <th>insured_occupation_prof-specialty</th>\n",
       "      <th>insured_occupation_protective-serv</th>\n",
       "      <th>insured_occupation_sales</th>\n",
       "      <th>insured_occupation_tech-support</th>\n",
       "      <th>insured_occupation_transport-moving</th>\n",
       "      <th>insured_relationship_not-in-family</th>\n",
       "      <th>insured_relationship_other-relative</th>\n",
       "      <th>insured_relationship_own-child</th>\n",
       "      <th>insured_relationship_unmarried</th>\n",
       "      <th>insured_relationship_wife</th>\n",
       "      <th>incident_type_Parked Car</th>\n",
       "      <th>incident_type_Single Vehicle Collision</th>\n",
       "      <th>incident_type_Vehicle Theft</th>\n",
       "      <th>collision_type_Rear Collision</th>\n",
       "      <th>collision_type_Side Collision</th>\n",
       "      <th>authorities_contacted_Fire</th>\n",
       "      <th>authorities_contacted_None</th>\n",
       "      <th>authorities_contacted_Other</th>\n",
       "      <th>authorities_contacted_Police</th>\n",
       "    </tr>\n",
       "  </thead>\n",
       "  <tbody>\n",
       "    <tr>\n",
       "      <th>0</th>\n",
       "      <td>2.5</td>\n",
       "      <td>1</td>\n",
       "      <td>6</td>\n",
       "      <td>3</td>\n",
       "      <td>1</td>\n",
       "      <td>1</td>\n",
       "      <td>1</td>\n",
       "      <td>0</td>\n",
       "      <td>1</td>\n",
       "      <td>0</td>\n",
       "      <td>0</td>\n",
       "      <td>0</td>\n",
       "      <td>0</td>\n",
       "      <td>0</td>\n",
       "      <td>0</td>\n",
       "      <td>0</td>\n",
       "      <td>0</td>\n",
       "      <td>0</td>\n",
       "      <td>0</td>\n",
       "      <td>0</td>\n",
       "      <td>0</td>\n",
       "      <td>0</td>\n",
       "      <td>0</td>\n",
       "      <td>0</td>\n",
       "      <td>0</td>\n",
       "      <td>0</td>\n",
       "      <td>1</td>\n",
       "      <td>0</td>\n",
       "      <td>0</td>\n",
       "      <td>1</td>\n",
       "      <td>0</td>\n",
       "      <td>0</td>\n",
       "      <td>0</td>\n",
       "      <td>1</td>\n",
       "    </tr>\n",
       "    <tr>\n",
       "      <th>1</th>\n",
       "      <td>2.5</td>\n",
       "      <td>1</td>\n",
       "      <td>6</td>\n",
       "      <td>2</td>\n",
       "      <td>0</td>\n",
       "      <td>0</td>\n",
       "      <td>1</td>\n",
       "      <td>0</td>\n",
       "      <td>0</td>\n",
       "      <td>0</td>\n",
       "      <td>0</td>\n",
       "      <td>0</td>\n",
       "      <td>1</td>\n",
       "      <td>0</td>\n",
       "      <td>0</td>\n",
       "      <td>0</td>\n",
       "      <td>0</td>\n",
       "      <td>0</td>\n",
       "      <td>0</td>\n",
       "      <td>0</td>\n",
       "      <td>0</td>\n",
       "      <td>1</td>\n",
       "      <td>0</td>\n",
       "      <td>0</td>\n",
       "      <td>0</td>\n",
       "      <td>0</td>\n",
       "      <td>0</td>\n",
       "      <td>1</td>\n",
       "      <td>1</td>\n",
       "      <td>0</td>\n",
       "      <td>0</td>\n",
       "      <td>0</td>\n",
       "      <td>0</td>\n",
       "      <td>1</td>\n",
       "    </tr>\n",
       "    <tr>\n",
       "      <th>2</th>\n",
       "      <td>1.0</td>\n",
       "      <td>0</td>\n",
       "      <td>7</td>\n",
       "      <td>2</td>\n",
       "      <td>0</td>\n",
       "      <td>0</td>\n",
       "      <td>0</td>\n",
       "      <td>0</td>\n",
       "      <td>0</td>\n",
       "      <td>0</td>\n",
       "      <td>0</td>\n",
       "      <td>0</td>\n",
       "      <td>0</td>\n",
       "      <td>0</td>\n",
       "      <td>0</td>\n",
       "      <td>0</td>\n",
       "      <td>0</td>\n",
       "      <td>1</td>\n",
       "      <td>0</td>\n",
       "      <td>0</td>\n",
       "      <td>0</td>\n",
       "      <td>0</td>\n",
       "      <td>1</td>\n",
       "      <td>0</td>\n",
       "      <td>0</td>\n",
       "      <td>0</td>\n",
       "      <td>0</td>\n",
       "      <td>0</td>\n",
       "      <td>1</td>\n",
       "      <td>0</td>\n",
       "      <td>0</td>\n",
       "      <td>0</td>\n",
       "      <td>0</td>\n",
       "      <td>1</td>\n",
       "    </tr>\n",
       "    <tr>\n",
       "      <th>3</th>\n",
       "      <td>2.5</td>\n",
       "      <td>0</td>\n",
       "      <td>7</td>\n",
       "      <td>3</td>\n",
       "      <td>0</td>\n",
       "      <td>0</td>\n",
       "      <td>1</td>\n",
       "      <td>1</td>\n",
       "      <td>0</td>\n",
       "      <td>0</td>\n",
       "      <td>0</td>\n",
       "      <td>0</td>\n",
       "      <td>0</td>\n",
       "      <td>0</td>\n",
       "      <td>0</td>\n",
       "      <td>0</td>\n",
       "      <td>0</td>\n",
       "      <td>0</td>\n",
       "      <td>0</td>\n",
       "      <td>0</td>\n",
       "      <td>0</td>\n",
       "      <td>0</td>\n",
       "      <td>0</td>\n",
       "      <td>1</td>\n",
       "      <td>0</td>\n",
       "      <td>0</td>\n",
       "      <td>1</td>\n",
       "      <td>0</td>\n",
       "      <td>0</td>\n",
       "      <td>0</td>\n",
       "      <td>0</td>\n",
       "      <td>0</td>\n",
       "      <td>0</td>\n",
       "      <td>1</td>\n",
       "    </tr>\n",
       "    <tr>\n",
       "      <th>4</th>\n",
       "      <td>5.0</td>\n",
       "      <td>1</td>\n",
       "      <td>5</td>\n",
       "      <td>2</td>\n",
       "      <td>0</td>\n",
       "      <td>0</td>\n",
       "      <td>0</td>\n",
       "      <td>0</td>\n",
       "      <td>0</td>\n",
       "      <td>0</td>\n",
       "      <td>0</td>\n",
       "      <td>0</td>\n",
       "      <td>0</td>\n",
       "      <td>0</td>\n",
       "      <td>0</td>\n",
       "      <td>0</td>\n",
       "      <td>0</td>\n",
       "      <td>1</td>\n",
       "      <td>0</td>\n",
       "      <td>0</td>\n",
       "      <td>0</td>\n",
       "      <td>0</td>\n",
       "      <td>0</td>\n",
       "      <td>1</td>\n",
       "      <td>0</td>\n",
       "      <td>0</td>\n",
       "      <td>0</td>\n",
       "      <td>1</td>\n",
       "      <td>1</td>\n",
       "      <td>0</td>\n",
       "      <td>0</td>\n",
       "      <td>1</td>\n",
       "      <td>0</td>\n",
       "      <td>0</td>\n",
       "    </tr>\n",
       "  </tbody>\n",
       "</table>\n",
       "</div>"
      ],
      "text/plain": [
       "   policy_csl  insured_sex  insured_education_level  incident_severity  \\\n",
       "0         2.5            1                        6                  3   \n",
       "1         2.5            1                        6                  2   \n",
       "2         1.0            0                        7                  2   \n",
       "3         2.5            0                        7                  3   \n",
       "4         5.0            1                        5                  2   \n",
       "\n",
       "   property_damage  police_report_available  fraud_reported  \\\n",
       "0                1                        1               1   \n",
       "1                0                        0               1   \n",
       "2                0                        0               0   \n",
       "3                0                        0               1   \n",
       "4                0                        0               0   \n",
       "\n",
       "   insured_occupation_armed-forces  insured_occupation_craft-repair  \\\n",
       "0                                0                                1   \n",
       "1                                0                                0   \n",
       "2                                0                                0   \n",
       "3                                1                                0   \n",
       "4                                0                                0   \n",
       "\n",
       "   insured_occupation_exec-managerial  insured_occupation_farming-fishing  \\\n",
       "0                                   0                                   0   \n",
       "1                                   0                                   0   \n",
       "2                                   0                                   0   \n",
       "3                                   0                                   0   \n",
       "4                                   0                                   0   \n",
       "\n",
       "   insured_occupation_handlers-cleaners  insured_occupation_machine-op-inspct  \\\n",
       "0                                     0                                     0   \n",
       "1                                     0                                     1   \n",
       "2                                     0                                     0   \n",
       "3                                     0                                     0   \n",
       "4                                     0                                     0   \n",
       "\n",
       "   insured_occupation_other-service  insured_occupation_priv-house-serv  \\\n",
       "0                                 0                                   0   \n",
       "1                                 0                                   0   \n",
       "2                                 0                                   0   \n",
       "3                                 0                                   0   \n",
       "4                                 0                                   0   \n",
       "\n",
       "   insured_occupation_prof-specialty  insured_occupation_protective-serv  \\\n",
       "0                                  0                                   0   \n",
       "1                                  0                                   0   \n",
       "2                                  0                                   0   \n",
       "3                                  0                                   0   \n",
       "4                                  0                                   0   \n",
       "\n",
       "   insured_occupation_sales  insured_occupation_tech-support  \\\n",
       "0                         0                                0   \n",
       "1                         0                                0   \n",
       "2                         1                                0   \n",
       "3                         0                                0   \n",
       "4                         1                                0   \n",
       "\n",
       "   insured_occupation_transport-moving  insured_relationship_not-in-family  \\\n",
       "0                                    0                                   0   \n",
       "1                                    0                                   0   \n",
       "2                                    0                                   0   \n",
       "3                                    0                                   0   \n",
       "4                                    0                                   0   \n",
       "\n",
       "   insured_relationship_other-relative  insured_relationship_own-child  \\\n",
       "0                                    0                               0   \n",
       "1                                    1                               0   \n",
       "2                                    0                               1   \n",
       "3                                    0                               0   \n",
       "4                                    0                               0   \n",
       "\n",
       "   insured_relationship_unmarried  insured_relationship_wife  \\\n",
       "0                               0                          0   \n",
       "1                               0                          0   \n",
       "2                               0                          0   \n",
       "3                               1                          0   \n",
       "4                               1                          0   \n",
       "\n",
       "   incident_type_Parked Car  incident_type_Single Vehicle Collision  \\\n",
       "0                         0                                       1   \n",
       "1                         0                                       0   \n",
       "2                         0                                       0   \n",
       "3                         0                                       1   \n",
       "4                         0                                       0   \n",
       "\n",
       "   incident_type_Vehicle Theft  collision_type_Rear Collision  \\\n",
       "0                            0                              0   \n",
       "1                            1                              1   \n",
       "2                            0                              1   \n",
       "3                            0                              0   \n",
       "4                            1                              1   \n",
       "\n",
       "   collision_type_Side Collision  authorities_contacted_Fire  \\\n",
       "0                              1                           0   \n",
       "1                              0                           0   \n",
       "2                              0                           0   \n",
       "3                              0                           0   \n",
       "4                              0                           0   \n",
       "\n",
       "   authorities_contacted_None  authorities_contacted_Other  \\\n",
       "0                           0                            0   \n",
       "1                           0                            0   \n",
       "2                           0                            0   \n",
       "3                           0                            0   \n",
       "4                           1                            0   \n",
       "\n",
       "   authorities_contacted_Police  \n",
       "0                             1  \n",
       "1                             1  \n",
       "2                             1  \n",
       "3                             1  \n",
       "4                             0  "
      ]
     },
     "execution_count": 41,
     "metadata": {},
     "output_type": "execute_result"
    }
   ],
   "source": [
    "# data fter encoding\n",
    "cat_df.head()"
   ]
  },
  {
   "cell_type": "markdown",
   "id": "3e3d375c",
   "metadata": {
    "id": "3e3d375c"
   },
   "source": [
    "### 1.9 Check the datatypes after encoding "
   ]
  },
  {
   "cell_type": "code",
   "execution_count": 42,
   "id": "54fe1af7",
   "metadata": {
    "colab": {
     "base_uri": "https://localhost:8080/"
    },
    "executionInfo": {
     "elapsed": 127,
     "status": "ok",
     "timestamp": 1678212418331,
     "user": {
      "displayName": "Tanmay Hajare",
      "userId": "05037382924936965487"
     },
     "user_tz": -330
    },
    "id": "54fe1af7",
    "outputId": "4b835c13-43b7-4a44-ea93-a4dae2ab0bb8"
   },
   "outputs": [
    {
     "name": "stdout",
     "output_type": "stream",
     "text": [
      "<class 'pandas.core.frame.DataFrame'>\n",
      "RangeIndex: 1000 entries, 0 to 999\n",
      "Data columns (total 34 columns):\n",
      " #   Column                                  Non-Null Count  Dtype  \n",
      "---  ------                                  --------------  -----  \n",
      " 0   policy_csl                              1000 non-null   float64\n",
      " 1   insured_sex                             1000 non-null   int64  \n",
      " 2   insured_education_level                 1000 non-null   int64  \n",
      " 3   incident_severity                       1000 non-null   int64  \n",
      " 4   property_damage                         1000 non-null   int64  \n",
      " 5   police_report_available                 1000 non-null   int64  \n",
      " 6   fraud_reported                          1000 non-null   int64  \n",
      " 7   insured_occupation_armed-forces         1000 non-null   uint8  \n",
      " 8   insured_occupation_craft-repair         1000 non-null   uint8  \n",
      " 9   insured_occupation_exec-managerial      1000 non-null   uint8  \n",
      " 10  insured_occupation_farming-fishing      1000 non-null   uint8  \n",
      " 11  insured_occupation_handlers-cleaners    1000 non-null   uint8  \n",
      " 12  insured_occupation_machine-op-inspct    1000 non-null   uint8  \n",
      " 13  insured_occupation_other-service        1000 non-null   uint8  \n",
      " 14  insured_occupation_priv-house-serv      1000 non-null   uint8  \n",
      " 15  insured_occupation_prof-specialty       1000 non-null   uint8  \n",
      " 16  insured_occupation_protective-serv      1000 non-null   uint8  \n",
      " 17  insured_occupation_sales                1000 non-null   uint8  \n",
      " 18  insured_occupation_tech-support         1000 non-null   uint8  \n",
      " 19  insured_occupation_transport-moving     1000 non-null   uint8  \n",
      " 20  insured_relationship_not-in-family      1000 non-null   uint8  \n",
      " 21  insured_relationship_other-relative     1000 non-null   uint8  \n",
      " 22  insured_relationship_own-child          1000 non-null   uint8  \n",
      " 23  insured_relationship_unmarried          1000 non-null   uint8  \n",
      " 24  insured_relationship_wife               1000 non-null   uint8  \n",
      " 25  incident_type_Parked Car                1000 non-null   uint8  \n",
      " 26  incident_type_Single Vehicle Collision  1000 non-null   uint8  \n",
      " 27  incident_type_Vehicle Theft             1000 non-null   uint8  \n",
      " 28  collision_type_Rear Collision           1000 non-null   uint8  \n",
      " 29  collision_type_Side Collision           1000 non-null   uint8  \n",
      " 30  authorities_contacted_Fire              1000 non-null   uint8  \n",
      " 31  authorities_contacted_None              1000 non-null   uint8  \n",
      " 32  authorities_contacted_Other             1000 non-null   uint8  \n",
      " 33  authorities_contacted_Police            1000 non-null   uint8  \n",
      "dtypes: float64(1), int64(6), uint8(27)\n",
      "memory usage: 81.2 KB\n"
     ]
    }
   ],
   "source": [
    "cat_df.info()"
   ]
  },
  {
   "cell_type": "markdown",
   "id": "e46c9b92",
   "metadata": {
    "id": "e46c9b92"
   },
   "source": [
    "### 1.10 Extracting the numerical columns"
   ]
  },
  {
   "cell_type": "code",
   "execution_count": 43,
   "id": "6e06a5cb",
   "metadata": {
    "executionInfo": {
     "elapsed": 120,
     "status": "ok",
     "timestamp": 1678212418333,
     "user": {
      "displayName": "Tanmay Hajare",
      "userId": "05037382924936965487"
     },
     "user_tz": -330
    },
    "id": "6e06a5cb"
   },
   "outputs": [],
   "source": [
    "num_df = df.select_dtypes(include=['int64']).copy()"
   ]
  },
  {
   "cell_type": "code",
   "execution_count": 44,
   "id": "4a20a2ba",
   "metadata": {
    "colab": {
     "base_uri": "https://localhost:8080/"
    },
    "executionInfo": {
     "elapsed": 120,
     "status": "ok",
     "timestamp": 1678212418334,
     "user": {
      "displayName": "Tanmay Hajare",
      "userId": "05037382924936965487"
     },
     "user_tz": -330
    },
    "id": "4a20a2ba",
    "outputId": "093a0fd9-fa37-4d9d-e263-de99bd524526"
   },
   "outputs": [
    {
     "data": {
      "text/plain": [
       "Index(['months_as_customer', 'age', 'policy_deductable', 'umbrella_limit',\n",
       "       'capital-gains', 'capital-loss', 'incident_hour_of_the_day',\n",
       "       'number_of_vehicles_involved', 'bodily_injuries', 'witnesses',\n",
       "       'total_claim_amount', 'injury_claim', 'property_claim',\n",
       "       'vehicle_claim'],\n",
       "      dtype='object')"
      ]
     },
     "execution_count": 44,
     "metadata": {},
     "output_type": "execute_result"
    }
   ],
   "source": [
    "num_df.columns"
   ]
  },
  {
   "cell_type": "code",
   "execution_count": 45,
   "id": "6a4a49ac",
   "metadata": {
    "colab": {
     "base_uri": "https://localhost:8080/",
     "height": 288
    },
    "executionInfo": {
     "elapsed": 109,
     "status": "ok",
     "timestamp": 1678212418336,
     "user": {
      "displayName": "Tanmay Hajare",
      "userId": "05037382924936965487"
     },
     "user_tz": -330
    },
    "id": "6a4a49ac",
    "outputId": "48277213-eab8-4412-c086-9f9f73b4d145"
   },
   "outputs": [
    {
     "data": {
      "text/html": [
       "<div>\n",
       "<style scoped>\n",
       "    .dataframe tbody tr th:only-of-type {\n",
       "        vertical-align: middle;\n",
       "    }\n",
       "\n",
       "    .dataframe tbody tr th {\n",
       "        vertical-align: top;\n",
       "    }\n",
       "\n",
       "    .dataframe thead th {\n",
       "        text-align: right;\n",
       "    }\n",
       "</style>\n",
       "<table border=\"1\" class=\"dataframe\">\n",
       "  <thead>\n",
       "    <tr style=\"text-align: right;\">\n",
       "      <th></th>\n",
       "      <th>months_as_customer</th>\n",
       "      <th>age</th>\n",
       "      <th>policy_deductable</th>\n",
       "      <th>umbrella_limit</th>\n",
       "      <th>capital-gains</th>\n",
       "      <th>capital-loss</th>\n",
       "      <th>incident_hour_of_the_day</th>\n",
       "      <th>number_of_vehicles_involved</th>\n",
       "      <th>bodily_injuries</th>\n",
       "      <th>witnesses</th>\n",
       "      <th>total_claim_amount</th>\n",
       "      <th>injury_claim</th>\n",
       "      <th>property_claim</th>\n",
       "      <th>vehicle_claim</th>\n",
       "    </tr>\n",
       "  </thead>\n",
       "  <tbody>\n",
       "    <tr>\n",
       "      <th>0</th>\n",
       "      <td>328</td>\n",
       "      <td>48</td>\n",
       "      <td>1000</td>\n",
       "      <td>0</td>\n",
       "      <td>53300</td>\n",
       "      <td>0</td>\n",
       "      <td>5</td>\n",
       "      <td>1</td>\n",
       "      <td>1</td>\n",
       "      <td>2</td>\n",
       "      <td>71610</td>\n",
       "      <td>6510</td>\n",
       "      <td>13020</td>\n",
       "      <td>52080</td>\n",
       "    </tr>\n",
       "    <tr>\n",
       "      <th>1</th>\n",
       "      <td>228</td>\n",
       "      <td>42</td>\n",
       "      <td>2000</td>\n",
       "      <td>5000000</td>\n",
       "      <td>0</td>\n",
       "      <td>0</td>\n",
       "      <td>8</td>\n",
       "      <td>1</td>\n",
       "      <td>0</td>\n",
       "      <td>0</td>\n",
       "      <td>5070</td>\n",
       "      <td>780</td>\n",
       "      <td>780</td>\n",
       "      <td>3510</td>\n",
       "    </tr>\n",
       "    <tr>\n",
       "      <th>2</th>\n",
       "      <td>134</td>\n",
       "      <td>29</td>\n",
       "      <td>2000</td>\n",
       "      <td>5000000</td>\n",
       "      <td>35100</td>\n",
       "      <td>0</td>\n",
       "      <td>7</td>\n",
       "      <td>3</td>\n",
       "      <td>2</td>\n",
       "      <td>3</td>\n",
       "      <td>34650</td>\n",
       "      <td>7700</td>\n",
       "      <td>3850</td>\n",
       "      <td>23100</td>\n",
       "    </tr>\n",
       "    <tr>\n",
       "      <th>3</th>\n",
       "      <td>256</td>\n",
       "      <td>41</td>\n",
       "      <td>2000</td>\n",
       "      <td>6000000</td>\n",
       "      <td>48900</td>\n",
       "      <td>-62400</td>\n",
       "      <td>5</td>\n",
       "      <td>1</td>\n",
       "      <td>1</td>\n",
       "      <td>2</td>\n",
       "      <td>63400</td>\n",
       "      <td>6340</td>\n",
       "      <td>6340</td>\n",
       "      <td>50720</td>\n",
       "    </tr>\n",
       "    <tr>\n",
       "      <th>4</th>\n",
       "      <td>228</td>\n",
       "      <td>44</td>\n",
       "      <td>1000</td>\n",
       "      <td>6000000</td>\n",
       "      <td>66000</td>\n",
       "      <td>-46000</td>\n",
       "      <td>20</td>\n",
       "      <td>1</td>\n",
       "      <td>0</td>\n",
       "      <td>1</td>\n",
       "      <td>6500</td>\n",
       "      <td>1300</td>\n",
       "      <td>650</td>\n",
       "      <td>4550</td>\n",
       "    </tr>\n",
       "  </tbody>\n",
       "</table>\n",
       "</div>"
      ],
      "text/plain": [
       "   months_as_customer  age  policy_deductable  umbrella_limit  capital-gains  \\\n",
       "0                 328   48               1000               0          53300   \n",
       "1                 228   42               2000         5000000              0   \n",
       "2                 134   29               2000         5000000          35100   \n",
       "3                 256   41               2000         6000000          48900   \n",
       "4                 228   44               1000         6000000          66000   \n",
       "\n",
       "   capital-loss  incident_hour_of_the_day  number_of_vehicles_involved  \\\n",
       "0             0                         5                            1   \n",
       "1             0                         8                            1   \n",
       "2             0                         7                            3   \n",
       "3        -62400                         5                            1   \n",
       "4        -46000                        20                            1   \n",
       "\n",
       "   bodily_injuries  witnesses  total_claim_amount  injury_claim  \\\n",
       "0                1          2               71610          6510   \n",
       "1                0          0                5070           780   \n",
       "2                2          3               34650          7700   \n",
       "3                1          2               63400          6340   \n",
       "4                0          1                6500          1300   \n",
       "\n",
       "   property_claim  vehicle_claim  \n",
       "0           13020          52080  \n",
       "1             780           3510  \n",
       "2            3850          23100  \n",
       "3            6340          50720  \n",
       "4             650           4550  "
      ]
     },
     "execution_count": 45,
     "metadata": {},
     "output_type": "execute_result"
    }
   ],
   "source": [
    "num_df.head()"
   ]
  },
  {
   "cell_type": "markdown",
   "id": "0b5bed7d",
   "metadata": {
    "id": "0b5bed7d"
   },
   "source": [
    "### 1.11 combining the Numerical and categorical dataframes"
   ]
  },
  {
   "cell_type": "code",
   "execution_count": 46,
   "id": "10069f0e",
   "metadata": {
    "executionInfo": {
     "elapsed": 1088,
     "status": "ok",
     "timestamp": 1678212419318,
     "user": {
      "displayName": "Tanmay Hajare",
      "userId": "05037382924936965487"
     },
     "user_tz": -330
    },
    "id": "10069f0e"
   },
   "outputs": [],
   "source": [
    "# combining the Numerical and categorical dataframes to get the final dataset\n",
    "final_df=pd.concat([num_df,cat_df], axis=1)"
   ]
  },
  {
   "cell_type": "code",
   "execution_count": 47,
   "id": "d5e7bd04",
   "metadata": {
    "colab": {
     "base_uri": "https://localhost:8080/",
     "height": 317
    },
    "executionInfo": {
     "elapsed": 131,
     "status": "ok",
     "timestamp": 1678212419319,
     "user": {
      "displayName": "Tanmay Hajare",
      "userId": "05037382924936965487"
     },
     "user_tz": -330
    },
    "id": "d5e7bd04",
    "outputId": "c8cfab8c-6a70-4bc3-8ba4-8c17dde121e5"
   },
   "outputs": [
    {
     "data": {
      "text/html": [
       "<div>\n",
       "<style scoped>\n",
       "    .dataframe tbody tr th:only-of-type {\n",
       "        vertical-align: middle;\n",
       "    }\n",
       "\n",
       "    .dataframe tbody tr th {\n",
       "        vertical-align: top;\n",
       "    }\n",
       "\n",
       "    .dataframe thead th {\n",
       "        text-align: right;\n",
       "    }\n",
       "</style>\n",
       "<table border=\"1\" class=\"dataframe\">\n",
       "  <thead>\n",
       "    <tr style=\"text-align: right;\">\n",
       "      <th></th>\n",
       "      <th>months_as_customer</th>\n",
       "      <th>age</th>\n",
       "      <th>policy_deductable</th>\n",
       "      <th>umbrella_limit</th>\n",
       "      <th>capital-gains</th>\n",
       "      <th>capital-loss</th>\n",
       "      <th>incident_hour_of_the_day</th>\n",
       "      <th>number_of_vehicles_involved</th>\n",
       "      <th>bodily_injuries</th>\n",
       "      <th>witnesses</th>\n",
       "      <th>total_claim_amount</th>\n",
       "      <th>injury_claim</th>\n",
       "      <th>property_claim</th>\n",
       "      <th>vehicle_claim</th>\n",
       "      <th>policy_csl</th>\n",
       "      <th>insured_sex</th>\n",
       "      <th>insured_education_level</th>\n",
       "      <th>incident_severity</th>\n",
       "      <th>property_damage</th>\n",
       "      <th>police_report_available</th>\n",
       "      <th>...</th>\n",
       "      <th>insured_occupation_priv-house-serv</th>\n",
       "      <th>insured_occupation_prof-specialty</th>\n",
       "      <th>insured_occupation_protective-serv</th>\n",
       "      <th>insured_occupation_sales</th>\n",
       "      <th>insured_occupation_tech-support</th>\n",
       "      <th>insured_occupation_transport-moving</th>\n",
       "      <th>insured_relationship_not-in-family</th>\n",
       "      <th>insured_relationship_other-relative</th>\n",
       "      <th>insured_relationship_own-child</th>\n",
       "      <th>insured_relationship_unmarried</th>\n",
       "      <th>insured_relationship_wife</th>\n",
       "      <th>incident_type_Parked Car</th>\n",
       "      <th>incident_type_Single Vehicle Collision</th>\n",
       "      <th>incident_type_Vehicle Theft</th>\n",
       "      <th>collision_type_Rear Collision</th>\n",
       "      <th>collision_type_Side Collision</th>\n",
       "      <th>authorities_contacted_Fire</th>\n",
       "      <th>authorities_contacted_None</th>\n",
       "      <th>authorities_contacted_Other</th>\n",
       "      <th>authorities_contacted_Police</th>\n",
       "    </tr>\n",
       "  </thead>\n",
       "  <tbody>\n",
       "    <tr>\n",
       "      <th>0</th>\n",
       "      <td>328</td>\n",
       "      <td>48</td>\n",
       "      <td>1000</td>\n",
       "      <td>0</td>\n",
       "      <td>53300</td>\n",
       "      <td>0</td>\n",
       "      <td>5</td>\n",
       "      <td>1</td>\n",
       "      <td>1</td>\n",
       "      <td>2</td>\n",
       "      <td>71610</td>\n",
       "      <td>6510</td>\n",
       "      <td>13020</td>\n",
       "      <td>52080</td>\n",
       "      <td>2.5</td>\n",
       "      <td>1</td>\n",
       "      <td>6</td>\n",
       "      <td>3</td>\n",
       "      <td>1</td>\n",
       "      <td>1</td>\n",
       "      <td>...</td>\n",
       "      <td>0</td>\n",
       "      <td>0</td>\n",
       "      <td>0</td>\n",
       "      <td>0</td>\n",
       "      <td>0</td>\n",
       "      <td>0</td>\n",
       "      <td>0</td>\n",
       "      <td>0</td>\n",
       "      <td>0</td>\n",
       "      <td>0</td>\n",
       "      <td>0</td>\n",
       "      <td>0</td>\n",
       "      <td>1</td>\n",
       "      <td>0</td>\n",
       "      <td>0</td>\n",
       "      <td>1</td>\n",
       "      <td>0</td>\n",
       "      <td>0</td>\n",
       "      <td>0</td>\n",
       "      <td>1</td>\n",
       "    </tr>\n",
       "    <tr>\n",
       "      <th>1</th>\n",
       "      <td>228</td>\n",
       "      <td>42</td>\n",
       "      <td>2000</td>\n",
       "      <td>5000000</td>\n",
       "      <td>0</td>\n",
       "      <td>0</td>\n",
       "      <td>8</td>\n",
       "      <td>1</td>\n",
       "      <td>0</td>\n",
       "      <td>0</td>\n",
       "      <td>5070</td>\n",
       "      <td>780</td>\n",
       "      <td>780</td>\n",
       "      <td>3510</td>\n",
       "      <td>2.5</td>\n",
       "      <td>1</td>\n",
       "      <td>6</td>\n",
       "      <td>2</td>\n",
       "      <td>0</td>\n",
       "      <td>0</td>\n",
       "      <td>...</td>\n",
       "      <td>0</td>\n",
       "      <td>0</td>\n",
       "      <td>0</td>\n",
       "      <td>0</td>\n",
       "      <td>0</td>\n",
       "      <td>0</td>\n",
       "      <td>0</td>\n",
       "      <td>1</td>\n",
       "      <td>0</td>\n",
       "      <td>0</td>\n",
       "      <td>0</td>\n",
       "      <td>0</td>\n",
       "      <td>0</td>\n",
       "      <td>1</td>\n",
       "      <td>1</td>\n",
       "      <td>0</td>\n",
       "      <td>0</td>\n",
       "      <td>0</td>\n",
       "      <td>0</td>\n",
       "      <td>1</td>\n",
       "    </tr>\n",
       "    <tr>\n",
       "      <th>2</th>\n",
       "      <td>134</td>\n",
       "      <td>29</td>\n",
       "      <td>2000</td>\n",
       "      <td>5000000</td>\n",
       "      <td>35100</td>\n",
       "      <td>0</td>\n",
       "      <td>7</td>\n",
       "      <td>3</td>\n",
       "      <td>2</td>\n",
       "      <td>3</td>\n",
       "      <td>34650</td>\n",
       "      <td>7700</td>\n",
       "      <td>3850</td>\n",
       "      <td>23100</td>\n",
       "      <td>1.0</td>\n",
       "      <td>0</td>\n",
       "      <td>7</td>\n",
       "      <td>2</td>\n",
       "      <td>0</td>\n",
       "      <td>0</td>\n",
       "      <td>...</td>\n",
       "      <td>0</td>\n",
       "      <td>0</td>\n",
       "      <td>0</td>\n",
       "      <td>1</td>\n",
       "      <td>0</td>\n",
       "      <td>0</td>\n",
       "      <td>0</td>\n",
       "      <td>0</td>\n",
       "      <td>1</td>\n",
       "      <td>0</td>\n",
       "      <td>0</td>\n",
       "      <td>0</td>\n",
       "      <td>0</td>\n",
       "      <td>0</td>\n",
       "      <td>1</td>\n",
       "      <td>0</td>\n",
       "      <td>0</td>\n",
       "      <td>0</td>\n",
       "      <td>0</td>\n",
       "      <td>1</td>\n",
       "    </tr>\n",
       "    <tr>\n",
       "      <th>3</th>\n",
       "      <td>256</td>\n",
       "      <td>41</td>\n",
       "      <td>2000</td>\n",
       "      <td>6000000</td>\n",
       "      <td>48900</td>\n",
       "      <td>-62400</td>\n",
       "      <td>5</td>\n",
       "      <td>1</td>\n",
       "      <td>1</td>\n",
       "      <td>2</td>\n",
       "      <td>63400</td>\n",
       "      <td>6340</td>\n",
       "      <td>6340</td>\n",
       "      <td>50720</td>\n",
       "      <td>2.5</td>\n",
       "      <td>0</td>\n",
       "      <td>7</td>\n",
       "      <td>3</td>\n",
       "      <td>0</td>\n",
       "      <td>0</td>\n",
       "      <td>...</td>\n",
       "      <td>0</td>\n",
       "      <td>0</td>\n",
       "      <td>0</td>\n",
       "      <td>0</td>\n",
       "      <td>0</td>\n",
       "      <td>0</td>\n",
       "      <td>0</td>\n",
       "      <td>0</td>\n",
       "      <td>0</td>\n",
       "      <td>1</td>\n",
       "      <td>0</td>\n",
       "      <td>0</td>\n",
       "      <td>1</td>\n",
       "      <td>0</td>\n",
       "      <td>0</td>\n",
       "      <td>0</td>\n",
       "      <td>0</td>\n",
       "      <td>0</td>\n",
       "      <td>0</td>\n",
       "      <td>1</td>\n",
       "    </tr>\n",
       "    <tr>\n",
       "      <th>4</th>\n",
       "      <td>228</td>\n",
       "      <td>44</td>\n",
       "      <td>1000</td>\n",
       "      <td>6000000</td>\n",
       "      <td>66000</td>\n",
       "      <td>-46000</td>\n",
       "      <td>20</td>\n",
       "      <td>1</td>\n",
       "      <td>0</td>\n",
       "      <td>1</td>\n",
       "      <td>6500</td>\n",
       "      <td>1300</td>\n",
       "      <td>650</td>\n",
       "      <td>4550</td>\n",
       "      <td>5.0</td>\n",
       "      <td>1</td>\n",
       "      <td>5</td>\n",
       "      <td>2</td>\n",
       "      <td>0</td>\n",
       "      <td>0</td>\n",
       "      <td>...</td>\n",
       "      <td>0</td>\n",
       "      <td>0</td>\n",
       "      <td>0</td>\n",
       "      <td>1</td>\n",
       "      <td>0</td>\n",
       "      <td>0</td>\n",
       "      <td>0</td>\n",
       "      <td>0</td>\n",
       "      <td>0</td>\n",
       "      <td>1</td>\n",
       "      <td>0</td>\n",
       "      <td>0</td>\n",
       "      <td>0</td>\n",
       "      <td>1</td>\n",
       "      <td>1</td>\n",
       "      <td>0</td>\n",
       "      <td>0</td>\n",
       "      <td>1</td>\n",
       "      <td>0</td>\n",
       "      <td>0</td>\n",
       "    </tr>\n",
       "  </tbody>\n",
       "</table>\n",
       "<p>5 rows × 48 columns</p>\n",
       "</div>"
      ],
      "text/plain": [
       "   months_as_customer  age  policy_deductable  umbrella_limit  capital-gains  \\\n",
       "0                 328   48               1000               0          53300   \n",
       "1                 228   42               2000         5000000              0   \n",
       "2                 134   29               2000         5000000          35100   \n",
       "3                 256   41               2000         6000000          48900   \n",
       "4                 228   44               1000         6000000          66000   \n",
       "\n",
       "   capital-loss  incident_hour_of_the_day  number_of_vehicles_involved  \\\n",
       "0             0                         5                            1   \n",
       "1             0                         8                            1   \n",
       "2             0                         7                            3   \n",
       "3        -62400                         5                            1   \n",
       "4        -46000                        20                            1   \n",
       "\n",
       "   bodily_injuries  witnesses  total_claim_amount  injury_claim  \\\n",
       "0                1          2               71610          6510   \n",
       "1                0          0                5070           780   \n",
       "2                2          3               34650          7700   \n",
       "3                1          2               63400          6340   \n",
       "4                0          1                6500          1300   \n",
       "\n",
       "   property_claim  vehicle_claim  policy_csl  insured_sex  \\\n",
       "0           13020          52080         2.5            1   \n",
       "1             780           3510         2.5            1   \n",
       "2            3850          23100         1.0            0   \n",
       "3            6340          50720         2.5            0   \n",
       "4             650           4550         5.0            1   \n",
       "\n",
       "   insured_education_level  incident_severity  property_damage  \\\n",
       "0                        6                  3                1   \n",
       "1                        6                  2                0   \n",
       "2                        7                  2                0   \n",
       "3                        7                  3                0   \n",
       "4                        5                  2                0   \n",
       "\n",
       "   police_report_available  ...  insured_occupation_priv-house-serv  \\\n",
       "0                        1  ...                                   0   \n",
       "1                        0  ...                                   0   \n",
       "2                        0  ...                                   0   \n",
       "3                        0  ...                                   0   \n",
       "4                        0  ...                                   0   \n",
       "\n",
       "   insured_occupation_prof-specialty  insured_occupation_protective-serv  \\\n",
       "0                                  0                                   0   \n",
       "1                                  0                                   0   \n",
       "2                                  0                                   0   \n",
       "3                                  0                                   0   \n",
       "4                                  0                                   0   \n",
       "\n",
       "   insured_occupation_sales  insured_occupation_tech-support  \\\n",
       "0                         0                                0   \n",
       "1                         0                                0   \n",
       "2                         1                                0   \n",
       "3                         0                                0   \n",
       "4                         1                                0   \n",
       "\n",
       "   insured_occupation_transport-moving  insured_relationship_not-in-family  \\\n",
       "0                                    0                                   0   \n",
       "1                                    0                                   0   \n",
       "2                                    0                                   0   \n",
       "3                                    0                                   0   \n",
       "4                                    0                                   0   \n",
       "\n",
       "   insured_relationship_other-relative  insured_relationship_own-child  \\\n",
       "0                                    0                               0   \n",
       "1                                    1                               0   \n",
       "2                                    0                               1   \n",
       "3                                    0                               0   \n",
       "4                                    0                               0   \n",
       "\n",
       "   insured_relationship_unmarried  insured_relationship_wife  \\\n",
       "0                               0                          0   \n",
       "1                               0                          0   \n",
       "2                               0                          0   \n",
       "3                               1                          0   \n",
       "4                               1                          0   \n",
       "\n",
       "   incident_type_Parked Car  incident_type_Single Vehicle Collision  \\\n",
       "0                         0                                       1   \n",
       "1                         0                                       0   \n",
       "2                         0                                       0   \n",
       "3                         0                                       1   \n",
       "4                         0                                       0   \n",
       "\n",
       "   incident_type_Vehicle Theft  collision_type_Rear Collision  \\\n",
       "0                            0                              0   \n",
       "1                            1                              1   \n",
       "2                            0                              1   \n",
       "3                            0                              0   \n",
       "4                            1                              1   \n",
       "\n",
       "   collision_type_Side Collision  authorities_contacted_Fire  \\\n",
       "0                              1                           0   \n",
       "1                              0                           0   \n",
       "2                              0                           0   \n",
       "3                              0                           0   \n",
       "4                              0                           0   \n",
       "\n",
       "   authorities_contacted_None  authorities_contacted_Other  \\\n",
       "0                           0                            0   \n",
       "1                           0                            0   \n",
       "2                           0                            0   \n",
       "3                           0                            0   \n",
       "4                           1                            0   \n",
       "\n",
       "   authorities_contacted_Police  \n",
       "0                             1  \n",
       "1                             1  \n",
       "2                             1  \n",
       "3                             1  \n",
       "4                             0  \n",
       "\n",
       "[5 rows x 48 columns]"
      ]
     },
     "execution_count": 47,
     "metadata": {},
     "output_type": "execute_result"
    }
   ],
   "source": [
    "final_df.head()"
   ]
  },
  {
   "cell_type": "markdown",
   "id": "51ea6bcc",
   "metadata": {
    "id": "51ea6bcc"
   },
   "source": [
    "### 1.12 separating the feature and target columns"
   ]
  },
  {
   "cell_type": "code",
   "execution_count": 48,
   "id": "ee445e35",
   "metadata": {
    "executionInfo": {
     "elapsed": 126,
     "status": "ok",
     "timestamp": 1678212419321,
     "user": {
      "displayName": "Tanmay Hajare",
      "userId": "05037382924936965487"
     },
     "user_tz": -330
    },
    "id": "ee445e35"
   },
   "outputs": [],
   "source": [
    "# separating the feature and target columns\n",
    "x=final_df.drop('fraud_reported',axis=1)\n",
    "y=final_df['fraud_reported']"
   ]
  },
  {
   "cell_type": "markdown",
   "id": "Du2NIHEpLing",
   "metadata": {
    "id": "Du2NIHEpLing"
   },
   "source": [
    "### 1.13 Finding Outliers"
   ]
  },
  {
   "cell_type": "code",
   "execution_count": 49,
   "id": "AatG9zFrLiBN",
   "metadata": {
    "colab": {
     "base_uri": "https://localhost:8080/",
     "height": 352
    },
    "executionInfo": {
     "elapsed": 123,
     "status": "ok",
     "timestamp": 1678212419323,
     "user": {
      "displayName": "Tanmay Hajare",
      "userId": "05037382924936965487"
     },
     "user_tz": -330
    },
    "id": "AatG9zFrLiBN",
    "outputId": "2f7f0be8-ec2b-4f78-c1b6-f1638f0b5d6b"
   },
   "outputs": [
    {
     "data": {
      "text/plain": [
       "<AxesSubplot: >"
      ]
     },
     "execution_count": 49,
     "metadata": {},
     "output_type": "execute_result"
    },
    {
     "data": {
      "image/png": "[encoded data removed]",
      "text/plain": [
       "<Figure size 640x480 with 1 Axes>"
      ]
     },
     "metadata": {},
     "output_type": "display_data"
    }
   ],
   "source": [
    "import seaborn as sns\n",
    "sns.boxplot(final_df['total_claim_amount'])\n",
    "#only one outlier means there is only one entry in dataset that has claimed insurance which is not regular amount, it can be potential fraud case "
   ]
  },
  {
   "cell_type": "markdown",
   "id": "5eab801d",
   "metadata": {
    "id": "5eab801d"
   },
   "source": [
    "# <font color='red'>2. Data visualization</font>"
   ]
  },
  {
   "cell_type": "markdown",
   "id": "06ecb616",
   "metadata": {
    "id": "06ecb616"
   },
   "source": [
    "### 2.1 Distribution of data "
   ]
  },
  {
   "cell_type": "code",
   "execution_count": 50,
   "id": "1065cf01",
   "metadata": {
    "executionInfo": {
     "elapsed": 96,
     "status": "ok",
     "timestamp": 1678212419325,
     "user": {
      "displayName": "Tanmay Hajare",
      "userId": "05037382924936965487"
     },
     "user_tz": -330
    },
    "id": "1065cf01"
   },
   "outputs": [],
   "source": [
    "import matplotlib.pyplot as plt\n",
    "%matplotlib  inline"
   ]
  },
  {
   "cell_type": "code",
   "execution_count": 51,
   "id": "79760c8b",
   "metadata": {
    "colab": {
     "base_uri": "https://localhost:8080/",
     "height": 352
    },
    "executionInfo": {
     "elapsed": 96,
     "status": "ok",
     "timestamp": 1678212419327,
     "user": {
      "displayName": "Tanmay Hajare",
      "userId": "05037382924936965487"
     },
     "user_tz": -330
    },
    "id": "79760c8b",
    "outputId": "fd76e7e6-dd42-4cf4-ca70-d6c853420afe"
   },
   "outputs": [
    {
     "data": {
      "text/plain": [
       "(array([178.,   2.,  27.,  87., 194., 229., 173.,  78.,  23.,   9.]),\n",
       " array([1.00000e+02, 1.15820e+04, 2.30640e+04, 3.45460e+04, 4.60280e+04,\n",
       "        5.75100e+04, 6.89920e+04, 8.04740e+04, 9.19560e+04, 1.03438e+05,\n",
       "        1.14920e+05]),\n",
       " <BarContainer object of 10 artists>)"
      ]
     },
     "execution_count": 51,
     "metadata": {},
     "output_type": "execute_result"
    },
    {
     "data": {
      "image/png": "[encoded data removed]",
      "text/plain": [
       "<Figure size 640x480 with 1 Axes>"
      ]
     },
     "metadata": {},
     "output_type": "display_data"
    }
   ],
   "source": [
    "plt.hist(final_df['total_claim_amount'])"
   ]
  },
  {
   "cell_type": "code",
   "execution_count": 52,
   "id": "ad3bce5e",
   "metadata": {
    "colab": {
     "base_uri": "https://localhost:8080/",
     "height": 317
    },
    "executionInfo": {
     "elapsed": 82,
     "status": "ok",
     "timestamp": 1678212419329,
     "user": {
      "displayName": "Tanmay Hajare",
      "userId": "05037382924936965487"
     },
     "user_tz": -330
    },
    "id": "ad3bce5e",
    "outputId": "c63ebf7b-d1bf-4b27-85d2-7c456c9b31b2"
   },
   "outputs": [
    {
     "data": {
      "text/plain": [
       "(array([349.,   0.,   0., 351.,   0.,   0.,   0.,   0.,   0., 300.]),\n",
       " array([1. , 1.4, 1.8, 2.2, 2.6, 3. , 3.4, 3.8, 4.2, 4.6, 5. ]),\n",
       " <BarContainer object of 10 artists>)"
      ]
     },
     "execution_count": 52,
     "metadata": {},
     "output_type": "execute_result"
    },
    {
     "data": {
      "image/png": "[encoded data removed]",
      "text/plain": [
       "<Figure size 640x480 with 1 Axes>"
      ]
     },
     "metadata": {},
     "output_type": "display_data"
    }
   ],
   "source": [
    "# we'll look at the distribution of data in some columns now\n",
    "plt.hist(final_df['policy_csl'])\n",
    "# we  can see that for almost all categories of CSL the data is uniformly distributed"
   ]
  },
  {
   "cell_type": "code",
   "execution_count": 53,
   "id": "730e45b9",
   "metadata": {
    "executionInfo": {
     "elapsed": 69,
     "status": "ok",
     "timestamp": 1678212419330,
     "user": {
      "displayName": "Tanmay Hajare",
      "userId": "05037382924936965487"
     },
     "user_tz": -330
    },
    "id": "730e45b9"
   },
   "outputs": [],
   "source": [
    "import seaborn as sns"
   ]
  },
  {
   "cell_type": "code",
   "execution_count": 54,
   "id": "1b745562",
   "metadata": {
    "colab": {
     "base_uri": "https://localhost:8080/",
     "height": 352
    },
    "executionInfo": {
     "elapsed": 1164,
     "status": "ok",
     "timestamp": 1678212420427,
     "user": {
      "displayName": "Tanmay Hajare",
      "userId": "05037382924936965487"
     },
     "user_tz": -330
    },
    "id": "1b745562",
    "outputId": "8cd394e1-b130-4bfd-e6d1-499c060aef47"
   },
   "outputs": [
    {
     "name": "stderr",
     "output_type": "stream",
     "text": [
      "C:\\Users\\Pankaj\\AppData\\Local\\Temp\\ipykernel_22632\\2026876302.py:1: UserWarning: \n",
      "\n",
      "`distplot` is a deprecated function and will be removed in seaborn v0.14.0.\n",
      "\n",
      "Please adapt your code to use either `displot` (a figure-level function with\n",
      "similar flexibility) or `histplot` (an axes-level function for histograms).\n",
      "\n",
      "For a guide to updating your code to use the new functions, please see\n",
      "https://gist.github.com/mwaskom/de44147ed2974457ad6372750bbe5751\n",
      "\n",
      "  sns.distplot(final_df['insured_sex'],color='purple')\n"
     ]
    },
    {
     "data": {
      "text/plain": [
       "<AxesSubplot: xlabel='insured_sex', ylabel='Density'>"
      ]
     },
     "execution_count": 54,
     "metadata": {},
     "output_type": "execute_result"
    },
    {
     "data": {
      "image/png": "[encoded data removed]",
      "text/plain": [
       "<Figure size 640x480 with 1 Axes>"
      ]
     },
     "metadata": {},
     "output_type": "display_data"
    }
   ],
   "source": [
    "sns.distplot(final_df['insured_sex'],color='purple')\n",
    "# we  can see that for almost all categories of the gender of the insured the data is uniformly distributed"
   ]
  },
  {
   "cell_type": "code",
   "execution_count": 55,
   "id": "e94b9456",
   "metadata": {
    "colab": {
     "base_uri": "https://localhost:8080/",
     "height": 352
    },
    "executionInfo": {
     "elapsed": 106,
     "status": "ok",
     "timestamp": 1678212420429,
     "user": {
      "displayName": "Tanmay Hajare",
      "userId": "05037382924936965487"
     },
     "user_tz": -330
    },
    "id": "e94b9456",
    "outputId": "944a707b-91f6-4e1a-ad48-264a91ec5865"
   },
   "outputs": [
    {
     "name": "stderr",
     "output_type": "stream",
     "text": [
      "C:\\Users\\Pankaj\\AppData\\Local\\Temp\\ipykernel_22632\\34127092.py:1: UserWarning: \n",
      "\n",
      "`distplot` is a deprecated function and will be removed in seaborn v0.14.0.\n",
      "\n",
      "Please adapt your code to use either `displot` (a figure-level function with\n",
      "similar flexibility) or `histplot` (an axes-level function for histograms).\n",
      "\n",
      "For a guide to updating your code to use the new functions, please see\n",
      "https://gist.github.com/mwaskom/de44147ed2974457ad6372750bbe5751\n",
      "\n",
      "  sns.distplot(final_df['insured_education_level'],color='purple')\n"
     ]
    },
    {
     "data": {
      "text/plain": [
       "<AxesSubplot: xlabel='insured_education_level', ylabel='Density'>"
      ]
     },
     "execution_count": 55,
     "metadata": {},
     "output_type": "execute_result"
    },
    {
     "data": {
      "image/png": "[encoded data removed]",
      "text/plain": [
       "<Figure size 640x480 with 1 Axes>"
      ]
     },
     "metadata": {},
     "output_type": "display_data"
    }
   ],
   "source": [
    "sns.distplot(final_df['insured_education_level'],color='purple')\n",
    "# we  can see that for almost all categories of the education level of the person insured the data is uniformly distributed"
   ]
  },
  {
   "cell_type": "code",
   "execution_count": 56,
   "id": "608c7c5f",
   "metadata": {
    "colab": {
     "base_uri": "https://localhost:8080/",
     "height": 370
    },
    "executionInfo": {
     "elapsed": 78,
     "status": "ok",
     "timestamp": 1678212420430,
     "user": {
      "displayName": "Tanmay Hajare",
      "userId": "05037382924936965487"
     },
     "user_tz": -330
    },
    "id": "608c7c5f",
    "outputId": "b4edb92c-694c-4032-e6f0-3cb2c1d9cc24"
   },
   "outputs": [
    {
     "name": "stderr",
     "output_type": "stream",
     "text": [
      "C:\\Users\\Pankaj\\AppData\\Local\\Temp\\ipykernel_22632\\3277367395.py:1: UserWarning: \n",
      "\n",
      "`distplot` is a deprecated function and will be removed in seaborn v0.14.0.\n",
      "\n",
      "Please adapt your code to use either `displot` (a figure-level function with\n",
      "similar flexibility) or `histplot` (an axes-level function for histograms).\n",
      "\n",
      "For a guide to updating your code to use the new functions, please see\n",
      "https://gist.github.com/mwaskom/de44147ed2974457ad6372750bbe5751\n",
      "\n",
      "  sns.distplot(final_df['incident_severity'],color='purple')\n"
     ]
    },
    {
     "data": {
      "text/plain": [
       "'\\nWe can see that there are least claims for trivial incidents,\\nmost claims for minor incidents,\\nand for major and Total loss incidents the claims are almost equal.\\n'"
      ]
     },
     "execution_count": 56,
     "metadata": {},
     "output_type": "execute_result"
    },
    {
     "data": {
      "image/png": "[encoded data removed]",
      "text/plain": [
       "<Figure size 640x480 with 1 Axes>"
      ]
     },
     "metadata": {},
     "output_type": "display_data"
    }
   ],
   "source": [
    "sns.distplot(final_df['incident_severity'],color='purple')\n",
    "\"\"\"\n",
    "We can see that there are least claims for trivial incidents,\n",
    "most claims for minor incidents,\n",
    "and for major and Total loss incidents the claims are almost equal.\n",
    "\"\"\""
   ]
  },
  {
   "cell_type": "code",
   "execution_count": 57,
   "id": "bca81f51",
   "metadata": {
    "colab": {
     "base_uri": "https://localhost:8080/"
    },
    "executionInfo": {
     "elapsed": 62,
     "status": "ok",
     "timestamp": 1678212420432,
     "user": {
      "displayName": "Tanmay Hajare",
      "userId": "05037382924936965487"
     },
     "user_tz": -330
    },
    "id": "bca81f51",
    "outputId": "a8291627-464f-42e0-f9f5-87351e2e2bdb"
   },
   "outputs": [
    {
     "data": {
      "text/plain": [
       "Index(['months_as_customer', 'age', 'policy_deductable', 'umbrella_limit',\n",
       "       'capital-gains', 'capital-loss', 'incident_hour_of_the_day',\n",
       "       'number_of_vehicles_involved', 'bodily_injuries', 'witnesses',\n",
       "       'total_claim_amount', 'injury_claim', 'property_claim',\n",
       "       'vehicle_claim'],\n",
       "      dtype='object')"
      ]
     },
     "execution_count": 57,
     "metadata": {},
     "output_type": "execute_result"
    }
   ],
   "source": [
    "num_df.columns"
   ]
  },
  {
   "cell_type": "markdown",
   "id": "e04cfe51",
   "metadata": {
    "id": "e04cfe51"
   },
   "source": [
    "### 2.2 Correlation between independant columns using heatmap"
   ]
  },
  {
   "cell_type": "code",
   "execution_count": 58,
   "id": "3fc40945",
   "metadata": {
    "colab": {
     "base_uri": "https://localhost:8080/",
     "height": 641
    },
    "executionInfo": {
     "elapsed": 1857,
     "status": "ok",
     "timestamp": 1678212422239,
     "user": {
      "displayName": "Tanmay Hajare",
      "userId": "05037382924936965487"
     },
     "user_tz": -330
    },
    "id": "3fc40945",
    "outputId": "b30355a8-ae76-4454-887d-5c751db252ed"
   },
   "outputs": [
    {
     "data": {
      "text/plain": [
       "<AxesSubplot: >"
      ]
     },
     "execution_count": 58,
     "metadata": {},
     "output_type": "execute_result"
    },
    {
     "data": {
      "image/png": "[encoded data removed]",
      "text/plain": [
       "<Figure size 1300x800 with 2 Axes>"
      ]
     },
     "metadata": {},
     "output_type": "display_data"
    }
   ],
   "source": [
    "plt.figure(figsize=(13,8))\n",
    "sns.heatmap(num_df.corr(), annot=True )"
   ]
  },
  {
   "cell_type": "raw",
   "id": "1b8f0f47",
   "metadata": {
    "id": "1b8f0f47"
   },
   "source": [
    "From the plot above, we can see that there is high correlation between Age and the number of months. we'll drop the age column. Also, there is high correlation between total claim amount, injury claim,vehicle claim, and property claim as total claim is the sum of all others. So, we'll drop the total claim column"
   ]
  },
  {
   "cell_type": "code",
   "execution_count": 59,
   "id": "e25a01b8",
   "metadata": {
    "colab": {
     "base_uri": "https://localhost:8080/"
    },
    "executionInfo": {
     "elapsed": 48,
     "status": "ok",
     "timestamp": 1678212422242,
     "user": {
      "displayName": "Tanmay Hajare",
      "userId": "05037382924936965487"
     },
     "user_tz": -330
    },
    "id": "e25a01b8",
    "outputId": "e66797b6-7485-48a9-e6ed-3fed3c72a0f6"
   },
   "outputs": [
    {
     "data": {
      "text/plain": [
       "Index(['months_as_customer', 'age', 'policy_deductable', 'umbrella_limit',\n",
       "       'capital-gains', 'capital-loss', 'incident_hour_of_the_day',\n",
       "       'number_of_vehicles_involved', 'bodily_injuries', 'witnesses',\n",
       "       'total_claim_amount', 'injury_claim', 'property_claim', 'vehicle_claim',\n",
       "       'policy_csl', 'insured_sex', 'insured_education_level',\n",
       "       'incident_severity', 'property_damage', 'police_report_available',\n",
       "       'insured_occupation_armed-forces', 'insured_occupation_craft-repair',\n",
       "       'insured_occupation_exec-managerial',\n",
       "       'insured_occupation_farming-fishing',\n",
       "       'insured_occupation_handlers-cleaners',\n",
       "       'insured_occupation_machine-op-inspct',\n",
       "       'insured_occupation_other-service',\n",
       "       'insured_occupation_priv-house-serv',\n",
       "       'insured_occupation_prof-specialty',\n",
       "       'insured_occupation_protective-serv', 'insured_occupation_sales',\n",
       "       'insured_occupation_tech-support',\n",
       "       'insured_occupation_transport-moving',\n",
       "       'insured_relationship_not-in-family',\n",
       "       'insured_relationship_other-relative', 'insured_relationship_own-child',\n",
       "       'insured_relationship_unmarried', 'insured_relationship_wife',\n",
       "       'incident_type_Parked Car', 'incident_type_Single Vehicle Collision',\n",
       "       'incident_type_Vehicle Theft', 'collision_type_Rear Collision',\n",
       "       'collision_type_Side Collision', 'authorities_contacted_Fire',\n",
       "       'authorities_contacted_None', 'authorities_contacted_Other',\n",
       "       'authorities_contacted_Police'],\n",
       "      dtype='object')"
      ]
     },
     "execution_count": 59,
     "metadata": {},
     "output_type": "execute_result"
    }
   ],
   "source": [
    "x.columns"
   ]
  },
  {
   "cell_type": "code",
   "execution_count": 60,
   "id": "7c900036",
   "metadata": {
    "executionInfo": {
     "elapsed": 2084,
     "status": "ok",
     "timestamp": 1678212424294,
     "user": {
      "displayName": "Tanmay Hajare",
      "userId": "05037382924936965487"
     },
     "user_tz": -330
    },
    "id": "7c900036"
   },
   "outputs": [],
   "source": [
    "x.drop(columns=['age','total_claim_amount'], inplace=True)"
   ]
  },
  {
   "cell_type": "markdown",
   "id": "d04d38ad",
   "metadata": {
    "id": "d04d38ad"
   },
   "source": [
    "# <font color='red'>3. Splitting Data into Train and test</font>"
   ]
  },
  {
   "cell_type": "code",
   "execution_count": 61,
   "id": "f06caa12",
   "metadata": {
    "executionInfo": {
     "elapsed": 232,
     "status": "ok",
     "timestamp": 1678212424297,
     "user": {
      "displayName": "Tanmay Hajare",
      "userId": "05037382924936965487"
     },
     "user_tz": -330
    },
    "id": "f06caa12"
   },
   "outputs": [],
   "source": [
    "# splitting the data into training and test set\n",
    "from sklearn.model_selection import train_test_split\n",
    "train_x,test_x,train_y,test_y=train_test_split(x,y, random_state=355 )"
   ]
  },
  {
   "cell_type": "code",
   "execution_count": 62,
   "id": "0d9d5410",
   "metadata": {
    "colab": {
     "base_uri": "https://localhost:8080/",
     "height": 505
    },
    "executionInfo": {
     "elapsed": 232,
     "status": "ok",
     "timestamp": 1678212424299,
     "user": {
      "displayName": "Tanmay Hajare",
      "userId": "05037382924936965487"
     },
     "user_tz": -330
    },
    "id": "0d9d5410",
    "outputId": "8d089b84-3bc8-42e9-ae55-5c1dea4d0a1c"
   },
   "outputs": [
    {
     "data": {
      "text/html": [
       "<div>\n",
       "<style scoped>\n",
       "    .dataframe tbody tr th:only-of-type {\n",
       "        vertical-align: middle;\n",
       "    }\n",
       "\n",
       "    .dataframe tbody tr th {\n",
       "        vertical-align: top;\n",
       "    }\n",
       "\n",
       "    .dataframe thead th {\n",
       "        text-align: right;\n",
       "    }\n",
       "</style>\n",
       "<table border=\"1\" class=\"dataframe\">\n",
       "  <thead>\n",
       "    <tr style=\"text-align: right;\">\n",
       "      <th></th>\n",
       "      <th>months_as_customer</th>\n",
       "      <th>policy_deductable</th>\n",
       "      <th>umbrella_limit</th>\n",
       "      <th>capital-gains</th>\n",
       "      <th>capital-loss</th>\n",
       "      <th>incident_hour_of_the_day</th>\n",
       "      <th>number_of_vehicles_involved</th>\n",
       "      <th>bodily_injuries</th>\n",
       "      <th>witnesses</th>\n",
       "      <th>injury_claim</th>\n",
       "      <th>property_claim</th>\n",
       "      <th>vehicle_claim</th>\n",
       "      <th>policy_csl</th>\n",
       "      <th>insured_sex</th>\n",
       "      <th>insured_education_level</th>\n",
       "      <th>incident_severity</th>\n",
       "      <th>property_damage</th>\n",
       "      <th>police_report_available</th>\n",
       "      <th>insured_occupation_armed-forces</th>\n",
       "      <th>insured_occupation_craft-repair</th>\n",
       "      <th>...</th>\n",
       "      <th>insured_occupation_priv-house-serv</th>\n",
       "      <th>insured_occupation_prof-specialty</th>\n",
       "      <th>insured_occupation_protective-serv</th>\n",
       "      <th>insured_occupation_sales</th>\n",
       "      <th>insured_occupation_tech-support</th>\n",
       "      <th>insured_occupation_transport-moving</th>\n",
       "      <th>insured_relationship_not-in-family</th>\n",
       "      <th>insured_relationship_other-relative</th>\n",
       "      <th>insured_relationship_own-child</th>\n",
       "      <th>insured_relationship_unmarried</th>\n",
       "      <th>insured_relationship_wife</th>\n",
       "      <th>incident_type_Parked Car</th>\n",
       "      <th>incident_type_Single Vehicle Collision</th>\n",
       "      <th>incident_type_Vehicle Theft</th>\n",
       "      <th>collision_type_Rear Collision</th>\n",
       "      <th>collision_type_Side Collision</th>\n",
       "      <th>authorities_contacted_Fire</th>\n",
       "      <th>authorities_contacted_None</th>\n",
       "      <th>authorities_contacted_Other</th>\n",
       "      <th>authorities_contacted_Police</th>\n",
       "    </tr>\n",
       "  </thead>\n",
       "  <tbody>\n",
       "    <tr>\n",
       "      <th>65</th>\n",
       "      <td>254</td>\n",
       "      <td>500</td>\n",
       "      <td>0</td>\n",
       "      <td>35700</td>\n",
       "      <td>0</td>\n",
       "      <td>6</td>\n",
       "      <td>3</td>\n",
       "      <td>2</td>\n",
       "      <td>2</td>\n",
       "      <td>13720</td>\n",
       "      <td>6860</td>\n",
       "      <td>61740</td>\n",
       "      <td>1.0</td>\n",
       "      <td>0</td>\n",
       "      <td>6</td>\n",
       "      <td>2</td>\n",
       "      <td>1</td>\n",
       "      <td>0</td>\n",
       "      <td>0</td>\n",
       "      <td>0</td>\n",
       "      <td>...</td>\n",
       "      <td>0</td>\n",
       "      <td>0</td>\n",
       "      <td>0</td>\n",
       "      <td>0</td>\n",
       "      <td>0</td>\n",
       "      <td>0</td>\n",
       "      <td>0</td>\n",
       "      <td>1</td>\n",
       "      <td>0</td>\n",
       "      <td>0</td>\n",
       "      <td>0</td>\n",
       "      <td>0</td>\n",
       "      <td>0</td>\n",
       "      <td>0</td>\n",
       "      <td>0</td>\n",
       "      <td>0</td>\n",
       "      <td>0</td>\n",
       "      <td>0</td>\n",
       "      <td>0</td>\n",
       "      <td>0</td>\n",
       "    </tr>\n",
       "    <tr>\n",
       "      <th>244</th>\n",
       "      <td>95</td>\n",
       "      <td>1000</td>\n",
       "      <td>0</td>\n",
       "      <td>0</td>\n",
       "      <td>-70300</td>\n",
       "      <td>3</td>\n",
       "      <td>1</td>\n",
       "      <td>1</td>\n",
       "      <td>2</td>\n",
       "      <td>640</td>\n",
       "      <td>320</td>\n",
       "      <td>2240</td>\n",
       "      <td>2.5</td>\n",
       "      <td>1</td>\n",
       "      <td>5</td>\n",
       "      <td>1</td>\n",
       "      <td>1</td>\n",
       "      <td>0</td>\n",
       "      <td>1</td>\n",
       "      <td>0</td>\n",
       "      <td>...</td>\n",
       "      <td>0</td>\n",
       "      <td>0</td>\n",
       "      <td>0</td>\n",
       "      <td>0</td>\n",
       "      <td>0</td>\n",
       "      <td>0</td>\n",
       "      <td>0</td>\n",
       "      <td>1</td>\n",
       "      <td>0</td>\n",
       "      <td>0</td>\n",
       "      <td>0</td>\n",
       "      <td>0</td>\n",
       "      <td>0</td>\n",
       "      <td>1</td>\n",
       "      <td>1</td>\n",
       "      <td>0</td>\n",
       "      <td>0</td>\n",
       "      <td>1</td>\n",
       "      <td>0</td>\n",
       "      <td>0</td>\n",
       "    </tr>\n",
       "    <tr>\n",
       "      <th>595</th>\n",
       "      <td>56</td>\n",
       "      <td>500</td>\n",
       "      <td>0</td>\n",
       "      <td>0</td>\n",
       "      <td>-28800</td>\n",
       "      <td>13</td>\n",
       "      <td>1</td>\n",
       "      <td>1</td>\n",
       "      <td>2</td>\n",
       "      <td>0</td>\n",
       "      <td>6500</td>\n",
       "      <td>52000</td>\n",
       "      <td>1.0</td>\n",
       "      <td>1</td>\n",
       "      <td>1</td>\n",
       "      <td>3</td>\n",
       "      <td>1</td>\n",
       "      <td>1</td>\n",
       "      <td>0</td>\n",
       "      <td>0</td>\n",
       "      <td>...</td>\n",
       "      <td>0</td>\n",
       "      <td>0</td>\n",
       "      <td>0</td>\n",
       "      <td>0</td>\n",
       "      <td>0</td>\n",
       "      <td>0</td>\n",
       "      <td>0</td>\n",
       "      <td>0</td>\n",
       "      <td>1</td>\n",
       "      <td>0</td>\n",
       "      <td>0</td>\n",
       "      <td>0</td>\n",
       "      <td>1</td>\n",
       "      <td>0</td>\n",
       "      <td>1</td>\n",
       "      <td>0</td>\n",
       "      <td>0</td>\n",
       "      <td>0</td>\n",
       "      <td>0</td>\n",
       "      <td>1</td>\n",
       "    </tr>\n",
       "    <tr>\n",
       "      <th>873</th>\n",
       "      <td>322</td>\n",
       "      <td>2000</td>\n",
       "      <td>0</td>\n",
       "      <td>0</td>\n",
       "      <td>-46000</td>\n",
       "      <td>18</td>\n",
       "      <td>1</td>\n",
       "      <td>0</td>\n",
       "      <td>2</td>\n",
       "      <td>7680</td>\n",
       "      <td>7680</td>\n",
       "      <td>26880</td>\n",
       "      <td>2.5</td>\n",
       "      <td>0</td>\n",
       "      <td>7</td>\n",
       "      <td>3</td>\n",
       "      <td>0</td>\n",
       "      <td>1</td>\n",
       "      <td>1</td>\n",
       "      <td>0</td>\n",
       "      <td>...</td>\n",
       "      <td>0</td>\n",
       "      <td>0</td>\n",
       "      <td>0</td>\n",
       "      <td>0</td>\n",
       "      <td>0</td>\n",
       "      <td>0</td>\n",
       "      <td>0</td>\n",
       "      <td>0</td>\n",
       "      <td>1</td>\n",
       "      <td>0</td>\n",
       "      <td>0</td>\n",
       "      <td>0</td>\n",
       "      <td>1</td>\n",
       "      <td>0</td>\n",
       "      <td>1</td>\n",
       "      <td>0</td>\n",
       "      <td>0</td>\n",
       "      <td>0</td>\n",
       "      <td>0</td>\n",
       "      <td>0</td>\n",
       "    </tr>\n",
       "    <tr>\n",
       "      <th>631</th>\n",
       "      <td>147</td>\n",
       "      <td>1000</td>\n",
       "      <td>6000000</td>\n",
       "      <td>0</td>\n",
       "      <td>-48400</td>\n",
       "      <td>2</td>\n",
       "      <td>2</td>\n",
       "      <td>1</td>\n",
       "      <td>2</td>\n",
       "      <td>9760</td>\n",
       "      <td>4880</td>\n",
       "      <td>39040</td>\n",
       "      <td>5.0</td>\n",
       "      <td>0</td>\n",
       "      <td>5</td>\n",
       "      <td>4</td>\n",
       "      <td>0</td>\n",
       "      <td>0</td>\n",
       "      <td>0</td>\n",
       "      <td>0</td>\n",
       "      <td>...</td>\n",
       "      <td>0</td>\n",
       "      <td>1</td>\n",
       "      <td>0</td>\n",
       "      <td>0</td>\n",
       "      <td>0</td>\n",
       "      <td>0</td>\n",
       "      <td>0</td>\n",
       "      <td>0</td>\n",
       "      <td>0</td>\n",
       "      <td>0</td>\n",
       "      <td>0</td>\n",
       "      <td>0</td>\n",
       "      <td>0</td>\n",
       "      <td>0</td>\n",
       "      <td>1</td>\n",
       "      <td>0</td>\n",
       "      <td>0</td>\n",
       "      <td>0</td>\n",
       "      <td>1</td>\n",
       "      <td>0</td>\n",
       "    </tr>\n",
       "    <tr>\n",
       "      <th>...</th>\n",
       "      <td>...</td>\n",
       "      <td>...</td>\n",
       "      <td>...</td>\n",
       "      <td>...</td>\n",
       "      <td>...</td>\n",
       "      <td>...</td>\n",
       "      <td>...</td>\n",
       "      <td>...</td>\n",
       "      <td>...</td>\n",
       "      <td>...</td>\n",
       "      <td>...</td>\n",
       "      <td>...</td>\n",
       "      <td>...</td>\n",
       "      <td>...</td>\n",
       "      <td>...</td>\n",
       "      <td>...</td>\n",
       "      <td>...</td>\n",
       "      <td>...</td>\n",
       "      <td>...</td>\n",
       "      <td>...</td>\n",
       "      <td>...</td>\n",
       "      <td>...</td>\n",
       "      <td>...</td>\n",
       "      <td>...</td>\n",
       "      <td>...</td>\n",
       "      <td>...</td>\n",
       "      <td>...</td>\n",
       "      <td>...</td>\n",
       "      <td>...</td>\n",
       "      <td>...</td>\n",
       "      <td>...</td>\n",
       "      <td>...</td>\n",
       "      <td>...</td>\n",
       "      <td>...</td>\n",
       "      <td>...</td>\n",
       "      <td>...</td>\n",
       "      <td>...</td>\n",
       "      <td>...</td>\n",
       "      <td>...</td>\n",
       "      <td>...</td>\n",
       "      <td>...</td>\n",
       "    </tr>\n",
       "    <tr>\n",
       "      <th>291</th>\n",
       "      <td>59</td>\n",
       "      <td>2000</td>\n",
       "      <td>0</td>\n",
       "      <td>64200</td>\n",
       "      <td>-32300</td>\n",
       "      <td>0</td>\n",
       "      <td>3</td>\n",
       "      <td>0</td>\n",
       "      <td>2</td>\n",
       "      <td>5730</td>\n",
       "      <td>11460</td>\n",
       "      <td>34380</td>\n",
       "      <td>2.5</td>\n",
       "      <td>1</td>\n",
       "      <td>3</td>\n",
       "      <td>4</td>\n",
       "      <td>0</td>\n",
       "      <td>0</td>\n",
       "      <td>0</td>\n",
       "      <td>0</td>\n",
       "      <td>...</td>\n",
       "      <td>0</td>\n",
       "      <td>0</td>\n",
       "      <td>1</td>\n",
       "      <td>0</td>\n",
       "      <td>0</td>\n",
       "      <td>0</td>\n",
       "      <td>0</td>\n",
       "      <td>1</td>\n",
       "      <td>0</td>\n",
       "      <td>0</td>\n",
       "      <td>0</td>\n",
       "      <td>0</td>\n",
       "      <td>0</td>\n",
       "      <td>0</td>\n",
       "      <td>0</td>\n",
       "      <td>0</td>\n",
       "      <td>0</td>\n",
       "      <td>0</td>\n",
       "      <td>0</td>\n",
       "      <td>0</td>\n",
       "    </tr>\n",
       "    <tr>\n",
       "      <th>501</th>\n",
       "      <td>26</td>\n",
       "      <td>1000</td>\n",
       "      <td>0</td>\n",
       "      <td>0</td>\n",
       "      <td>-53700</td>\n",
       "      <td>0</td>\n",
       "      <td>1</td>\n",
       "      <td>0</td>\n",
       "      <td>2</td>\n",
       "      <td>9960</td>\n",
       "      <td>4980</td>\n",
       "      <td>34860</td>\n",
       "      <td>2.5</td>\n",
       "      <td>1</td>\n",
       "      <td>4</td>\n",
       "      <td>3</td>\n",
       "      <td>0</td>\n",
       "      <td>0</td>\n",
       "      <td>0</td>\n",
       "      <td>0</td>\n",
       "      <td>...</td>\n",
       "      <td>0</td>\n",
       "      <td>0</td>\n",
       "      <td>0</td>\n",
       "      <td>0</td>\n",
       "      <td>1</td>\n",
       "      <td>0</td>\n",
       "      <td>0</td>\n",
       "      <td>0</td>\n",
       "      <td>0</td>\n",
       "      <td>0</td>\n",
       "      <td>0</td>\n",
       "      <td>0</td>\n",
       "      <td>1</td>\n",
       "      <td>0</td>\n",
       "      <td>0</td>\n",
       "      <td>1</td>\n",
       "      <td>0</td>\n",
       "      <td>0</td>\n",
       "      <td>0</td>\n",
       "      <td>1</td>\n",
       "    </tr>\n",
       "    <tr>\n",
       "      <th>346</th>\n",
       "      <td>429</td>\n",
       "      <td>1000</td>\n",
       "      <td>6000000</td>\n",
       "      <td>67400</td>\n",
       "      <td>-43800</td>\n",
       "      <td>0</td>\n",
       "      <td>1</td>\n",
       "      <td>2</td>\n",
       "      <td>0</td>\n",
       "      <td>6580</td>\n",
       "      <td>6580</td>\n",
       "      <td>26320</td>\n",
       "      <td>2.5</td>\n",
       "      <td>1</td>\n",
       "      <td>5</td>\n",
       "      <td>2</td>\n",
       "      <td>1</td>\n",
       "      <td>1</td>\n",
       "      <td>0</td>\n",
       "      <td>0</td>\n",
       "      <td>...</td>\n",
       "      <td>0</td>\n",
       "      <td>0</td>\n",
       "      <td>0</td>\n",
       "      <td>0</td>\n",
       "      <td>0</td>\n",
       "      <td>0</td>\n",
       "      <td>0</td>\n",
       "      <td>0</td>\n",
       "      <td>1</td>\n",
       "      <td>0</td>\n",
       "      <td>0</td>\n",
       "      <td>0</td>\n",
       "      <td>1</td>\n",
       "      <td>0</td>\n",
       "      <td>1</td>\n",
       "      <td>0</td>\n",
       "      <td>0</td>\n",
       "      <td>0</td>\n",
       "      <td>0</td>\n",
       "      <td>0</td>\n",
       "    </tr>\n",
       "    <tr>\n",
       "      <th>642</th>\n",
       "      <td>143</td>\n",
       "      <td>1000</td>\n",
       "      <td>0</td>\n",
       "      <td>79900</td>\n",
       "      <td>0</td>\n",
       "      <td>1</td>\n",
       "      <td>1</td>\n",
       "      <td>2</td>\n",
       "      <td>0</td>\n",
       "      <td>5660</td>\n",
       "      <td>5660</td>\n",
       "      <td>50940</td>\n",
       "      <td>5.0</td>\n",
       "      <td>0</td>\n",
       "      <td>2</td>\n",
       "      <td>3</td>\n",
       "      <td>0</td>\n",
       "      <td>0</td>\n",
       "      <td>0</td>\n",
       "      <td>0</td>\n",
       "      <td>...</td>\n",
       "      <td>0</td>\n",
       "      <td>0</td>\n",
       "      <td>0</td>\n",
       "      <td>0</td>\n",
       "      <td>0</td>\n",
       "      <td>0</td>\n",
       "      <td>0</td>\n",
       "      <td>0</td>\n",
       "      <td>0</td>\n",
       "      <td>0</td>\n",
       "      <td>0</td>\n",
       "      <td>0</td>\n",
       "      <td>1</td>\n",
       "      <td>0</td>\n",
       "      <td>1</td>\n",
       "      <td>0</td>\n",
       "      <td>0</td>\n",
       "      <td>0</td>\n",
       "      <td>0</td>\n",
       "      <td>0</td>\n",
       "    </tr>\n",
       "    <tr>\n",
       "      <th>766</th>\n",
       "      <td>224</td>\n",
       "      <td>1000</td>\n",
       "      <td>0</td>\n",
       "      <td>0</td>\n",
       "      <td>-47100</td>\n",
       "      <td>21</td>\n",
       "      <td>3</td>\n",
       "      <td>2</td>\n",
       "      <td>1</td>\n",
       "      <td>12360</td>\n",
       "      <td>6180</td>\n",
       "      <td>43260</td>\n",
       "      <td>5.0</td>\n",
       "      <td>0</td>\n",
       "      <td>1</td>\n",
       "      <td>4</td>\n",
       "      <td>1</td>\n",
       "      <td>0</td>\n",
       "      <td>0</td>\n",
       "      <td>0</td>\n",
       "      <td>...</td>\n",
       "      <td>0</td>\n",
       "      <td>1</td>\n",
       "      <td>0</td>\n",
       "      <td>0</td>\n",
       "      <td>0</td>\n",
       "      <td>0</td>\n",
       "      <td>0</td>\n",
       "      <td>1</td>\n",
       "      <td>0</td>\n",
       "      <td>0</td>\n",
       "      <td>0</td>\n",
       "      <td>0</td>\n",
       "      <td>0</td>\n",
       "      <td>0</td>\n",
       "      <td>1</td>\n",
       "      <td>0</td>\n",
       "      <td>1</td>\n",
       "      <td>0</td>\n",
       "      <td>0</td>\n",
       "      <td>0</td>\n",
       "    </tr>\n",
       "  </tbody>\n",
       "</table>\n",
       "<p>750 rows × 45 columns</p>\n",
       "</div>"
      ],
      "text/plain": [
       "     months_as_customer  policy_deductable  umbrella_limit  capital-gains  \\\n",
       "65                  254                500               0          35700   \n",
       "244                  95               1000               0              0   \n",
       "595                  56                500               0              0   \n",
       "873                 322               2000               0              0   \n",
       "631                 147               1000         6000000              0   \n",
       "..                  ...                ...             ...            ...   \n",
       "291                  59               2000               0          64200   \n",
       "501                  26               1000               0              0   \n",
       "346                 429               1000         6000000          67400   \n",
       "642                 143               1000               0          79900   \n",
       "766                 224               1000               0              0   \n",
       "\n",
       "     capital-loss  incident_hour_of_the_day  number_of_vehicles_involved  \\\n",
       "65              0                         6                            3   \n",
       "244        -70300                         3                            1   \n",
       "595        -28800                        13                            1   \n",
       "873        -46000                        18                            1   \n",
       "631        -48400                         2                            2   \n",
       "..            ...                       ...                          ...   \n",
       "291        -32300                         0                            3   \n",
       "501        -53700                         0                            1   \n",
       "346        -43800                         0                            1   \n",
       "642             0                         1                            1   \n",
       "766        -47100                        21                            3   \n",
       "\n",
       "     bodily_injuries  witnesses  injury_claim  property_claim  vehicle_claim  \\\n",
       "65                 2          2         13720            6860          61740   \n",
       "244                1          2           640             320           2240   \n",
       "595                1          2             0            6500          52000   \n",
       "873                0          2          7680            7680          26880   \n",
       "631                1          2          9760            4880          39040   \n",
       "..               ...        ...           ...             ...            ...   \n",
       "291                0          2          5730           11460          34380   \n",
       "501                0          2          9960            4980          34860   \n",
       "346                2          0          6580            6580          26320   \n",
       "642                2          0          5660            5660          50940   \n",
       "766                2          1         12360            6180          43260   \n",
       "\n",
       "     policy_csl  insured_sex  insured_education_level  incident_severity  \\\n",
       "65          1.0            0                        6                  2   \n",
       "244         2.5            1                        5                  1   \n",
       "595         1.0            1                        1                  3   \n",
       "873         2.5            0                        7                  3   \n",
       "631         5.0            0                        5                  4   \n",
       "..          ...          ...                      ...                ...   \n",
       "291         2.5            1                        3                  4   \n",
       "501         2.5            1                        4                  3   \n",
       "346         2.5            1                        5                  2   \n",
       "642         5.0            0                        2                  3   \n",
       "766         5.0            0                        1                  4   \n",
       "\n",
       "     property_damage  police_report_available  \\\n",
       "65                 1                        0   \n",
       "244                1                        0   \n",
       "595                1                        1   \n",
       "873                0                        1   \n",
       "631                0                        0   \n",
       "..               ...                      ...   \n",
       "291                0                        0   \n",
       "501                0                        0   \n",
       "346                1                        1   \n",
       "642                0                        0   \n",
       "766                1                        0   \n",
       "\n",
       "     insured_occupation_armed-forces  insured_occupation_craft-repair  ...  \\\n",
       "65                                 0                                0  ...   \n",
       "244                                1                                0  ...   \n",
       "595                                0                                0  ...   \n",
       "873                                1                                0  ...   \n",
       "631                                0                                0  ...   \n",
       "..                               ...                              ...  ...   \n",
       "291                                0                                0  ...   \n",
       "501                                0                                0  ...   \n",
       "346                                0                                0  ...   \n",
       "642                                0                                0  ...   \n",
       "766                                0                                0  ...   \n",
       "\n",
       "     insured_occupation_priv-house-serv  insured_occupation_prof-specialty  \\\n",
       "65                                    0                                  0   \n",
       "244                                   0                                  0   \n",
       "595                                   0                                  0   \n",
       "873                                   0                                  0   \n",
       "631                                   0                                  1   \n",
       "..                                  ...                                ...   \n",
       "291                                   0                                  0   \n",
       "501                                   0                                  0   \n",
       "346                                   0                                  0   \n",
       "642                                   0                                  0   \n",
       "766                                   0                                  1   \n",
       "\n",
       "     insured_occupation_protective-serv  insured_occupation_sales  \\\n",
       "65                                    0                         0   \n",
       "244                                   0                         0   \n",
       "595                                   0                         0   \n",
       "873                                   0                         0   \n",
       "631                                   0                         0   \n",
       "..                                  ...                       ...   \n",
       "291                                   1                         0   \n",
       "501                                   0                         0   \n",
       "346                                   0                         0   \n",
       "642                                   0                         0   \n",
       "766                                   0                         0   \n",
       "\n",
       "     insured_occupation_tech-support  insured_occupation_transport-moving  \\\n",
       "65                                 0                                    0   \n",
       "244                                0                                    0   \n",
       "595                                0                                    0   \n",
       "873                                0                                    0   \n",
       "631                                0                                    0   \n",
       "..                               ...                                  ...   \n",
       "291                                0                                    0   \n",
       "501                                1                                    0   \n",
       "346                                0                                    0   \n",
       "642                                0                                    0   \n",
       "766                                0                                    0   \n",
       "\n",
       "     insured_relationship_not-in-family  insured_relationship_other-relative  \\\n",
       "65                                    0                                    1   \n",
       "244                                   0                                    1   \n",
       "595                                   0                                    0   \n",
       "873                                   0                                    0   \n",
       "631                                   0                                    0   \n",
       "..                                  ...                                  ...   \n",
       "291                                   0                                    1   \n",
       "501                                   0                                    0   \n",
       "346                                   0                                    0   \n",
       "642                                   0                                    0   \n",
       "766                                   0                                    1   \n",
       "\n",
       "     insured_relationship_own-child  insured_relationship_unmarried  \\\n",
       "65                                0                               0   \n",
       "244                               0                               0   \n",
       "595                               1                               0   \n",
       "873                               1                               0   \n",
       "631                               0                               0   \n",
       "..                              ...                             ...   \n",
       "291                               0                               0   \n",
       "501                               0                               0   \n",
       "346                               1                               0   \n",
       "642                               0                               0   \n",
       "766                               0                               0   \n",
       "\n",
       "     insured_relationship_wife  incident_type_Parked Car  \\\n",
       "65                           0                         0   \n",
       "244                          0                         0   \n",
       "595                          0                         0   \n",
       "873                          0                         0   \n",
       "631                          0                         0   \n",
       "..                         ...                       ...   \n",
       "291                          0                         0   \n",
       "501                          0                         0   \n",
       "346                          0                         0   \n",
       "642                          0                         0   \n",
       "766                          0                         0   \n",
       "\n",
       "     incident_type_Single Vehicle Collision  incident_type_Vehicle Theft  \\\n",
       "65                                        0                            0   \n",
       "244                                       0                            1   \n",
       "595                                       1                            0   \n",
       "873                                       1                            0   \n",
       "631                                       0                            0   \n",
       "..                                      ...                          ...   \n",
       "291                                       0                            0   \n",
       "501                                       1                            0   \n",
       "346                                       1                            0   \n",
       "642                                       1                            0   \n",
       "766                                       0                            0   \n",
       "\n",
       "     collision_type_Rear Collision  collision_type_Side Collision  \\\n",
       "65                               0                              0   \n",
       "244                              1                              0   \n",
       "595                              1                              0   \n",
       "873                              1                              0   \n",
       "631                              1                              0   \n",
       "..                             ...                            ...   \n",
       "291                              0                              0   \n",
       "501                              0                              1   \n",
       "346                              1                              0   \n",
       "642                              1                              0   \n",
       "766                              1                              0   \n",
       "\n",
       "     authorities_contacted_Fire  authorities_contacted_None  \\\n",
       "65                            0                           0   \n",
       "244                           0                           1   \n",
       "595                           0                           0   \n",
       "873                           0                           0   \n",
       "631                           0                           0   \n",
       "..                          ...                         ...   \n",
       "291                           0                           0   \n",
       "501                           0                           0   \n",
       "346                           0                           0   \n",
       "642                           0                           0   \n",
       "766                           1                           0   \n",
       "\n",
       "     authorities_contacted_Other  authorities_contacted_Police  \n",
       "65                             0                             0  \n",
       "244                            0                             0  \n",
       "595                            0                             1  \n",
       "873                            0                             0  \n",
       "631                            1                             0  \n",
       "..                           ...                           ...  \n",
       "291                            0                             0  \n",
       "501                            0                             1  \n",
       "346                            0                             0  \n",
       "642                            0                             0  \n",
       "766                            0                             0  \n",
       "\n",
       "[750 rows x 45 columns]"
      ]
     },
     "execution_count": 62,
     "metadata": {},
     "output_type": "execute_result"
    }
   ],
   "source": [
    "train_x"
   ]
  },
  {
   "cell_type": "markdown",
   "id": "8ccd9dc9",
   "metadata": {
    "id": "8ccd9dc9"
   },
   "source": [
    "# <font color='red'>4. Data Scaling using StandardScaler</font>"
   ]
  },
  {
   "cell_type": "code",
   "execution_count": 63,
   "id": "56c70bad",
   "metadata": {
    "executionInfo": {
     "elapsed": 231,
     "status": "ok",
     "timestamp": 1678212424303,
     "user": {
      "displayName": "Tanmay Hajare",
      "userId": "05037382924936965487"
     },
     "user_tz": -330
    },
    "id": "56c70bad"
   },
   "outputs": [],
   "source": [
    "# Scaling the numeric values in the dataset\n",
    "\n",
    "from sklearn.preprocessing import StandardScaler\n",
    "scaler=StandardScaler()"
   ]
  },
  {
   "cell_type": "code",
   "execution_count": 64,
   "id": "a6a8926d",
   "metadata": {
    "colab": {
     "base_uri": "https://localhost:8080/"
    },
    "executionInfo": {
     "elapsed": 234,
     "status": "ok",
     "timestamp": 1678212424307,
     "user": {
      "displayName": "Tanmay Hajare",
      "userId": "05037382924936965487"
     },
     "user_tz": -330
    },
    "id": "a6a8926d",
    "outputId": "99d811fc-fdf8-42ec-e59c-d67c9722250a"
   },
   "outputs": [
    {
     "data": {
      "text/plain": [
       "(750, 45)"
      ]
     },
     "execution_count": 64,
     "metadata": {},
     "output_type": "execute_result"
    }
   ],
   "source": [
    "scaled_data=scaler.fit_transform(train_x)\n",
    "scaled_train= pd.DataFrame(data=scaled_data, columns=train_x.columns,index=train_x.index)\n",
    "scaled_train.shape"
   ]
  },
  {
   "cell_type": "code",
   "execution_count": 65,
   "id": "b04a8212",
   "metadata": {
    "colab": {
     "base_uri": "https://localhost:8080/",
     "height": 317
    },
    "executionInfo": {
     "elapsed": 226,
     "status": "ok",
     "timestamp": 1678212424311,
     "user": {
      "displayName": "Tanmay Hajare",
      "userId": "05037382924936965487"
     },
     "user_tz": -330
    },
    "id": "b04a8212",
    "outputId": "badea5ca-a694-4f9c-9e3c-bb2c205c9597"
   },
   "outputs": [
    {
     "data": {
      "text/html": [
       "<div>\n",
       "<style scoped>\n",
       "    .dataframe tbody tr th:only-of-type {\n",
       "        vertical-align: middle;\n",
       "    }\n",
       "\n",
       "    .dataframe tbody tr th {\n",
       "        vertical-align: top;\n",
       "    }\n",
       "\n",
       "    .dataframe thead th {\n",
       "        text-align: right;\n",
       "    }\n",
       "</style>\n",
       "<table border=\"1\" class=\"dataframe\">\n",
       "  <thead>\n",
       "    <tr style=\"text-align: right;\">\n",
       "      <th></th>\n",
       "      <th>months_as_customer</th>\n",
       "      <th>policy_deductable</th>\n",
       "      <th>umbrella_limit</th>\n",
       "      <th>capital-gains</th>\n",
       "      <th>capital-loss</th>\n",
       "      <th>incident_hour_of_the_day</th>\n",
       "      <th>number_of_vehicles_involved</th>\n",
       "      <th>bodily_injuries</th>\n",
       "      <th>witnesses</th>\n",
       "      <th>injury_claim</th>\n",
       "      <th>property_claim</th>\n",
       "      <th>vehicle_claim</th>\n",
       "      <th>policy_csl</th>\n",
       "      <th>insured_sex</th>\n",
       "      <th>insured_education_level</th>\n",
       "      <th>incident_severity</th>\n",
       "      <th>property_damage</th>\n",
       "      <th>police_report_available</th>\n",
       "      <th>insured_occupation_armed-forces</th>\n",
       "      <th>insured_occupation_craft-repair</th>\n",
       "      <th>...</th>\n",
       "      <th>insured_occupation_priv-house-serv</th>\n",
       "      <th>insured_occupation_prof-specialty</th>\n",
       "      <th>insured_occupation_protective-serv</th>\n",
       "      <th>insured_occupation_sales</th>\n",
       "      <th>insured_occupation_tech-support</th>\n",
       "      <th>insured_occupation_transport-moving</th>\n",
       "      <th>insured_relationship_not-in-family</th>\n",
       "      <th>insured_relationship_other-relative</th>\n",
       "      <th>insured_relationship_own-child</th>\n",
       "      <th>insured_relationship_unmarried</th>\n",
       "      <th>insured_relationship_wife</th>\n",
       "      <th>incident_type_Parked Car</th>\n",
       "      <th>incident_type_Single Vehicle Collision</th>\n",
       "      <th>incident_type_Vehicle Theft</th>\n",
       "      <th>collision_type_Rear Collision</th>\n",
       "      <th>collision_type_Side Collision</th>\n",
       "      <th>authorities_contacted_Fire</th>\n",
       "      <th>authorities_contacted_None</th>\n",
       "      <th>authorities_contacted_Other</th>\n",
       "      <th>authorities_contacted_Police</th>\n",
       "    </tr>\n",
       "  </thead>\n",
       "  <tbody>\n",
       "    <tr>\n",
       "      <th>65</th>\n",
       "      <td>0.435244</td>\n",
       "      <td>-1.037803</td>\n",
       "      <td>-0.468878</td>\n",
       "      <td>0.385876</td>\n",
       "      <td>0.975789</td>\n",
       "      <td>-0.819548</td>\n",
       "      <td>1.162385</td>\n",
       "      <td>1.271286</td>\n",
       "      <td>0.43186</td>\n",
       "      <td>1.285251</td>\n",
       "      <td>-0.128241</td>\n",
       "      <td>1.270329</td>\n",
       "      <td>-1.078736</td>\n",
       "      <td>-0.937923</td>\n",
       "      <td>1.057325</td>\n",
       "      <td>-0.784152</td>\n",
       "      <td>1.484967</td>\n",
       "      <td>-0.681795</td>\n",
       "      <td>-0.258566</td>\n",
       "      <td>-0.292205</td>\n",
       "      <td>...</td>\n",
       "      <td>-0.284063</td>\n",
       "      <td>-0.305441</td>\n",
       "      <td>-0.258566</td>\n",
       "      <td>-0.292205</td>\n",
       "      <td>-0.286794</td>\n",
       "      <td>-0.272944</td>\n",
       "      <td>-0.460034</td>\n",
       "      <td>2.236068</td>\n",
       "      <td>-0.466404</td>\n",
       "      <td>-0.407931</td>\n",
       "      <td>-0.429923</td>\n",
       "      <td>-0.302825</td>\n",
       "      <td>-0.839372</td>\n",
       "      <td>-0.313204</td>\n",
       "      <td>-0.925438</td>\n",
       "      <td>-0.631865</td>\n",
       "      <td>-0.553733</td>\n",
       "      <td>-0.31063</td>\n",
       "      <td>-0.497916</td>\n",
       "      <td>-0.625672</td>\n",
       "    </tr>\n",
       "    <tr>\n",
       "      <th>244</th>\n",
       "      <td>-0.930728</td>\n",
       "      <td>-0.209769</td>\n",
       "      <td>-0.468878</td>\n",
       "      <td>-0.904442</td>\n",
       "      <td>-1.546393</td>\n",
       "      <td>-1.248282</td>\n",
       "      <td>-0.812221</td>\n",
       "      <td>0.034626</td>\n",
       "      <td>0.43186</td>\n",
       "      <td>-1.393623</td>\n",
       "      <td>-1.490999</td>\n",
       "      <td>-1.909700</td>\n",
       "      <td>-0.163519</td>\n",
       "      <td>1.066186</td>\n",
       "      <td>0.558587</td>\n",
       "      <td>-1.830618</td>\n",
       "      <td>1.484967</td>\n",
       "      <td>-0.681795</td>\n",
       "      <td>3.867486</td>\n",
       "      <td>-0.292205</td>\n",
       "      <td>...</td>\n",
       "      <td>-0.284063</td>\n",
       "      <td>-0.305441</td>\n",
       "      <td>-0.258566</td>\n",
       "      <td>-0.292205</td>\n",
       "      <td>-0.286794</td>\n",
       "      <td>-0.272944</td>\n",
       "      <td>-0.460034</td>\n",
       "      <td>2.236068</td>\n",
       "      <td>-0.466404</td>\n",
       "      <td>-0.407931</td>\n",
       "      <td>-0.429923</td>\n",
       "      <td>-0.302825</td>\n",
       "      <td>-0.839372</td>\n",
       "      <td>3.192809</td>\n",
       "      <td>1.080569</td>\n",
       "      <td>-0.631865</td>\n",
       "      <td>-0.553733</td>\n",
       "      <td>3.21926</td>\n",
       "      <td>-0.497916</td>\n",
       "      <td>-0.625672</td>\n",
       "    </tr>\n",
       "    <tr>\n",
       "      <th>595</th>\n",
       "      <td>-1.265778</td>\n",
       "      <td>-1.037803</td>\n",
       "      <td>-0.468878</td>\n",
       "      <td>-0.904442</td>\n",
       "      <td>-0.057480</td>\n",
       "      <td>0.180830</td>\n",
       "      <td>-0.812221</td>\n",
       "      <td>0.034626</td>\n",
       "      <td>0.43186</td>\n",
       "      <td>-1.524700</td>\n",
       "      <td>-0.203255</td>\n",
       "      <td>0.749767</td>\n",
       "      <td>-1.078736</td>\n",
       "      <td>1.066186</td>\n",
       "      <td>-1.436366</td>\n",
       "      <td>0.262314</td>\n",
       "      <td>1.484967</td>\n",
       "      <td>1.466718</td>\n",
       "      <td>-0.258566</td>\n",
       "      <td>-0.292205</td>\n",
       "      <td>...</td>\n",
       "      <td>-0.284063</td>\n",
       "      <td>-0.305441</td>\n",
       "      <td>-0.258566</td>\n",
       "      <td>-0.292205</td>\n",
       "      <td>-0.286794</td>\n",
       "      <td>-0.272944</td>\n",
       "      <td>-0.460034</td>\n",
       "      <td>-0.447214</td>\n",
       "      <td>2.144065</td>\n",
       "      <td>-0.407931</td>\n",
       "      <td>-0.429923</td>\n",
       "      <td>-0.302825</td>\n",
       "      <td>1.191367</td>\n",
       "      <td>-0.313204</td>\n",
       "      <td>1.080569</td>\n",
       "      <td>-0.631865</td>\n",
       "      <td>-0.553733</td>\n",
       "      <td>-0.31063</td>\n",
       "      <td>-0.497916</td>\n",
       "      <td>1.598281</td>\n",
       "    </tr>\n",
       "    <tr>\n",
       "      <th>873</th>\n",
       "      <td>1.019433</td>\n",
       "      <td>1.446300</td>\n",
       "      <td>-0.468878</td>\n",
       "      <td>-0.904442</td>\n",
       "      <td>-0.674572</td>\n",
       "      <td>0.895386</td>\n",
       "      <td>-0.812221</td>\n",
       "      <td>-1.202033</td>\n",
       "      <td>0.43186</td>\n",
       "      <td>0.048217</td>\n",
       "      <td>0.042625</td>\n",
       "      <td>-0.592794</td>\n",
       "      <td>-0.163519</td>\n",
       "      <td>-0.937923</td>\n",
       "      <td>1.556063</td>\n",
       "      <td>0.262314</td>\n",
       "      <td>-0.673415</td>\n",
       "      <td>1.466718</td>\n",
       "      <td>3.867486</td>\n",
       "      <td>-0.292205</td>\n",
       "      <td>...</td>\n",
       "      <td>-0.284063</td>\n",
       "      <td>-0.305441</td>\n",
       "      <td>-0.258566</td>\n",
       "      <td>-0.292205</td>\n",
       "      <td>-0.286794</td>\n",
       "      <td>-0.272944</td>\n",
       "      <td>-0.460034</td>\n",
       "      <td>-0.447214</td>\n",
       "      <td>2.144065</td>\n",
       "      <td>-0.407931</td>\n",
       "      <td>-0.429923</td>\n",
       "      <td>-0.302825</td>\n",
       "      <td>1.191367</td>\n",
       "      <td>-0.313204</td>\n",
       "      <td>1.080569</td>\n",
       "      <td>-0.631865</td>\n",
       "      <td>-0.553733</td>\n",
       "      <td>-0.31063</td>\n",
       "      <td>-0.497916</td>\n",
       "      <td>-0.625672</td>\n",
       "    </tr>\n",
       "    <tr>\n",
       "      <th>631</th>\n",
       "      <td>-0.483995</td>\n",
       "      <td>-0.209769</td>\n",
       "      <td>2.171861</td>\n",
       "      <td>-0.904442</td>\n",
       "      <td>-0.760678</td>\n",
       "      <td>-1.391193</td>\n",
       "      <td>0.175082</td>\n",
       "      <td>0.034626</td>\n",
       "      <td>0.43186</td>\n",
       "      <td>0.474215</td>\n",
       "      <td>-0.540819</td>\n",
       "      <td>0.057108</td>\n",
       "      <td>1.361843</td>\n",
       "      <td>-0.937923</td>\n",
       "      <td>0.558587</td>\n",
       "      <td>1.308780</td>\n",
       "      <td>-0.673415</td>\n",
       "      <td>-0.681795</td>\n",
       "      <td>-0.258566</td>\n",
       "      <td>-0.292205</td>\n",
       "      <td>...</td>\n",
       "      <td>-0.284063</td>\n",
       "      <td>3.273950</td>\n",
       "      <td>-0.258566</td>\n",
       "      <td>-0.292205</td>\n",
       "      <td>-0.286794</td>\n",
       "      <td>-0.272944</td>\n",
       "      <td>-0.460034</td>\n",
       "      <td>-0.447214</td>\n",
       "      <td>-0.466404</td>\n",
       "      <td>-0.407931</td>\n",
       "      <td>-0.429923</td>\n",
       "      <td>-0.302825</td>\n",
       "      <td>-0.839372</td>\n",
       "      <td>-0.313204</td>\n",
       "      <td>1.080569</td>\n",
       "      <td>-0.631865</td>\n",
       "      <td>-0.553733</td>\n",
       "      <td>-0.31063</td>\n",
       "      <td>2.008372</td>\n",
       "      <td>-0.625672</td>\n",
       "    </tr>\n",
       "  </tbody>\n",
       "</table>\n",
       "<p>5 rows × 45 columns</p>\n",
       "</div>"
      ],
      "text/plain": [
       "     months_as_customer  policy_deductable  umbrella_limit  capital-gains  \\\n",
       "65             0.435244          -1.037803       -0.468878       0.385876   \n",
       "244           -0.930728          -0.209769       -0.468878      -0.904442   \n",
       "595           -1.265778          -1.037803       -0.468878      -0.904442   \n",
       "873            1.019433           1.446300       -0.468878      -0.904442   \n",
       "631           -0.483995          -0.209769        2.171861      -0.904442   \n",
       "\n",
       "     capital-loss  incident_hour_of_the_day  number_of_vehicles_involved  \\\n",
       "65       0.975789                 -0.819548                     1.162385   \n",
       "244     -1.546393                 -1.248282                    -0.812221   \n",
       "595     -0.057480                  0.180830                    -0.812221   \n",
       "873     -0.674572                  0.895386                    -0.812221   \n",
       "631     -0.760678                 -1.391193                     0.175082   \n",
       "\n",
       "     bodily_injuries  witnesses  injury_claim  property_claim  vehicle_claim  \\\n",
       "65          1.271286    0.43186      1.285251       -0.128241       1.270329   \n",
       "244         0.034626    0.43186     -1.393623       -1.490999      -1.909700   \n",
       "595         0.034626    0.43186     -1.524700       -0.203255       0.749767   \n",
       "873        -1.202033    0.43186      0.048217        0.042625      -0.592794   \n",
       "631         0.034626    0.43186      0.474215       -0.540819       0.057108   \n",
       "\n",
       "     policy_csl  insured_sex  insured_education_level  incident_severity  \\\n",
       "65    -1.078736    -0.937923                 1.057325          -0.784152   \n",
       "244   -0.163519     1.066186                 0.558587          -1.830618   \n",
       "595   -1.078736     1.066186                -1.436366           0.262314   \n",
       "873   -0.163519    -0.937923                 1.556063           0.262314   \n",
       "631    1.361843    -0.937923                 0.558587           1.308780   \n",
       "\n",
       "     property_damage  police_report_available  \\\n",
       "65          1.484967                -0.681795   \n",
       "244         1.484967                -0.681795   \n",
       "595         1.484967                 1.466718   \n",
       "873        -0.673415                 1.466718   \n",
       "631        -0.673415                -0.681795   \n",
       "\n",
       "     insured_occupation_armed-forces  insured_occupation_craft-repair  ...  \\\n",
       "65                         -0.258566                        -0.292205  ...   \n",
       "244                         3.867486                        -0.292205  ...   \n",
       "595                        -0.258566                        -0.292205  ...   \n",
       "873                         3.867486                        -0.292205  ...   \n",
       "631                        -0.258566                        -0.292205  ...   \n",
       "\n",
       "     insured_occupation_priv-house-serv  insured_occupation_prof-specialty  \\\n",
       "65                            -0.284063                          -0.305441   \n",
       "244                           -0.284063                          -0.305441   \n",
       "595                           -0.284063                          -0.305441   \n",
       "873                           -0.284063                          -0.305441   \n",
       "631                           -0.284063                           3.273950   \n",
       "\n",
       "     insured_occupation_protective-serv  insured_occupation_sales  \\\n",
       "65                            -0.258566                 -0.292205   \n",
       "244                           -0.258566                 -0.292205   \n",
       "595                           -0.258566                 -0.292205   \n",
       "873                           -0.258566                 -0.292205   \n",
       "631                           -0.258566                 -0.292205   \n",
       "\n",
       "     insured_occupation_tech-support  insured_occupation_transport-moving  \\\n",
       "65                         -0.286794                            -0.272944   \n",
       "244                        -0.286794                            -0.272944   \n",
       "595                        -0.286794                            -0.272944   \n",
       "873                        -0.286794                            -0.272944   \n",
       "631                        -0.286794                            -0.272944   \n",
       "\n",
       "     insured_relationship_not-in-family  insured_relationship_other-relative  \\\n",
       "65                            -0.460034                             2.236068   \n",
       "244                           -0.460034                             2.236068   \n",
       "595                           -0.460034                            -0.447214   \n",
       "873                           -0.460034                            -0.447214   \n",
       "631                           -0.460034                            -0.447214   \n",
       "\n",
       "     insured_relationship_own-child  insured_relationship_unmarried  \\\n",
       "65                        -0.466404                       -0.407931   \n",
       "244                       -0.466404                       -0.407931   \n",
       "595                        2.144065                       -0.407931   \n",
       "873                        2.144065                       -0.407931   \n",
       "631                       -0.466404                       -0.407931   \n",
       "\n",
       "     insured_relationship_wife  incident_type_Parked Car  \\\n",
       "65                   -0.429923                 -0.302825   \n",
       "244                  -0.429923                 -0.302825   \n",
       "595                  -0.429923                 -0.302825   \n",
       "873                  -0.429923                 -0.302825   \n",
       "631                  -0.429923                 -0.302825   \n",
       "\n",
       "     incident_type_Single Vehicle Collision  incident_type_Vehicle Theft  \\\n",
       "65                                -0.839372                    -0.313204   \n",
       "244                               -0.839372                     3.192809   \n",
       "595                                1.191367                    -0.313204   \n",
       "873                                1.191367                    -0.313204   \n",
       "631                               -0.839372                    -0.313204   \n",
       "\n",
       "     collision_type_Rear Collision  collision_type_Side Collision  \\\n",
       "65                       -0.925438                      -0.631865   \n",
       "244                       1.080569                      -0.631865   \n",
       "595                       1.080569                      -0.631865   \n",
       "873                       1.080569                      -0.631865   \n",
       "631                       1.080569                      -0.631865   \n",
       "\n",
       "     authorities_contacted_Fire  authorities_contacted_None  \\\n",
       "65                    -0.553733                    -0.31063   \n",
       "244                   -0.553733                     3.21926   \n",
       "595                   -0.553733                    -0.31063   \n",
       "873                   -0.553733                    -0.31063   \n",
       "631                   -0.553733                    -0.31063   \n",
       "\n",
       "     authorities_contacted_Other  authorities_contacted_Police  \n",
       "65                     -0.497916                     -0.625672  \n",
       "244                    -0.497916                     -0.625672  \n",
       "595                    -0.497916                      1.598281  \n",
       "873                    -0.497916                     -0.625672  \n",
       "631                     2.008372                     -0.625672  \n",
       "\n",
       "[5 rows x 45 columns]"
      ]
     },
     "execution_count": 65,
     "metadata": {},
     "output_type": "execute_result"
    }
   ],
   "source": [
    "scaled_train.head()"
   ]
  },
  {
   "cell_type": "code",
   "execution_count": 66,
   "id": "6287ced5",
   "metadata": {
    "colab": {
     "base_uri": "https://localhost:8080/",
     "height": 505
    },
    "executionInfo": {
     "elapsed": 224,
     "status": "ok",
     "timestamp": 1678212424313,
     "user": {
      "displayName": "Tanmay Hajare",
      "userId": "05037382924936965487"
     },
     "user_tz": -330
    },
    "id": "6287ced5",
    "outputId": "c8ada838-79ef-488f-d998-d60ba5f0cd28"
   },
   "outputs": [
    {
     "data": {
      "text/html": [
       "<div>\n",
       "<style scoped>\n",
       "    .dataframe tbody tr th:only-of-type {\n",
       "        vertical-align: middle;\n",
       "    }\n",
       "\n",
       "    .dataframe tbody tr th {\n",
       "        vertical-align: top;\n",
       "    }\n",
       "\n",
       "    .dataframe thead th {\n",
       "        text-align: right;\n",
       "    }\n",
       "</style>\n",
       "<table border=\"1\" class=\"dataframe\">\n",
       "  <thead>\n",
       "    <tr style=\"text-align: right;\">\n",
       "      <th></th>\n",
       "      <th>months_as_customer</th>\n",
       "      <th>policy_deductable</th>\n",
       "      <th>umbrella_limit</th>\n",
       "      <th>capital-gains</th>\n",
       "      <th>capital-loss</th>\n",
       "      <th>incident_hour_of_the_day</th>\n",
       "      <th>number_of_vehicles_involved</th>\n",
       "      <th>bodily_injuries</th>\n",
       "      <th>witnesses</th>\n",
       "      <th>injury_claim</th>\n",
       "      <th>property_claim</th>\n",
       "      <th>vehicle_claim</th>\n",
       "      <th>policy_csl</th>\n",
       "      <th>insured_sex</th>\n",
       "      <th>insured_education_level</th>\n",
       "      <th>incident_severity</th>\n",
       "      <th>property_damage</th>\n",
       "      <th>police_report_available</th>\n",
       "      <th>insured_occupation_armed-forces</th>\n",
       "      <th>insured_occupation_craft-repair</th>\n",
       "      <th>...</th>\n",
       "      <th>insured_occupation_priv-house-serv</th>\n",
       "      <th>insured_occupation_prof-specialty</th>\n",
       "      <th>insured_occupation_protective-serv</th>\n",
       "      <th>insured_occupation_sales</th>\n",
       "      <th>insured_occupation_tech-support</th>\n",
       "      <th>insured_occupation_transport-moving</th>\n",
       "      <th>insured_relationship_not-in-family</th>\n",
       "      <th>insured_relationship_other-relative</th>\n",
       "      <th>insured_relationship_own-child</th>\n",
       "      <th>insured_relationship_unmarried</th>\n",
       "      <th>insured_relationship_wife</th>\n",
       "      <th>incident_type_Parked Car</th>\n",
       "      <th>incident_type_Single Vehicle Collision</th>\n",
       "      <th>incident_type_Vehicle Theft</th>\n",
       "      <th>collision_type_Rear Collision</th>\n",
       "      <th>collision_type_Side Collision</th>\n",
       "      <th>authorities_contacted_Fire</th>\n",
       "      <th>authorities_contacted_None</th>\n",
       "      <th>authorities_contacted_Other</th>\n",
       "      <th>authorities_contacted_Police</th>\n",
       "    </tr>\n",
       "  </thead>\n",
       "  <tbody>\n",
       "    <tr>\n",
       "      <th>381</th>\n",
       "      <td>47</td>\n",
       "      <td>500</td>\n",
       "      <td>0</td>\n",
       "      <td>64800</td>\n",
       "      <td>-24300</td>\n",
       "      <td>23</td>\n",
       "      <td>1</td>\n",
       "      <td>1</td>\n",
       "      <td>3</td>\n",
       "      <td>11440</td>\n",
       "      <td>5720</td>\n",
       "      <td>45760</td>\n",
       "      <td>5.0</td>\n",
       "      <td>0</td>\n",
       "      <td>7</td>\n",
       "      <td>2</td>\n",
       "      <td>1</td>\n",
       "      <td>0</td>\n",
       "      <td>0</td>\n",
       "      <td>0</td>\n",
       "      <td>...</td>\n",
       "      <td>0</td>\n",
       "      <td>0</td>\n",
       "      <td>0</td>\n",
       "      <td>0</td>\n",
       "      <td>0</td>\n",
       "      <td>0</td>\n",
       "      <td>0</td>\n",
       "      <td>1</td>\n",
       "      <td>0</td>\n",
       "      <td>0</td>\n",
       "      <td>0</td>\n",
       "      <td>0</td>\n",
       "      <td>1</td>\n",
       "      <td>0</td>\n",
       "      <td>0</td>\n",
       "      <td>0</td>\n",
       "      <td>0</td>\n",
       "      <td>0</td>\n",
       "      <td>0</td>\n",
       "      <td>1</td>\n",
       "    </tr>\n",
       "    <tr>\n",
       "      <th>732</th>\n",
       "      <td>96</td>\n",
       "      <td>2000</td>\n",
       "      <td>0</td>\n",
       "      <td>10000</td>\n",
       "      <td>0</td>\n",
       "      <td>9</td>\n",
       "      <td>1</td>\n",
       "      <td>2</td>\n",
       "      <td>3</td>\n",
       "      <td>7120</td>\n",
       "      <td>14240</td>\n",
       "      <td>56960</td>\n",
       "      <td>2.5</td>\n",
       "      <td>0</td>\n",
       "      <td>5</td>\n",
       "      <td>4</td>\n",
       "      <td>1</td>\n",
       "      <td>0</td>\n",
       "      <td>0</td>\n",
       "      <td>0</td>\n",
       "      <td>...</td>\n",
       "      <td>0</td>\n",
       "      <td>1</td>\n",
       "      <td>0</td>\n",
       "      <td>0</td>\n",
       "      <td>0</td>\n",
       "      <td>0</td>\n",
       "      <td>0</td>\n",
       "      <td>0</td>\n",
       "      <td>0</td>\n",
       "      <td>0</td>\n",
       "      <td>0</td>\n",
       "      <td>0</td>\n",
       "      <td>1</td>\n",
       "      <td>0</td>\n",
       "      <td>0</td>\n",
       "      <td>0</td>\n",
       "      <td>0</td>\n",
       "      <td>0</td>\n",
       "      <td>0</td>\n",
       "      <td>0</td>\n",
       "    </tr>\n",
       "    <tr>\n",
       "      <th>179</th>\n",
       "      <td>235</td>\n",
       "      <td>500</td>\n",
       "      <td>4000000</td>\n",
       "      <td>0</td>\n",
       "      <td>-31700</td>\n",
       "      <td>1</td>\n",
       "      <td>1</td>\n",
       "      <td>2</td>\n",
       "      <td>1</td>\n",
       "      <td>450</td>\n",
       "      <td>900</td>\n",
       "      <td>3600</td>\n",
       "      <td>1.0</td>\n",
       "      <td>1</td>\n",
       "      <td>6</td>\n",
       "      <td>1</td>\n",
       "      <td>0</td>\n",
       "      <td>0</td>\n",
       "      <td>0</td>\n",
       "      <td>0</td>\n",
       "      <td>...</td>\n",
       "      <td>0</td>\n",
       "      <td>0</td>\n",
       "      <td>0</td>\n",
       "      <td>0</td>\n",
       "      <td>1</td>\n",
       "      <td>0</td>\n",
       "      <td>0</td>\n",
       "      <td>0</td>\n",
       "      <td>0</td>\n",
       "      <td>0</td>\n",
       "      <td>1</td>\n",
       "      <td>0</td>\n",
       "      <td>0</td>\n",
       "      <td>1</td>\n",
       "      <td>1</td>\n",
       "      <td>0</td>\n",
       "      <td>0</td>\n",
       "      <td>1</td>\n",
       "      <td>0</td>\n",
       "      <td>0</td>\n",
       "    </tr>\n",
       "    <tr>\n",
       "      <th>845</th>\n",
       "      <td>147</td>\n",
       "      <td>2000</td>\n",
       "      <td>0</td>\n",
       "      <td>0</td>\n",
       "      <td>0</td>\n",
       "      <td>11</td>\n",
       "      <td>3</td>\n",
       "      <td>0</td>\n",
       "      <td>1</td>\n",
       "      <td>6240</td>\n",
       "      <td>6240</td>\n",
       "      <td>43680</td>\n",
       "      <td>5.0</td>\n",
       "      <td>0</td>\n",
       "      <td>4</td>\n",
       "      <td>3</td>\n",
       "      <td>0</td>\n",
       "      <td>0</td>\n",
       "      <td>1</td>\n",
       "      <td>0</td>\n",
       "      <td>...</td>\n",
       "      <td>0</td>\n",
       "      <td>0</td>\n",
       "      <td>0</td>\n",
       "      <td>0</td>\n",
       "      <td>0</td>\n",
       "      <td>0</td>\n",
       "      <td>0</td>\n",
       "      <td>0</td>\n",
       "      <td>1</td>\n",
       "      <td>0</td>\n",
       "      <td>0</td>\n",
       "      <td>0</td>\n",
       "      <td>0</td>\n",
       "      <td>0</td>\n",
       "      <td>0</td>\n",
       "      <td>1</td>\n",
       "      <td>0</td>\n",
       "      <td>0</td>\n",
       "      <td>0</td>\n",
       "      <td>0</td>\n",
       "    </tr>\n",
       "    <tr>\n",
       "      <th>111</th>\n",
       "      <td>453</td>\n",
       "      <td>500</td>\n",
       "      <td>6000000</td>\n",
       "      <td>52600</td>\n",
       "      <td>-38800</td>\n",
       "      <td>0</td>\n",
       "      <td>1</td>\n",
       "      <td>0</td>\n",
       "      <td>0</td>\n",
       "      <td>14000</td>\n",
       "      <td>7000</td>\n",
       "      <td>49000</td>\n",
       "      <td>1.0</td>\n",
       "      <td>1</td>\n",
       "      <td>7</td>\n",
       "      <td>3</td>\n",
       "      <td>1</td>\n",
       "      <td>0</td>\n",
       "      <td>0</td>\n",
       "      <td>1</td>\n",
       "      <td>...</td>\n",
       "      <td>0</td>\n",
       "      <td>0</td>\n",
       "      <td>0</td>\n",
       "      <td>0</td>\n",
       "      <td>0</td>\n",
       "      <td>0</td>\n",
       "      <td>0</td>\n",
       "      <td>0</td>\n",
       "      <td>0</td>\n",
       "      <td>1</td>\n",
       "      <td>0</td>\n",
       "      <td>0</td>\n",
       "      <td>1</td>\n",
       "      <td>0</td>\n",
       "      <td>0</td>\n",
       "      <td>0</td>\n",
       "      <td>1</td>\n",
       "      <td>0</td>\n",
       "      <td>0</td>\n",
       "      <td>0</td>\n",
       "    </tr>\n",
       "    <tr>\n",
       "      <th>...</th>\n",
       "      <td>...</td>\n",
       "      <td>...</td>\n",
       "      <td>...</td>\n",
       "      <td>...</td>\n",
       "      <td>...</td>\n",
       "      <td>...</td>\n",
       "      <td>...</td>\n",
       "      <td>...</td>\n",
       "      <td>...</td>\n",
       "      <td>...</td>\n",
       "      <td>...</td>\n",
       "      <td>...</td>\n",
       "      <td>...</td>\n",
       "      <td>...</td>\n",
       "      <td>...</td>\n",
       "      <td>...</td>\n",
       "      <td>...</td>\n",
       "      <td>...</td>\n",
       "      <td>...</td>\n",
       "      <td>...</td>\n",
       "      <td>...</td>\n",
       "      <td>...</td>\n",
       "      <td>...</td>\n",
       "      <td>...</td>\n",
       "      <td>...</td>\n",
       "      <td>...</td>\n",
       "      <td>...</td>\n",
       "      <td>...</td>\n",
       "      <td>...</td>\n",
       "      <td>...</td>\n",
       "      <td>...</td>\n",
       "      <td>...</td>\n",
       "      <td>...</td>\n",
       "      <td>...</td>\n",
       "      <td>...</td>\n",
       "      <td>...</td>\n",
       "      <td>...</td>\n",
       "      <td>...</td>\n",
       "      <td>...</td>\n",
       "      <td>...</td>\n",
       "      <td>...</td>\n",
       "    </tr>\n",
       "    <tr>\n",
       "      <th>283</th>\n",
       "      <td>436</td>\n",
       "      <td>2000</td>\n",
       "      <td>5000000</td>\n",
       "      <td>47400</td>\n",
       "      <td>-27600</td>\n",
       "      <td>10</td>\n",
       "      <td>1</td>\n",
       "      <td>0</td>\n",
       "      <td>2</td>\n",
       "      <td>11980</td>\n",
       "      <td>5990</td>\n",
       "      <td>41930</td>\n",
       "      <td>2.5</td>\n",
       "      <td>1</td>\n",
       "      <td>7</td>\n",
       "      <td>3</td>\n",
       "      <td>0</td>\n",
       "      <td>0</td>\n",
       "      <td>0</td>\n",
       "      <td>0</td>\n",
       "      <td>...</td>\n",
       "      <td>0</td>\n",
       "      <td>0</td>\n",
       "      <td>0</td>\n",
       "      <td>0</td>\n",
       "      <td>1</td>\n",
       "      <td>0</td>\n",
       "      <td>0</td>\n",
       "      <td>1</td>\n",
       "      <td>0</td>\n",
       "      <td>0</td>\n",
       "      <td>0</td>\n",
       "      <td>0</td>\n",
       "      <td>1</td>\n",
       "      <td>0</td>\n",
       "      <td>1</td>\n",
       "      <td>0</td>\n",
       "      <td>0</td>\n",
       "      <td>0</td>\n",
       "      <td>0</td>\n",
       "      <td>1</td>\n",
       "    </tr>\n",
       "    <tr>\n",
       "      <th>965</th>\n",
       "      <td>80</td>\n",
       "      <td>1000</td>\n",
       "      <td>0</td>\n",
       "      <td>64600</td>\n",
       "      <td>0</td>\n",
       "      <td>12</td>\n",
       "      <td>1</td>\n",
       "      <td>0</td>\n",
       "      <td>0</td>\n",
       "      <td>9040</td>\n",
       "      <td>9040</td>\n",
       "      <td>72320</td>\n",
       "      <td>1.0</td>\n",
       "      <td>1</td>\n",
       "      <td>4</td>\n",
       "      <td>2</td>\n",
       "      <td>0</td>\n",
       "      <td>0</td>\n",
       "      <td>0</td>\n",
       "      <td>0</td>\n",
       "      <td>...</td>\n",
       "      <td>0</td>\n",
       "      <td>0</td>\n",
       "      <td>0</td>\n",
       "      <td>0</td>\n",
       "      <td>0</td>\n",
       "      <td>0</td>\n",
       "      <td>0</td>\n",
       "      <td>1</td>\n",
       "      <td>0</td>\n",
       "      <td>0</td>\n",
       "      <td>0</td>\n",
       "      <td>0</td>\n",
       "      <td>1</td>\n",
       "      <td>0</td>\n",
       "      <td>0</td>\n",
       "      <td>0</td>\n",
       "      <td>0</td>\n",
       "      <td>0</td>\n",
       "      <td>1</td>\n",
       "      <td>0</td>\n",
       "    </tr>\n",
       "    <tr>\n",
       "      <th>591</th>\n",
       "      <td>43</td>\n",
       "      <td>500</td>\n",
       "      <td>0</td>\n",
       "      <td>0</td>\n",
       "      <td>0</td>\n",
       "      <td>16</td>\n",
       "      <td>1</td>\n",
       "      <td>2</td>\n",
       "      <td>1</td>\n",
       "      <td>7270</td>\n",
       "      <td>21810</td>\n",
       "      <td>50890</td>\n",
       "      <td>5.0</td>\n",
       "      <td>0</td>\n",
       "      <td>5</td>\n",
       "      <td>3</td>\n",
       "      <td>0</td>\n",
       "      <td>0</td>\n",
       "      <td>1</td>\n",
       "      <td>0</td>\n",
       "      <td>...</td>\n",
       "      <td>0</td>\n",
       "      <td>0</td>\n",
       "      <td>0</td>\n",
       "      <td>0</td>\n",
       "      <td>0</td>\n",
       "      <td>0</td>\n",
       "      <td>1</td>\n",
       "      <td>0</td>\n",
       "      <td>0</td>\n",
       "      <td>0</td>\n",
       "      <td>0</td>\n",
       "      <td>0</td>\n",
       "      <td>1</td>\n",
       "      <td>0</td>\n",
       "      <td>1</td>\n",
       "      <td>0</td>\n",
       "      <td>0</td>\n",
       "      <td>0</td>\n",
       "      <td>0</td>\n",
       "      <td>0</td>\n",
       "    </tr>\n",
       "    <tr>\n",
       "      <th>176</th>\n",
       "      <td>155</td>\n",
       "      <td>500</td>\n",
       "      <td>0</td>\n",
       "      <td>0</td>\n",
       "      <td>0</td>\n",
       "      <td>1</td>\n",
       "      <td>1</td>\n",
       "      <td>1</td>\n",
       "      <td>1</td>\n",
       "      <td>8560</td>\n",
       "      <td>8560</td>\n",
       "      <td>59920</td>\n",
       "      <td>1.0</td>\n",
       "      <td>1</td>\n",
       "      <td>4</td>\n",
       "      <td>2</td>\n",
       "      <td>0</td>\n",
       "      <td>1</td>\n",
       "      <td>0</td>\n",
       "      <td>0</td>\n",
       "      <td>...</td>\n",
       "      <td>0</td>\n",
       "      <td>0</td>\n",
       "      <td>1</td>\n",
       "      <td>0</td>\n",
       "      <td>0</td>\n",
       "      <td>0</td>\n",
       "      <td>0</td>\n",
       "      <td>1</td>\n",
       "      <td>0</td>\n",
       "      <td>0</td>\n",
       "      <td>0</td>\n",
       "      <td>0</td>\n",
       "      <td>1</td>\n",
       "      <td>0</td>\n",
       "      <td>0</td>\n",
       "      <td>0</td>\n",
       "      <td>0</td>\n",
       "      <td>0</td>\n",
       "      <td>0</td>\n",
       "      <td>0</td>\n",
       "    </tr>\n",
       "    <tr>\n",
       "      <th>155</th>\n",
       "      <td>375</td>\n",
       "      <td>1000</td>\n",
       "      <td>0</td>\n",
       "      <td>0</td>\n",
       "      <td>0</td>\n",
       "      <td>16</td>\n",
       "      <td>1</td>\n",
       "      <td>2</td>\n",
       "      <td>3</td>\n",
       "      <td>0</td>\n",
       "      <td>0</td>\n",
       "      <td>37280</td>\n",
       "      <td>1.0</td>\n",
       "      <td>1</td>\n",
       "      <td>5</td>\n",
       "      <td>3</td>\n",
       "      <td>1</td>\n",
       "      <td>0</td>\n",
       "      <td>0</td>\n",
       "      <td>0</td>\n",
       "      <td>...</td>\n",
       "      <td>0</td>\n",
       "      <td>0</td>\n",
       "      <td>0</td>\n",
       "      <td>1</td>\n",
       "      <td>0</td>\n",
       "      <td>0</td>\n",
       "      <td>0</td>\n",
       "      <td>1</td>\n",
       "      <td>0</td>\n",
       "      <td>0</td>\n",
       "      <td>0</td>\n",
       "      <td>0</td>\n",
       "      <td>1</td>\n",
       "      <td>0</td>\n",
       "      <td>0</td>\n",
       "      <td>0</td>\n",
       "      <td>0</td>\n",
       "      <td>0</td>\n",
       "      <td>0</td>\n",
       "      <td>1</td>\n",
       "    </tr>\n",
       "  </tbody>\n",
       "</table>\n",
       "<p>250 rows × 45 columns</p>\n",
       "</div>"
      ],
      "text/plain": [
       "     months_as_customer  policy_deductable  umbrella_limit  capital-gains  \\\n",
       "381                  47                500               0          64800   \n",
       "732                  96               2000               0          10000   \n",
       "179                 235                500         4000000              0   \n",
       "845                 147               2000               0              0   \n",
       "111                 453                500         6000000          52600   \n",
       "..                  ...                ...             ...            ...   \n",
       "283                 436               2000         5000000          47400   \n",
       "965                  80               1000               0          64600   \n",
       "591                  43                500               0              0   \n",
       "176                 155                500               0              0   \n",
       "155                 375               1000               0              0   \n",
       "\n",
       "     capital-loss  incident_hour_of_the_day  number_of_vehicles_involved  \\\n",
       "381        -24300                        23                            1   \n",
       "732             0                         9                            1   \n",
       "179        -31700                         1                            1   \n",
       "845             0                        11                            3   \n",
       "111        -38800                         0                            1   \n",
       "..            ...                       ...                          ...   \n",
       "283        -27600                        10                            1   \n",
       "965             0                        12                            1   \n",
       "591             0                        16                            1   \n",
       "176             0                         1                            1   \n",
       "155             0                        16                            1   \n",
       "\n",
       "     bodily_injuries  witnesses  injury_claim  property_claim  vehicle_claim  \\\n",
       "381                1          3         11440            5720          45760   \n",
       "732                2          3          7120           14240          56960   \n",
       "179                2          1           450             900           3600   \n",
       "845                0          1          6240            6240          43680   \n",
       "111                0          0         14000            7000          49000   \n",
       "..               ...        ...           ...             ...            ...   \n",
       "283                0          2         11980            5990          41930   \n",
       "965                0          0          9040            9040          72320   \n",
       "591                2          1          7270           21810          50890   \n",
       "176                1          1          8560            8560          59920   \n",
       "155                2          3             0               0          37280   \n",
       "\n",
       "     policy_csl  insured_sex  insured_education_level  incident_severity  \\\n",
       "381         5.0            0                        7                  2   \n",
       "732         2.5            0                        5                  4   \n",
       "179         1.0            1                        6                  1   \n",
       "845         5.0            0                        4                  3   \n",
       "111         1.0            1                        7                  3   \n",
       "..          ...          ...                      ...                ...   \n",
       "283         2.5            1                        7                  3   \n",
       "965         1.0            1                        4                  2   \n",
       "591         5.0            0                        5                  3   \n",
       "176         1.0            1                        4                  2   \n",
       "155         1.0            1                        5                  3   \n",
       "\n",
       "     property_damage  police_report_available  \\\n",
       "381                1                        0   \n",
       "732                1                        0   \n",
       "179                0                        0   \n",
       "845                0                        0   \n",
       "111                1                        0   \n",
       "..               ...                      ...   \n",
       "283                0                        0   \n",
       "965                0                        0   \n",
       "591                0                        0   \n",
       "176                0                        1   \n",
       "155                1                        0   \n",
       "\n",
       "     insured_occupation_armed-forces  insured_occupation_craft-repair  ...  \\\n",
       "381                                0                                0  ...   \n",
       "732                                0                                0  ...   \n",
       "179                                0                                0  ...   \n",
       "845                                1                                0  ...   \n",
       "111                                0                                1  ...   \n",
       "..                               ...                              ...  ...   \n",
       "283                                0                                0  ...   \n",
       "965                                0                                0  ...   \n",
       "591                                1                                0  ...   \n",
       "176                                0                                0  ...   \n",
       "155                                0                                0  ...   \n",
       "\n",
       "     insured_occupation_priv-house-serv  insured_occupation_prof-specialty  \\\n",
       "381                                   0                                  0   \n",
       "732                                   0                                  1   \n",
       "179                                   0                                  0   \n",
       "845                                   0                                  0   \n",
       "111                                   0                                  0   \n",
       "..                                  ...                                ...   \n",
       "283                                   0                                  0   \n",
       "965                                   0                                  0   \n",
       "591                                   0                                  0   \n",
       "176                                   0                                  0   \n",
       "155                                   0                                  0   \n",
       "\n",
       "     insured_occupation_protective-serv  insured_occupation_sales  \\\n",
       "381                                   0                         0   \n",
       "732                                   0                         0   \n",
       "179                                   0                         0   \n",
       "845                                   0                         0   \n",
       "111                                   0                         0   \n",
       "..                                  ...                       ...   \n",
       "283                                   0                         0   \n",
       "965                                   0                         0   \n",
       "591                                   0                         0   \n",
       "176                                   1                         0   \n",
       "155                                   0                         1   \n",
       "\n",
       "     insured_occupation_tech-support  insured_occupation_transport-moving  \\\n",
       "381                                0                                    0   \n",
       "732                                0                                    0   \n",
       "179                                1                                    0   \n",
       "845                                0                                    0   \n",
       "111                                0                                    0   \n",
       "..                               ...                                  ...   \n",
       "283                                1                                    0   \n",
       "965                                0                                    0   \n",
       "591                                0                                    0   \n",
       "176                                0                                    0   \n",
       "155                                0                                    0   \n",
       "\n",
       "     insured_relationship_not-in-family  insured_relationship_other-relative  \\\n",
       "381                                   0                                    1   \n",
       "732                                   0                                    0   \n",
       "179                                   0                                    0   \n",
       "845                                   0                                    0   \n",
       "111                                   0                                    0   \n",
       "..                                  ...                                  ...   \n",
       "283                                   0                                    1   \n",
       "965                                   0                                    1   \n",
       "591                                   1                                    0   \n",
       "176                                   0                                    1   \n",
       "155                                   0                                    1   \n",
       "\n",
       "     insured_relationship_own-child  insured_relationship_unmarried  \\\n",
       "381                               0                               0   \n",
       "732                               0                               0   \n",
       "179                               0                               0   \n",
       "845                               1                               0   \n",
       "111                               0                               1   \n",
       "..                              ...                             ...   \n",
       "283                               0                               0   \n",
       "965                               0                               0   \n",
       "591                               0                               0   \n",
       "176                               0                               0   \n",
       "155                               0                               0   \n",
       "\n",
       "     insured_relationship_wife  incident_type_Parked Car  \\\n",
       "381                          0                         0   \n",
       "732                          0                         0   \n",
       "179                          1                         0   \n",
       "845                          0                         0   \n",
       "111                          0                         0   \n",
       "..                         ...                       ...   \n",
       "283                          0                         0   \n",
       "965                          0                         0   \n",
       "591                          0                         0   \n",
       "176                          0                         0   \n",
       "155                          0                         0   \n",
       "\n",
       "     incident_type_Single Vehicle Collision  incident_type_Vehicle Theft  \\\n",
       "381                                       1                            0   \n",
       "732                                       1                            0   \n",
       "179                                       0                            1   \n",
       "845                                       0                            0   \n",
       "111                                       1                            0   \n",
       "..                                      ...                          ...   \n",
       "283                                       1                            0   \n",
       "965                                       1                            0   \n",
       "591                                       1                            0   \n",
       "176                                       1                            0   \n",
       "155                                       1                            0   \n",
       "\n",
       "     collision_type_Rear Collision  collision_type_Side Collision  \\\n",
       "381                              0                              0   \n",
       "732                              0                              0   \n",
       "179                              1                              0   \n",
       "845                              0                              1   \n",
       "111                              0                              0   \n",
       "..                             ...                            ...   \n",
       "283                              1                              0   \n",
       "965                              0                              0   \n",
       "591                              1                              0   \n",
       "176                              0                              0   \n",
       "155                              0                              0   \n",
       "\n",
       "     authorities_contacted_Fire  authorities_contacted_None  \\\n",
       "381                           0                           0   \n",
       "732                           0                           0   \n",
       "179                           0                           1   \n",
       "845                           0                           0   \n",
       "111                           1                           0   \n",
       "..                          ...                         ...   \n",
       "283                           0                           0   \n",
       "965                           0                           0   \n",
       "591                           0                           0   \n",
       "176                           0                           0   \n",
       "155                           0                           0   \n",
       "\n",
       "     authorities_contacted_Other  authorities_contacted_Police  \n",
       "381                            0                             1  \n",
       "732                            0                             0  \n",
       "179                            0                             0  \n",
       "845                            0                             0  \n",
       "111                            0                             0  \n",
       "..                           ...                           ...  \n",
       "283                            0                             1  \n",
       "965                            1                             0  \n",
       "591                            0                             0  \n",
       "176                            0                             0  \n",
       "155                            0                             1  \n",
       "\n",
       "[250 rows x 45 columns]"
      ]
     },
     "execution_count": 66,
     "metadata": {},
     "output_type": "execute_result"
    }
   ],
   "source": [
    "test_x"
   ]
  },
  {
   "cell_type": "code",
   "execution_count": 67,
   "id": "a2495565",
   "metadata": {
    "colab": {
     "base_uri": "https://localhost:8080/",
     "height": 505
    },
    "executionInfo": {
     "elapsed": 221,
     "status": "ok",
     "timestamp": 1678212424314,
     "user": {
      "displayName": "Tanmay Hajare",
      "userId": "05037382924936965487"
     },
     "user_tz": -330
    },
    "id": "a2495565",
    "outputId": "626a7fbd-81c8-439b-ac71-225adce591a1"
   },
   "outputs": [
    {
     "data": {
      "text/html": [
       "<div>\n",
       "<style scoped>\n",
       "    .dataframe tbody tr th:only-of-type {\n",
       "        vertical-align: middle;\n",
       "    }\n",
       "\n",
       "    .dataframe tbody tr th {\n",
       "        vertical-align: top;\n",
       "    }\n",
       "\n",
       "    .dataframe thead th {\n",
       "        text-align: right;\n",
       "    }\n",
       "</style>\n",
       "<table border=\"1\" class=\"dataframe\">\n",
       "  <thead>\n",
       "    <tr style=\"text-align: right;\">\n",
       "      <th></th>\n",
       "      <th>bodily_injuries</th>\n",
       "      <th>insured_occupation_sales</th>\n",
       "      <th>property_claim</th>\n",
       "      <th>insured_occupation_farming-fishing</th>\n",
       "      <th>injury_claim</th>\n",
       "      <th>insured_occupation_tech-support</th>\n",
       "      <th>policy_deductable</th>\n",
       "      <th>capital-loss</th>\n",
       "      <th>incident_type_Parked Car</th>\n",
       "      <th>insured_occupation_machine-op-inspct</th>\n",
       "      <th>collision_type_Rear Collision</th>\n",
       "      <th>insured_relationship_wife</th>\n",
       "      <th>insured_relationship_other-relative</th>\n",
       "    </tr>\n",
       "  </thead>\n",
       "  <tbody>\n",
       "    <tr>\n",
       "      <th>381</th>\n",
       "      <td>1</td>\n",
       "      <td>0</td>\n",
       "      <td>5720</td>\n",
       "      <td>0</td>\n",
       "      <td>11440</td>\n",
       "      <td>0</td>\n",
       "      <td>500</td>\n",
       "      <td>-24300</td>\n",
       "      <td>0</td>\n",
       "      <td>0</td>\n",
       "      <td>0</td>\n",
       "      <td>0</td>\n",
       "      <td>1</td>\n",
       "    </tr>\n",
       "    <tr>\n",
       "      <th>732</th>\n",
       "      <td>2</td>\n",
       "      <td>0</td>\n",
       "      <td>14240</td>\n",
       "      <td>0</td>\n",
       "      <td>7120</td>\n",
       "      <td>0</td>\n",
       "      <td>2000</td>\n",
       "      <td>0</td>\n",
       "      <td>0</td>\n",
       "      <td>0</td>\n",
       "      <td>0</td>\n",
       "      <td>0</td>\n",
       "      <td>0</td>\n",
       "    </tr>\n",
       "    <tr>\n",
       "      <th>179</th>\n",
       "      <td>2</td>\n",
       "      <td>0</td>\n",
       "      <td>900</td>\n",
       "      <td>0</td>\n",
       "      <td>450</td>\n",
       "      <td>1</td>\n",
       "      <td>500</td>\n",
       "      <td>-31700</td>\n",
       "      <td>0</td>\n",
       "      <td>0</td>\n",
       "      <td>1</td>\n",
       "      <td>1</td>\n",
       "      <td>0</td>\n",
       "    </tr>\n",
       "    <tr>\n",
       "      <th>845</th>\n",
       "      <td>0</td>\n",
       "      <td>0</td>\n",
       "      <td>6240</td>\n",
       "      <td>0</td>\n",
       "      <td>6240</td>\n",
       "      <td>0</td>\n",
       "      <td>2000</td>\n",
       "      <td>0</td>\n",
       "      <td>0</td>\n",
       "      <td>0</td>\n",
       "      <td>0</td>\n",
       "      <td>0</td>\n",
       "      <td>0</td>\n",
       "    </tr>\n",
       "    <tr>\n",
       "      <th>111</th>\n",
       "      <td>0</td>\n",
       "      <td>0</td>\n",
       "      <td>7000</td>\n",
       "      <td>0</td>\n",
       "      <td>14000</td>\n",
       "      <td>0</td>\n",
       "      <td>500</td>\n",
       "      <td>-38800</td>\n",
       "      <td>0</td>\n",
       "      <td>0</td>\n",
       "      <td>0</td>\n",
       "      <td>0</td>\n",
       "      <td>0</td>\n",
       "    </tr>\n",
       "    <tr>\n",
       "      <th>...</th>\n",
       "      <td>...</td>\n",
       "      <td>...</td>\n",
       "      <td>...</td>\n",
       "      <td>...</td>\n",
       "      <td>...</td>\n",
       "      <td>...</td>\n",
       "      <td>...</td>\n",
       "      <td>...</td>\n",
       "      <td>...</td>\n",
       "      <td>...</td>\n",
       "      <td>...</td>\n",
       "      <td>...</td>\n",
       "      <td>...</td>\n",
       "    </tr>\n",
       "    <tr>\n",
       "      <th>283</th>\n",
       "      <td>0</td>\n",
       "      <td>0</td>\n",
       "      <td>5990</td>\n",
       "      <td>0</td>\n",
       "      <td>11980</td>\n",
       "      <td>1</td>\n",
       "      <td>2000</td>\n",
       "      <td>-27600</td>\n",
       "      <td>0</td>\n",
       "      <td>0</td>\n",
       "      <td>1</td>\n",
       "      <td>0</td>\n",
       "      <td>1</td>\n",
       "    </tr>\n",
       "    <tr>\n",
       "      <th>965</th>\n",
       "      <td>0</td>\n",
       "      <td>0</td>\n",
       "      <td>9040</td>\n",
       "      <td>0</td>\n",
       "      <td>9040</td>\n",
       "      <td>0</td>\n",
       "      <td>1000</td>\n",
       "      <td>0</td>\n",
       "      <td>0</td>\n",
       "      <td>0</td>\n",
       "      <td>0</td>\n",
       "      <td>0</td>\n",
       "      <td>1</td>\n",
       "    </tr>\n",
       "    <tr>\n",
       "      <th>591</th>\n",
       "      <td>2</td>\n",
       "      <td>0</td>\n",
       "      <td>21810</td>\n",
       "      <td>0</td>\n",
       "      <td>7270</td>\n",
       "      <td>0</td>\n",
       "      <td>500</td>\n",
       "      <td>0</td>\n",
       "      <td>0</td>\n",
       "      <td>0</td>\n",
       "      <td>1</td>\n",
       "      <td>0</td>\n",
       "      <td>0</td>\n",
       "    </tr>\n",
       "    <tr>\n",
       "      <th>176</th>\n",
       "      <td>1</td>\n",
       "      <td>0</td>\n",
       "      <td>8560</td>\n",
       "      <td>0</td>\n",
       "      <td>8560</td>\n",
       "      <td>0</td>\n",
       "      <td>500</td>\n",
       "      <td>0</td>\n",
       "      <td>0</td>\n",
       "      <td>0</td>\n",
       "      <td>0</td>\n",
       "      <td>0</td>\n",
       "      <td>1</td>\n",
       "    </tr>\n",
       "    <tr>\n",
       "      <th>155</th>\n",
       "      <td>2</td>\n",
       "      <td>1</td>\n",
       "      <td>0</td>\n",
       "      <td>0</td>\n",
       "      <td>0</td>\n",
       "      <td>0</td>\n",
       "      <td>1000</td>\n",
       "      <td>0</td>\n",
       "      <td>0</td>\n",
       "      <td>0</td>\n",
       "      <td>0</td>\n",
       "      <td>0</td>\n",
       "      <td>1</td>\n",
       "    </tr>\n",
       "  </tbody>\n",
       "</table>\n",
       "<p>250 rows × 13 columns</p>\n",
       "</div>"
      ],
      "text/plain": [
       "     bodily_injuries  insured_occupation_sales  property_claim  \\\n",
       "381                1                         0            5720   \n",
       "732                2                         0           14240   \n",
       "179                2                         0             900   \n",
       "845                0                         0            6240   \n",
       "111                0                         0            7000   \n",
       "..               ...                       ...             ...   \n",
       "283                0                         0            5990   \n",
       "965                0                         0            9040   \n",
       "591                2                         0           21810   \n",
       "176                1                         0            8560   \n",
       "155                2                         1               0   \n",
       "\n",
       "     insured_occupation_farming-fishing  injury_claim  \\\n",
       "381                                   0         11440   \n",
       "732                                   0          7120   \n",
       "179                                   0           450   \n",
       "845                                   0          6240   \n",
       "111                                   0         14000   \n",
       "..                                  ...           ...   \n",
       "283                                   0         11980   \n",
       "965                                   0          9040   \n",
       "591                                   0          7270   \n",
       "176                                   0          8560   \n",
       "155                                   0             0   \n",
       "\n",
       "     insured_occupation_tech-support  policy_deductable  capital-loss  \\\n",
       "381                                0                500        -24300   \n",
       "732                                0               2000             0   \n",
       "179                                1                500        -31700   \n",
       "845                                0               2000             0   \n",
       "111                                0                500        -38800   \n",
       "..                               ...                ...           ...   \n",
       "283                                1               2000        -27600   \n",
       "965                                0               1000             0   \n",
       "591                                0                500             0   \n",
       "176                                0                500             0   \n",
       "155                                0               1000             0   \n",
       "\n",
       "     incident_type_Parked Car  insured_occupation_machine-op-inspct  \\\n",
       "381                         0                                     0   \n",
       "732                         0                                     0   \n",
       "179                         0                                     0   \n",
       "845                         0                                     0   \n",
       "111                         0                                     0   \n",
       "..                        ...                                   ...   \n",
       "283                         0                                     0   \n",
       "965                         0                                     0   \n",
       "591                         0                                     0   \n",
       "176                         0                                     0   \n",
       "155                         0                                     0   \n",
       "\n",
       "     collision_type_Rear Collision  insured_relationship_wife  \\\n",
       "381                              0                          0   \n",
       "732                              0                          0   \n",
       "179                              1                          1   \n",
       "845                              0                          0   \n",
       "111                              0                          0   \n",
       "..                             ...                        ...   \n",
       "283                              1                          0   \n",
       "965                              0                          0   \n",
       "591                              1                          0   \n",
       "176                              0                          0   \n",
       "155                              0                          0   \n",
       "\n",
       "     insured_relationship_other-relative  \n",
       "381                                    1  \n",
       "732                                    0  \n",
       "179                                    0  \n",
       "845                                    0  \n",
       "111                                    0  \n",
       "..                                   ...  \n",
       "283                                    1  \n",
       "965                                    1  \n",
       "591                                    0  \n",
       "176                                    1  \n",
       "155                                    1  \n",
       "\n",
       "[250 rows x 13 columns]"
      ]
     },
     "execution_count": 67,
     "metadata": {},
     "output_type": "execute_result"
    }
   ],
   "source": [
    "test_data_withoutscale=test_x.filter(['incident_severit','bodily_injuries','insured_occupation_sales','property_claim','insured_occupation_farming-fishing','injury_claim','insured_occupation_tech-support','policy_deductable','capital-loss','incident_type_Parked Car','insured_occupation_machine-op-inspct','collision_type_Rear Collision','insured_relationship_wife','insured_relationship_other-relative'],axis=1)\n",
    "test_data_withoutscale"
   ]
  },
  {
   "cell_type": "code",
   "execution_count": 68,
   "id": "4920afcd",
   "metadata": {
    "colab": {
     "base_uri": "https://localhost:8080/"
    },
    "executionInfo": {
     "elapsed": 219,
     "status": "ok",
     "timestamp": 1678212424316,
     "user": {
      "displayName": "Tanmay Hajare",
      "userId": "05037382924936965487"
     },
     "user_tz": -330
    },
    "id": "4920afcd",
    "outputId": "35f6a2ce-4e24-40c4-de02-df958b280207"
   },
   "outputs": [
    {
     "data": {
      "text/plain": [
       "(250, 45)"
      ]
     },
     "execution_count": 68,
     "metadata": {},
     "output_type": "execute_result"
    }
   ],
   "source": [
    "scaled_data=scaler.fit_transform(test_x)\n",
    "scaled_test= pd.DataFrame(data=scaled_data, columns=test_x.columns,index=test_x.index)\n",
    "scaled_test.shape"
   ]
  },
  {
   "cell_type": "code",
   "execution_count": 69,
   "id": "755eb768",
   "metadata": {
    "colab": {
     "base_uri": "https://localhost:8080/",
     "height": 317
    },
    "executionInfo": {
     "elapsed": 210,
     "status": "ok",
     "timestamp": 1678212424318,
     "user": {
      "displayName": "Tanmay Hajare",
      "userId": "05037382924936965487"
     },
     "user_tz": -330
    },
    "id": "755eb768",
    "outputId": "d9e25e8f-3d1e-44ba-c9ce-37fd1eefaaea"
   },
   "outputs": [
    {
     "data": {
      "text/html": [
       "<div>\n",
       "<style scoped>\n",
       "    .dataframe tbody tr th:only-of-type {\n",
       "        vertical-align: middle;\n",
       "    }\n",
       "\n",
       "    .dataframe tbody tr th {\n",
       "        vertical-align: top;\n",
       "    }\n",
       "\n",
       "    .dataframe thead th {\n",
       "        text-align: right;\n",
       "    }\n",
       "</style>\n",
       "<table border=\"1\" class=\"dataframe\">\n",
       "  <thead>\n",
       "    <tr style=\"text-align: right;\">\n",
       "      <th></th>\n",
       "      <th>months_as_customer</th>\n",
       "      <th>policy_deductable</th>\n",
       "      <th>umbrella_limit</th>\n",
       "      <th>capital-gains</th>\n",
       "      <th>capital-loss</th>\n",
       "      <th>incident_hour_of_the_day</th>\n",
       "      <th>number_of_vehicles_involved</th>\n",
       "      <th>bodily_injuries</th>\n",
       "      <th>witnesses</th>\n",
       "      <th>injury_claim</th>\n",
       "      <th>property_claim</th>\n",
       "      <th>vehicle_claim</th>\n",
       "      <th>policy_csl</th>\n",
       "      <th>insured_sex</th>\n",
       "      <th>insured_education_level</th>\n",
       "      <th>incident_severity</th>\n",
       "      <th>property_damage</th>\n",
       "      <th>police_report_available</th>\n",
       "      <th>insured_occupation_armed-forces</th>\n",
       "      <th>insured_occupation_craft-repair</th>\n",
       "      <th>...</th>\n",
       "      <th>insured_occupation_priv-house-serv</th>\n",
       "      <th>insured_occupation_prof-specialty</th>\n",
       "      <th>insured_occupation_protective-serv</th>\n",
       "      <th>insured_occupation_sales</th>\n",
       "      <th>insured_occupation_tech-support</th>\n",
       "      <th>insured_occupation_transport-moving</th>\n",
       "      <th>insured_relationship_not-in-family</th>\n",
       "      <th>insured_relationship_other-relative</th>\n",
       "      <th>insured_relationship_own-child</th>\n",
       "      <th>insured_relationship_unmarried</th>\n",
       "      <th>insured_relationship_wife</th>\n",
       "      <th>incident_type_Parked Car</th>\n",
       "      <th>incident_type_Single Vehicle Collision</th>\n",
       "      <th>incident_type_Vehicle Theft</th>\n",
       "      <th>collision_type_Rear Collision</th>\n",
       "      <th>collision_type_Side Collision</th>\n",
       "      <th>authorities_contacted_Fire</th>\n",
       "      <th>authorities_contacted_None</th>\n",
       "      <th>authorities_contacted_Other</th>\n",
       "      <th>authorities_contacted_Police</th>\n",
       "    </tr>\n",
       "  </thead>\n",
       "  <tbody>\n",
       "    <tr>\n",
       "      <th>381</th>\n",
       "      <td>-1.431929</td>\n",
       "      <td>-1.048430</td>\n",
       "      <td>-0.510987</td>\n",
       "      <td>1.385166</td>\n",
       "      <td>0.044644</td>\n",
       "      <td>1.712490</td>\n",
       "      <td>-0.859484</td>\n",
       "      <td>-0.061228</td>\n",
       "      <td>1.424485</td>\n",
       "      <td>0.830272</td>\n",
       "      <td>-0.297274</td>\n",
       "      <td>0.410948</td>\n",
       "      <td>1.562092</td>\n",
       "      <td>-0.900885</td>\n",
       "      <td>1.532628</td>\n",
       "      <td>-0.744116</td>\n",
       "      <td>1.635992</td>\n",
       "      <td>-0.660895</td>\n",
       "      <td>-0.31063</td>\n",
       "      <td>-0.252646</td>\n",
       "      <td>...</td>\n",
       "      <td>-0.252646</td>\n",
       "      <td>-0.302825</td>\n",
       "      <td>-0.261488</td>\n",
       "      <td>-0.270114</td>\n",
       "      <td>-0.302825</td>\n",
       "      <td>-0.294884</td>\n",
       "      <td>-0.455773</td>\n",
       "      <td>1.951331</td>\n",
       "      <td>-0.493742</td>\n",
       "      <td>-0.396746</td>\n",
       "      <td>-0.423374</td>\n",
       "      <td>-0.302825</td>\n",
       "      <td>1.299297</td>\n",
       "      <td>-0.347960</td>\n",
       "      <td>-0.992032</td>\n",
       "      <td>-0.574271</td>\n",
       "      <td>-0.481173</td>\n",
       "      <td>-0.333333</td>\n",
       "      <td>-0.493742</td>\n",
       "      <td>1.444444</td>\n",
       "    </tr>\n",
       "    <tr>\n",
       "      <th>732</th>\n",
       "      <td>-0.990098</td>\n",
       "      <td>1.320012</td>\n",
       "      <td>-0.510987</td>\n",
       "      <td>-0.543035</td>\n",
       "      <td>0.891389</td>\n",
       "      <td>-0.349332</td>\n",
       "      <td>-0.859484</td>\n",
       "      <td>1.116225</td>\n",
       "      <td>1.424485</td>\n",
       "      <td>-0.057535</td>\n",
       "      <td>1.447109</td>\n",
       "      <td>0.989264</td>\n",
       "      <td>-0.066444</td>\n",
       "      <td>-0.900885</td>\n",
       "      <td>0.546381</td>\n",
       "      <td>1.277939</td>\n",
       "      <td>1.635992</td>\n",
       "      <td>-0.660895</td>\n",
       "      <td>-0.31063</td>\n",
       "      <td>-0.252646</td>\n",
       "      <td>...</td>\n",
       "      <td>-0.252646</td>\n",
       "      <td>3.302236</td>\n",
       "      <td>-0.261488</td>\n",
       "      <td>-0.270114</td>\n",
       "      <td>-0.302825</td>\n",
       "      <td>-0.294884</td>\n",
       "      <td>-0.455773</td>\n",
       "      <td>-0.512471</td>\n",
       "      <td>-0.493742</td>\n",
       "      <td>-0.396746</td>\n",
       "      <td>-0.423374</td>\n",
       "      <td>-0.302825</td>\n",
       "      <td>1.299297</td>\n",
       "      <td>-0.347960</td>\n",
       "      <td>-0.992032</td>\n",
       "      <td>-0.574271</td>\n",
       "      <td>-0.481173</td>\n",
       "      <td>-0.333333</td>\n",
       "      <td>-0.493742</td>\n",
       "      <td>-0.692308</td>\n",
       "    </tr>\n",
       "    <tr>\n",
       "      <th>179</th>\n",
       "      <td>0.263259</td>\n",
       "      <td>-1.048430</td>\n",
       "      <td>1.181024</td>\n",
       "      <td>-0.894896</td>\n",
       "      <td>-0.213213</td>\n",
       "      <td>-1.527515</td>\n",
       "      <td>-0.859484</td>\n",
       "      <td>1.116225</td>\n",
       "      <td>-0.321207</td>\n",
       "      <td>-1.428292</td>\n",
       "      <td>-1.284120</td>\n",
       "      <td>-1.766002</td>\n",
       "      <td>-1.043566</td>\n",
       "      <td>1.110019</td>\n",
       "      <td>1.039504</td>\n",
       "      <td>-1.755144</td>\n",
       "      <td>-0.611250</td>\n",
       "      <td>-0.660895</td>\n",
       "      <td>-0.31063</td>\n",
       "      <td>-0.252646</td>\n",
       "      <td>...</td>\n",
       "      <td>-0.252646</td>\n",
       "      <td>-0.302825</td>\n",
       "      <td>-0.261488</td>\n",
       "      <td>-0.270114</td>\n",
       "      <td>3.302236</td>\n",
       "      <td>-0.294884</td>\n",
       "      <td>-0.455773</td>\n",
       "      <td>-0.512471</td>\n",
       "      <td>-0.493742</td>\n",
       "      <td>-0.396746</td>\n",
       "      <td>2.361980</td>\n",
       "      <td>-0.302825</td>\n",
       "      <td>-0.769647</td>\n",
       "      <td>2.873893</td>\n",
       "      <td>1.008032</td>\n",
       "      <td>-0.574271</td>\n",
       "      <td>-0.481173</td>\n",
       "      <td>3.000000</td>\n",
       "      <td>-0.493742</td>\n",
       "      <td>-0.692308</td>\n",
       "    </tr>\n",
       "    <tr>\n",
       "      <th>845</th>\n",
       "      <td>-0.530233</td>\n",
       "      <td>1.320012</td>\n",
       "      <td>-0.510987</td>\n",
       "      <td>-0.894896</td>\n",
       "      <td>0.891389</td>\n",
       "      <td>-0.054786</td>\n",
       "      <td>1.076291</td>\n",
       "      <td>-1.238680</td>\n",
       "      <td>-0.321207</td>\n",
       "      <td>-0.238384</td>\n",
       "      <td>-0.190809</td>\n",
       "      <td>0.303546</td>\n",
       "      <td>1.562092</td>\n",
       "      <td>-0.900885</td>\n",
       "      <td>0.053257</td>\n",
       "      <td>0.266911</td>\n",
       "      <td>-0.611250</td>\n",
       "      <td>-0.660895</td>\n",
       "      <td>3.21926</td>\n",
       "      <td>-0.252646</td>\n",
       "      <td>...</td>\n",
       "      <td>-0.252646</td>\n",
       "      <td>-0.302825</td>\n",
       "      <td>-0.261488</td>\n",
       "      <td>-0.270114</td>\n",
       "      <td>-0.302825</td>\n",
       "      <td>-0.294884</td>\n",
       "      <td>-0.455773</td>\n",
       "      <td>-0.512471</td>\n",
       "      <td>2.025350</td>\n",
       "      <td>-0.396746</td>\n",
       "      <td>-0.423374</td>\n",
       "      <td>-0.302825</td>\n",
       "      <td>-0.769647</td>\n",
       "      <td>-0.347960</td>\n",
       "      <td>-0.992032</td>\n",
       "      <td>1.741338</td>\n",
       "      <td>-0.481173</td>\n",
       "      <td>-0.333333</td>\n",
       "      <td>-0.493742</td>\n",
       "      <td>-0.692308</td>\n",
       "    </tr>\n",
       "    <tr>\n",
       "      <th>111</th>\n",
       "      <td>2.228956</td>\n",
       "      <td>-1.048430</td>\n",
       "      <td>2.027029</td>\n",
       "      <td>0.955895</td>\n",
       "      <td>-0.460616</td>\n",
       "      <td>-1.674788</td>\n",
       "      <td>-0.859484</td>\n",
       "      <td>-1.238680</td>\n",
       "      <td>-1.194054</td>\n",
       "      <td>1.356380</td>\n",
       "      <td>-0.035207</td>\n",
       "      <td>0.578246</td>\n",
       "      <td>-1.043566</td>\n",
       "      <td>1.110019</td>\n",
       "      <td>1.532628</td>\n",
       "      <td>0.266911</td>\n",
       "      <td>1.635992</td>\n",
       "      <td>-0.660895</td>\n",
       "      <td>-0.31063</td>\n",
       "      <td>3.958114</td>\n",
       "      <td>...</td>\n",
       "      <td>-0.252646</td>\n",
       "      <td>-0.302825</td>\n",
       "      <td>-0.261488</td>\n",
       "      <td>-0.270114</td>\n",
       "      <td>-0.302825</td>\n",
       "      <td>-0.294884</td>\n",
       "      <td>-0.455773</td>\n",
       "      <td>-0.512471</td>\n",
       "      <td>-0.493742</td>\n",
       "      <td>2.520504</td>\n",
       "      <td>-0.423374</td>\n",
       "      <td>-0.302825</td>\n",
       "      <td>1.299297</td>\n",
       "      <td>-0.347960</td>\n",
       "      <td>-0.992032</td>\n",
       "      <td>-0.574271</td>\n",
       "      <td>2.078256</td>\n",
       "      <td>-0.333333</td>\n",
       "      <td>-0.493742</td>\n",
       "      <td>-0.692308</td>\n",
       "    </tr>\n",
       "  </tbody>\n",
       "</table>\n",
       "<p>5 rows × 45 columns</p>\n",
       "</div>"
      ],
      "text/plain": [
       "     months_as_customer  policy_deductable  umbrella_limit  capital-gains  \\\n",
       "381           -1.431929          -1.048430       -0.510987       1.385166   \n",
       "732           -0.990098           1.320012       -0.510987      -0.543035   \n",
       "179            0.263259          -1.048430        1.181024      -0.894896   \n",
       "845           -0.530233           1.320012       -0.510987      -0.894896   \n",
       "111            2.228956          -1.048430        2.027029       0.955895   \n",
       "\n",
       "     capital-loss  incident_hour_of_the_day  number_of_vehicles_involved  \\\n",
       "381      0.044644                  1.712490                    -0.859484   \n",
       "732      0.891389                 -0.349332                    -0.859484   \n",
       "179     -0.213213                 -1.527515                    -0.859484   \n",
       "845      0.891389                 -0.054786                     1.076291   \n",
       "111     -0.460616                 -1.674788                    -0.859484   \n",
       "\n",
       "     bodily_injuries  witnesses  injury_claim  property_claim  vehicle_claim  \\\n",
       "381        -0.061228   1.424485      0.830272       -0.297274       0.410948   \n",
       "732         1.116225   1.424485     -0.057535        1.447109       0.989264   \n",
       "179         1.116225  -0.321207     -1.428292       -1.284120      -1.766002   \n",
       "845        -1.238680  -0.321207     -0.238384       -0.190809       0.303546   \n",
       "111        -1.238680  -1.194054      1.356380       -0.035207       0.578246   \n",
       "\n",
       "     policy_csl  insured_sex  insured_education_level  incident_severity  \\\n",
       "381    1.562092    -0.900885                 1.532628          -0.744116   \n",
       "732   -0.066444    -0.900885                 0.546381           1.277939   \n",
       "179   -1.043566     1.110019                 1.039504          -1.755144   \n",
       "845    1.562092    -0.900885                 0.053257           0.266911   \n",
       "111   -1.043566     1.110019                 1.532628           0.266911   \n",
       "\n",
       "     property_damage  police_report_available  \\\n",
       "381         1.635992                -0.660895   \n",
       "732         1.635992                -0.660895   \n",
       "179        -0.611250                -0.660895   \n",
       "845        -0.611250                -0.660895   \n",
       "111         1.635992                -0.660895   \n",
       "\n",
       "     insured_occupation_armed-forces  insured_occupation_craft-repair  ...  \\\n",
       "381                         -0.31063                        -0.252646  ...   \n",
       "732                         -0.31063                        -0.252646  ...   \n",
       "179                         -0.31063                        -0.252646  ...   \n",
       "845                          3.21926                        -0.252646  ...   \n",
       "111                         -0.31063                         3.958114  ...   \n",
       "\n",
       "     insured_occupation_priv-house-serv  insured_occupation_prof-specialty  \\\n",
       "381                           -0.252646                          -0.302825   \n",
       "732                           -0.252646                           3.302236   \n",
       "179                           -0.252646                          -0.302825   \n",
       "845                           -0.252646                          -0.302825   \n",
       "111                           -0.252646                          -0.302825   \n",
       "\n",
       "     insured_occupation_protective-serv  insured_occupation_sales  \\\n",
       "381                           -0.261488                 -0.270114   \n",
       "732                           -0.261488                 -0.270114   \n",
       "179                           -0.261488                 -0.270114   \n",
       "845                           -0.261488                 -0.270114   \n",
       "111                           -0.261488                 -0.270114   \n",
       "\n",
       "     insured_occupation_tech-support  insured_occupation_transport-moving  \\\n",
       "381                        -0.302825                            -0.294884   \n",
       "732                        -0.302825                            -0.294884   \n",
       "179                         3.302236                            -0.294884   \n",
       "845                        -0.302825                            -0.294884   \n",
       "111                        -0.302825                            -0.294884   \n",
       "\n",
       "     insured_relationship_not-in-family  insured_relationship_other-relative  \\\n",
       "381                           -0.455773                             1.951331   \n",
       "732                           -0.455773                            -0.512471   \n",
       "179                           -0.455773                            -0.512471   \n",
       "845                           -0.455773                            -0.512471   \n",
       "111                           -0.455773                            -0.512471   \n",
       "\n",
       "     insured_relationship_own-child  insured_relationship_unmarried  \\\n",
       "381                       -0.493742                       -0.396746   \n",
       "732                       -0.493742                       -0.396746   \n",
       "179                       -0.493742                       -0.396746   \n",
       "845                        2.025350                       -0.396746   \n",
       "111                       -0.493742                        2.520504   \n",
       "\n",
       "     insured_relationship_wife  incident_type_Parked Car  \\\n",
       "381                  -0.423374                 -0.302825   \n",
       "732                  -0.423374                 -0.302825   \n",
       "179                   2.361980                 -0.302825   \n",
       "845                  -0.423374                 -0.302825   \n",
       "111                  -0.423374                 -0.302825   \n",
       "\n",
       "     incident_type_Single Vehicle Collision  incident_type_Vehicle Theft  \\\n",
       "381                                1.299297                    -0.347960   \n",
       "732                                1.299297                    -0.347960   \n",
       "179                               -0.769647                     2.873893   \n",
       "845                               -0.769647                    -0.347960   \n",
       "111                                1.299297                    -0.347960   \n",
       "\n",
       "     collision_type_Rear Collision  collision_type_Side Collision  \\\n",
       "381                      -0.992032                      -0.574271   \n",
       "732                      -0.992032                      -0.574271   \n",
       "179                       1.008032                      -0.574271   \n",
       "845                      -0.992032                       1.741338   \n",
       "111                      -0.992032                      -0.574271   \n",
       "\n",
       "     authorities_contacted_Fire  authorities_contacted_None  \\\n",
       "381                   -0.481173                   -0.333333   \n",
       "732                   -0.481173                   -0.333333   \n",
       "179                   -0.481173                    3.000000   \n",
       "845                   -0.481173                   -0.333333   \n",
       "111                    2.078256                   -0.333333   \n",
       "\n",
       "     authorities_contacted_Other  authorities_contacted_Police  \n",
       "381                    -0.493742                      1.444444  \n",
       "732                    -0.493742                     -0.692308  \n",
       "179                    -0.493742                     -0.692308  \n",
       "845                    -0.493742                     -0.692308  \n",
       "111                    -0.493742                     -0.692308  \n",
       "\n",
       "[5 rows x 45 columns]"
      ]
     },
     "execution_count": 69,
     "metadata": {},
     "output_type": "execute_result"
    }
   ],
   "source": [
    "scaled_test.head()"
   ]
  },
  {
   "cell_type": "markdown",
   "id": "80b746c5",
   "metadata": {
    "id": "80b746c5"
   },
   "source": [
    "# <font color='red'>5. Features Selections using information gain</font>"
   ]
  },
  {
   "cell_type": "markdown",
   "id": "3e58478c",
   "metadata": {
    "id": "3e58478c"
   },
   "source": [
    "### 5.1 find the information gain"
   ]
  },
  {
   "cell_type": "code",
   "execution_count": 70,
   "id": "48108678",
   "metadata": {
    "colab": {
     "base_uri": "https://localhost:8080/"
    },
    "executionInfo": {
     "elapsed": 208,
     "status": "ok",
     "timestamp": 1678212424320,
     "user": {
      "displayName": "Tanmay Hajare",
      "userId": "05037382924936965487"
     },
     "user_tz": -330
    },
    "id": "48108678",
    "outputId": "52f17ba8-8834-4b81-bdf0-0a8123e20ce0"
   },
   "outputs": [
    {
     "data": {
      "text/plain": [
       "array([0.00748469, 0.        , 0.00096486, 0.        , 0.        ,\n",
       "       0.02113461, 0.        , 0.        , 0.        , 0.02756603,\n",
       "       0.03234574, 0.        , 0.        , 0.0229749 , 0.        ,\n",
       "       0.13052477, 0.0183834 , 0.02346294, 0.01241567, 0.        ,\n",
       "       0.00175726, 0.00519106, 0.00670495, 0.00470914, 0.        ,\n",
       "       0.        , 0.01278878, 0.        , 0.        , 0.00587818,\n",
       "       0.00389109, 0.        , 0.0079322 , 0.00051172, 0.        ,\n",
       "       0.        , 0.00053516, 0.        , 0.00591792, 0.        ,\n",
       "       0.00855118, 0.00945014, 0.04359386, 0.00174196, 0.00397128])"
      ]
     },
     "execution_count": 70,
     "metadata": {},
     "output_type": "execute_result"
    }
   ],
   "source": [
    "from sklearn.feature_selection import mutual_info_classif\n",
    "info_gain=mutual_info_classif(scaled_train,train_y)\n",
    "info_gain"
   ]
  },
  {
   "cell_type": "markdown",
   "id": "c6af51aa",
   "metadata": {
    "id": "c6af51aa"
   },
   "source": [
    "### 5.2 Create Dataframe of information gain"
   ]
  },
  {
   "cell_type": "code",
   "execution_count": 71,
   "id": "1e2a67a1",
   "metadata": {
    "colab": {
     "base_uri": "https://localhost:8080/",
     "height": 1000
    },
    "executionInfo": {
     "elapsed": 200,
     "status": "ok",
     "timestamp": 1678212424322,
     "user": {
      "displayName": "Tanmay Hajare",
      "userId": "05037382924936965487"
     },
     "user_tz": -330
    },
    "id": "1e2a67a1",
    "outputId": "72e2720b-3b23-4493-e536-77452f484e52"
   },
   "outputs": [
    {
     "data": {
      "text/html": [
       "<div>\n",
       "<style scoped>\n",
       "    .dataframe tbody tr th:only-of-type {\n",
       "        vertical-align: middle;\n",
       "    }\n",
       "\n",
       "    .dataframe tbody tr th {\n",
       "        vertical-align: top;\n",
       "    }\n",
       "\n",
       "    .dataframe thead th {\n",
       "        text-align: right;\n",
       "    }\n",
       "</style>\n",
       "<table border=\"1\" class=\"dataframe\">\n",
       "  <thead>\n",
       "    <tr style=\"text-align: right;\">\n",
       "      <th></th>\n",
       "      <th>Column_Name</th>\n",
       "      <th>Mutual_Information</th>\n",
       "    </tr>\n",
       "  </thead>\n",
       "  <tbody>\n",
       "    <tr>\n",
       "      <th>15</th>\n",
       "      <td>incident_severity</td>\n",
       "      <td>0.130525</td>\n",
       "    </tr>\n",
       "    <tr>\n",
       "      <th>42</th>\n",
       "      <td>authorities_contacted_None</td>\n",
       "      <td>0.043594</td>\n",
       "    </tr>\n",
       "    <tr>\n",
       "      <th>10</th>\n",
       "      <td>property_claim</td>\n",
       "      <td>0.032346</td>\n",
       "    </tr>\n",
       "    <tr>\n",
       "      <th>9</th>\n",
       "      <td>injury_claim</td>\n",
       "      <td>0.027566</td>\n",
       "    </tr>\n",
       "    <tr>\n",
       "      <th>17</th>\n",
       "      <td>police_report_available</td>\n",
       "      <td>0.023463</td>\n",
       "    </tr>\n",
       "    <tr>\n",
       "      <th>13</th>\n",
       "      <td>insured_sex</td>\n",
       "      <td>0.022975</td>\n",
       "    </tr>\n",
       "    <tr>\n",
       "      <th>5</th>\n",
       "      <td>incident_hour_of_the_day</td>\n",
       "      <td>0.021135</td>\n",
       "    </tr>\n",
       "    <tr>\n",
       "      <th>16</th>\n",
       "      <td>property_damage</td>\n",
       "      <td>0.018383</td>\n",
       "    </tr>\n",
       "    <tr>\n",
       "      <th>26</th>\n",
       "      <td>insured_occupation_prof-specialty</td>\n",
       "      <td>0.012789</td>\n",
       "    </tr>\n",
       "    <tr>\n",
       "      <th>18</th>\n",
       "      <td>insured_occupation_armed-forces</td>\n",
       "      <td>0.012416</td>\n",
       "    </tr>\n",
       "    <tr>\n",
       "      <th>41</th>\n",
       "      <td>authorities_contacted_Fire</td>\n",
       "      <td>0.009450</td>\n",
       "    </tr>\n",
       "    <tr>\n",
       "      <th>40</th>\n",
       "      <td>collision_type_Side Collision</td>\n",
       "      <td>0.008551</td>\n",
       "    </tr>\n",
       "    <tr>\n",
       "      <th>32</th>\n",
       "      <td>insured_relationship_other-relative</td>\n",
       "      <td>0.007932</td>\n",
       "    </tr>\n",
       "    <tr>\n",
       "      <th>0</th>\n",
       "      <td>months_as_customer</td>\n",
       "      <td>0.007485</td>\n",
       "    </tr>\n",
       "    <tr>\n",
       "      <th>22</th>\n",
       "      <td>insured_occupation_handlers-cleaners</td>\n",
       "      <td>0.006705</td>\n",
       "    </tr>\n",
       "    <tr>\n",
       "      <th>38</th>\n",
       "      <td>incident_type_Vehicle Theft</td>\n",
       "      <td>0.005918</td>\n",
       "    </tr>\n",
       "    <tr>\n",
       "      <th>29</th>\n",
       "      <td>insured_occupation_tech-support</td>\n",
       "      <td>0.005878</td>\n",
       "    </tr>\n",
       "    <tr>\n",
       "      <th>21</th>\n",
       "      <td>insured_occupation_farming-fishing</td>\n",
       "      <td>0.005191</td>\n",
       "    </tr>\n",
       "    <tr>\n",
       "      <th>23</th>\n",
       "      <td>insured_occupation_machine-op-inspct</td>\n",
       "      <td>0.004709</td>\n",
       "    </tr>\n",
       "    <tr>\n",
       "      <th>44</th>\n",
       "      <td>authorities_contacted_Police</td>\n",
       "      <td>0.003971</td>\n",
       "    </tr>\n",
       "    <tr>\n",
       "      <th>30</th>\n",
       "      <td>insured_occupation_transport-moving</td>\n",
       "      <td>0.003891</td>\n",
       "    </tr>\n",
       "    <tr>\n",
       "      <th>20</th>\n",
       "      <td>insured_occupation_exec-managerial</td>\n",
       "      <td>0.001757</td>\n",
       "    </tr>\n",
       "    <tr>\n",
       "      <th>43</th>\n",
       "      <td>authorities_contacted_Other</td>\n",
       "      <td>0.001742</td>\n",
       "    </tr>\n",
       "    <tr>\n",
       "      <th>2</th>\n",
       "      <td>umbrella_limit</td>\n",
       "      <td>0.000965</td>\n",
       "    </tr>\n",
       "    <tr>\n",
       "      <th>36</th>\n",
       "      <td>incident_type_Parked Car</td>\n",
       "      <td>0.000535</td>\n",
       "    </tr>\n",
       "    <tr>\n",
       "      <th>33</th>\n",
       "      <td>insured_relationship_own-child</td>\n",
       "      <td>0.000512</td>\n",
       "    </tr>\n",
       "    <tr>\n",
       "      <th>7</th>\n",
       "      <td>bodily_injuries</td>\n",
       "      <td>0.000000</td>\n",
       "    </tr>\n",
       "    <tr>\n",
       "      <th>25</th>\n",
       "      <td>insured_occupation_priv-house-serv</td>\n",
       "      <td>0.000000</td>\n",
       "    </tr>\n",
       "    <tr>\n",
       "      <th>19</th>\n",
       "      <td>insured_occupation_craft-repair</td>\n",
       "      <td>0.000000</td>\n",
       "    </tr>\n",
       "    <tr>\n",
       "      <th>24</th>\n",
       "      <td>insured_occupation_other-service</td>\n",
       "      <td>0.000000</td>\n",
       "    </tr>\n",
       "    <tr>\n",
       "      <th>3</th>\n",
       "      <td>capital-gains</td>\n",
       "      <td>0.000000</td>\n",
       "    </tr>\n",
       "    <tr>\n",
       "      <th>4</th>\n",
       "      <td>capital-loss</td>\n",
       "      <td>0.000000</td>\n",
       "    </tr>\n",
       "    <tr>\n",
       "      <th>39</th>\n",
       "      <td>collision_type_Rear Collision</td>\n",
       "      <td>0.000000</td>\n",
       "    </tr>\n",
       "    <tr>\n",
       "      <th>11</th>\n",
       "      <td>vehicle_claim</td>\n",
       "      <td>0.000000</td>\n",
       "    </tr>\n",
       "    <tr>\n",
       "      <th>37</th>\n",
       "      <td>incident_type_Single Vehicle Collision</td>\n",
       "      <td>0.000000</td>\n",
       "    </tr>\n",
       "    <tr>\n",
       "      <th>35</th>\n",
       "      <td>insured_relationship_wife</td>\n",
       "      <td>0.000000</td>\n",
       "    </tr>\n",
       "    <tr>\n",
       "      <th>27</th>\n",
       "      <td>insured_occupation_protective-serv</td>\n",
       "      <td>0.000000</td>\n",
       "    </tr>\n",
       "    <tr>\n",
       "      <th>34</th>\n",
       "      <td>insured_relationship_unmarried</td>\n",
       "      <td>0.000000</td>\n",
       "    </tr>\n",
       "    <tr>\n",
       "      <th>1</th>\n",
       "      <td>policy_deductable</td>\n",
       "      <td>0.000000</td>\n",
       "    </tr>\n",
       "    <tr>\n",
       "      <th>6</th>\n",
       "      <td>number_of_vehicles_involved</td>\n",
       "      <td>0.000000</td>\n",
       "    </tr>\n",
       "    <tr>\n",
       "      <th>31</th>\n",
       "      <td>insured_relationship_not-in-family</td>\n",
       "      <td>0.000000</td>\n",
       "    </tr>\n",
       "    <tr>\n",
       "      <th>12</th>\n",
       "      <td>policy_csl</td>\n",
       "      <td>0.000000</td>\n",
       "    </tr>\n",
       "    <tr>\n",
       "      <th>8</th>\n",
       "      <td>witnesses</td>\n",
       "      <td>0.000000</td>\n",
       "    </tr>\n",
       "    <tr>\n",
       "      <th>28</th>\n",
       "      <td>insured_occupation_sales</td>\n",
       "      <td>0.000000</td>\n",
       "    </tr>\n",
       "    <tr>\n",
       "      <th>14</th>\n",
       "      <td>insured_education_level</td>\n",
       "      <td>0.000000</td>\n",
       "    </tr>\n",
       "  </tbody>\n",
       "</table>\n",
       "</div>"
      ],
      "text/plain": [
       "                               Column_Name  Mutual_Information\n",
       "15                       incident_severity            0.130525\n",
       "42              authorities_contacted_None            0.043594\n",
       "10                          property_claim            0.032346\n",
       "9                             injury_claim            0.027566\n",
       "17                 police_report_available            0.023463\n",
       "13                             insured_sex            0.022975\n",
       "5                 incident_hour_of_the_day            0.021135\n",
       "16                         property_damage            0.018383\n",
       "26       insured_occupation_prof-specialty            0.012789\n",
       "18         insured_occupation_armed-forces            0.012416\n",
       "41              authorities_contacted_Fire            0.009450\n",
       "40           collision_type_Side Collision            0.008551\n",
       "32     insured_relationship_other-relative            0.007932\n",
       "0                       months_as_customer            0.007485\n",
       "22    insured_occupation_handlers-cleaners            0.006705\n",
       "38             incident_type_Vehicle Theft            0.005918\n",
       "29         insured_occupation_tech-support            0.005878\n",
       "21      insured_occupation_farming-fishing            0.005191\n",
       "23    insured_occupation_machine-op-inspct            0.004709\n",
       "44            authorities_contacted_Police            0.003971\n",
       "30     insured_occupation_transport-moving            0.003891\n",
       "20      insured_occupation_exec-managerial            0.001757\n",
       "43             authorities_contacted_Other            0.001742\n",
       "2                           umbrella_limit            0.000965\n",
       "36                incident_type_Parked Car            0.000535\n",
       "33          insured_relationship_own-child            0.000512\n",
       "7                          bodily_injuries            0.000000\n",
       "25      insured_occupation_priv-house-serv            0.000000\n",
       "19         insured_occupation_craft-repair            0.000000\n",
       "24        insured_occupation_other-service            0.000000\n",
       "3                            capital-gains            0.000000\n",
       "4                             capital-loss            0.000000\n",
       "39           collision_type_Rear Collision            0.000000\n",
       "11                           vehicle_claim            0.000000\n",
       "37  incident_type_Single Vehicle Collision            0.000000\n",
       "35               insured_relationship_wife            0.000000\n",
       "27      insured_occupation_protective-serv            0.000000\n",
       "34          insured_relationship_unmarried            0.000000\n",
       "1                        policy_deductable            0.000000\n",
       "6              number_of_vehicles_involved            0.000000\n",
       "31      insured_relationship_not-in-family            0.000000\n",
       "12                              policy_csl            0.000000\n",
       "8                                witnesses            0.000000\n",
       "28                insured_occupation_sales            0.000000\n",
       "14                 insured_education_level            0.000000"
      ]
     },
     "execution_count": 71,
     "metadata": {},
     "output_type": "execute_result"
    }
   ],
   "source": [
    "data={\"Column_Name\":scaled_train.columns,\"Mutual_Information\":info_gain}\n",
    "gain1=pd.DataFrame(data)\n",
    "gain1.sort_values(\"Mutual_Information\",ascending=False)"
   ]
  },
  {
   "cell_type": "markdown",
   "id": "a8b488ba",
   "metadata": {
    "id": "a8b488ba"
   },
   "source": [
    "### 5.3 Plot information gain graph"
   ]
  },
  {
   "cell_type": "code",
   "execution_count": 72,
   "id": "9d8dcbaf",
   "metadata": {
    "colab": {
     "base_uri": "https://localhost:8080/",
     "height": 481
    },
    "executionInfo": {
     "elapsed": 199,
     "status": "ok",
     "timestamp": 1678212424325,
     "user": {
      "displayName": "Tanmay Hajare",
      "userId": "05037382924936965487"
     },
     "user_tz": -330
    },
    "id": "9d8dcbaf",
    "outputId": "b4f34268-9f5e-4de8-f395-eb5c29b72d45"
   },
   "outputs": [
    {
     "data": {
      "image/png": "[encoded data removed]",
      "text/plain": [
       "<Figure size 640x480 with 1 Axes>"
      ]
     },
     "metadata": {},
     "output_type": "display_data"
    }
   ],
   "source": [
    "import seaborn as sns\n",
    "import matplotlib.pyplot as plt\n",
    "sns.barplot(data=gain1,x=\"Column_Name\",y=\"Mutual_Information\",palette=\"Set2\",\n",
    "            order=gain1.sort_values(\"Mutual_Information\",ascending = False).Column_Name)\n",
    "plt.xticks(rotation=90)\n",
    "plt.title(\"Column Wise Mutual Information\")\n",
    "plt.grid(color=\"black\",axis=\"y\")\n",
    "plt.xticks(rotation=90)\n",
    "plt.show()"
   ]
  },
  {
   "cell_type": "markdown",
   "id": "12854aea",
   "metadata": {
    "id": "12854aea"
   },
   "source": [
    "### 5.4 mutual_info_classif for best k"
   ]
  },
  {
   "cell_type": "code",
   "execution_count": 73,
   "id": "c7eac6e4",
   "metadata": {
    "colab": {
     "base_uri": "https://localhost:8080/"
    },
    "executionInfo": {
     "elapsed": 200,
     "status": "ok",
     "timestamp": 1678212424330,
     "user": {
      "displayName": "Tanmay Hajare",
      "userId": "05037382924936965487"
     },
     "user_tz": -330
    },
    "id": "c7eac6e4",
    "outputId": "f330a80e-c0c1-4c82-deca-cd91b2ea11d5"
   },
   "outputs": [
    {
     "data": {
      "text/plain": [
       "Index(['capital-loss', 'bodily_injuries', 'injury_claim', 'property_claim',\n",
       "       'incident_severity', 'insured_occupation_transport-moving',\n",
       "       'insured_relationship_wife', 'collision_type_Rear Collision',\n",
       "       'authorities_contacted_Fire', 'authorities_contacted_None'],\n",
       "      dtype='object')"
      ]
     },
     "execution_count": 73,
     "metadata": {},
     "output_type": "execute_result"
    }
   ],
   "source": [
    "from sklearn.feature_selection import SelectKBest\n",
    "eleven_col=SelectKBest(mutual_info_classif,k=10)\n",
    "eleven_col.fit(scaled_train,train_y)\n",
    "train_x.columns[eleven_col.get_support()]"
   ]
  },
  {
   "cell_type": "markdown",
   "id": "fde05e99",
   "metadata": {
    "id": "fde05e99"
   },
   "source": [
    "### 5.5 Seprate high information gain column "
   ]
  },
  {
   "cell_type": "code",
   "execution_count": 74,
   "id": "c8d9e05a",
   "metadata": {
    "colab": {
     "base_uri": "https://localhost:8080/",
     "height": 505
    },
    "executionInfo": {
     "elapsed": 182,
     "status": "ok",
     "timestamp": 1678212424332,
     "user": {
      "displayName": "Tanmay Hajare",
      "userId": "05037382924936965487"
     },
     "user_tz": -330
    },
    "id": "c8d9e05a",
    "outputId": "deea3244-73e7-4919-8a74-e6648df0a30c"
   },
   "outputs": [
    {
     "data": {
      "text/html": [
       "<div>\n",
       "<style scoped>\n",
       "    .dataframe tbody tr th:only-of-type {\n",
       "        vertical-align: middle;\n",
       "    }\n",
       "\n",
       "    .dataframe tbody tr th {\n",
       "        vertical-align: top;\n",
       "    }\n",
       "\n",
       "    .dataframe thead th {\n",
       "        text-align: right;\n",
       "    }\n",
       "</style>\n",
       "<table border=\"1\" class=\"dataframe\">\n",
       "  <thead>\n",
       "    <tr style=\"text-align: right;\">\n",
       "      <th></th>\n",
       "      <th>bodily_injuries</th>\n",
       "      <th>insured_occupation_sales</th>\n",
       "      <th>property_claim</th>\n",
       "      <th>insured_occupation_farming-fishing</th>\n",
       "      <th>injury_claim</th>\n",
       "      <th>insured_occupation_tech-support</th>\n",
       "      <th>policy_deductable</th>\n",
       "      <th>capital-loss</th>\n",
       "      <th>incident_type_Parked Car</th>\n",
       "      <th>insured_occupation_machine-op-inspct</th>\n",
       "      <th>collision_type_Rear Collision</th>\n",
       "      <th>insured_relationship_wife</th>\n",
       "      <th>insured_relationship_other-relative</th>\n",
       "    </tr>\n",
       "  </thead>\n",
       "  <tbody>\n",
       "    <tr>\n",
       "      <th>65</th>\n",
       "      <td>1.271286</td>\n",
       "      <td>-0.292205</td>\n",
       "      <td>-0.128241</td>\n",
       "      <td>-0.227801</td>\n",
       "      <td>1.285251</td>\n",
       "      <td>-0.286794</td>\n",
       "      <td>-1.037803</td>\n",
       "      <td>0.975789</td>\n",
       "      <td>-0.302825</td>\n",
       "      <td>-0.315764</td>\n",
       "      <td>-0.925438</td>\n",
       "      <td>-0.429923</td>\n",
       "      <td>2.236068</td>\n",
       "    </tr>\n",
       "    <tr>\n",
       "      <th>244</th>\n",
       "      <td>0.034626</td>\n",
       "      <td>-0.292205</td>\n",
       "      <td>-1.490999</td>\n",
       "      <td>-0.227801</td>\n",
       "      <td>-1.393623</td>\n",
       "      <td>-0.286794</td>\n",
       "      <td>-0.209769</td>\n",
       "      <td>-1.546393</td>\n",
       "      <td>-0.302825</td>\n",
       "      <td>-0.315764</td>\n",
       "      <td>1.080569</td>\n",
       "      <td>-0.429923</td>\n",
       "      <td>2.236068</td>\n",
       "    </tr>\n",
       "    <tr>\n",
       "      <th>595</th>\n",
       "      <td>0.034626</td>\n",
       "      <td>-0.292205</td>\n",
       "      <td>-0.203255</td>\n",
       "      <td>4.389792</td>\n",
       "      <td>-1.524700</td>\n",
       "      <td>-0.286794</td>\n",
       "      <td>-1.037803</td>\n",
       "      <td>-0.057480</td>\n",
       "      <td>-0.302825</td>\n",
       "      <td>-0.315764</td>\n",
       "      <td>1.080569</td>\n",
       "      <td>-0.429923</td>\n",
       "      <td>-0.447214</td>\n",
       "    </tr>\n",
       "    <tr>\n",
       "      <th>873</th>\n",
       "      <td>-1.202033</td>\n",
       "      <td>-0.292205</td>\n",
       "      <td>0.042625</td>\n",
       "      <td>-0.227801</td>\n",
       "      <td>0.048217</td>\n",
       "      <td>-0.286794</td>\n",
       "      <td>1.446300</td>\n",
       "      <td>-0.674572</td>\n",
       "      <td>-0.302825</td>\n",
       "      <td>-0.315764</td>\n",
       "      <td>1.080569</td>\n",
       "      <td>-0.429923</td>\n",
       "      <td>-0.447214</td>\n",
       "    </tr>\n",
       "    <tr>\n",
       "      <th>631</th>\n",
       "      <td>0.034626</td>\n",
       "      <td>-0.292205</td>\n",
       "      <td>-0.540819</td>\n",
       "      <td>-0.227801</td>\n",
       "      <td>0.474215</td>\n",
       "      <td>-0.286794</td>\n",
       "      <td>-0.209769</td>\n",
       "      <td>-0.760678</td>\n",
       "      <td>-0.302825</td>\n",
       "      <td>-0.315764</td>\n",
       "      <td>1.080569</td>\n",
       "      <td>-0.429923</td>\n",
       "      <td>-0.447214</td>\n",
       "    </tr>\n",
       "    <tr>\n",
       "      <th>...</th>\n",
       "      <td>...</td>\n",
       "      <td>...</td>\n",
       "      <td>...</td>\n",
       "      <td>...</td>\n",
       "      <td>...</td>\n",
       "      <td>...</td>\n",
       "      <td>...</td>\n",
       "      <td>...</td>\n",
       "      <td>...</td>\n",
       "      <td>...</td>\n",
       "      <td>...</td>\n",
       "      <td>...</td>\n",
       "      <td>...</td>\n",
       "    </tr>\n",
       "    <tr>\n",
       "      <th>291</th>\n",
       "      <td>-1.202033</td>\n",
       "      <td>-0.292205</td>\n",
       "      <td>0.830274</td>\n",
       "      <td>-0.227801</td>\n",
       "      <td>-0.351156</td>\n",
       "      <td>-0.286794</td>\n",
       "      <td>1.446300</td>\n",
       "      <td>-0.183051</td>\n",
       "      <td>-0.302825</td>\n",
       "      <td>-0.315764</td>\n",
       "      <td>-0.925438</td>\n",
       "      <td>-0.429923</td>\n",
       "      <td>2.236068</td>\n",
       "    </tr>\n",
       "    <tr>\n",
       "      <th>501</th>\n",
       "      <td>-1.202033</td>\n",
       "      <td>-0.292205</td>\n",
       "      <td>-0.519982</td>\n",
       "      <td>-0.227801</td>\n",
       "      <td>0.515177</td>\n",
       "      <td>3.486817</td>\n",
       "      <td>-0.209769</td>\n",
       "      <td>-0.950828</td>\n",
       "      <td>-0.302825</td>\n",
       "      <td>-0.315764</td>\n",
       "      <td>-0.925438</td>\n",
       "      <td>-0.429923</td>\n",
       "      <td>-0.447214</td>\n",
       "    </tr>\n",
       "    <tr>\n",
       "      <th>346</th>\n",
       "      <td>1.271286</td>\n",
       "      <td>-0.292205</td>\n",
       "      <td>-0.186585</td>\n",
       "      <td>-0.227801</td>\n",
       "      <td>-0.177071</td>\n",
       "      <td>-0.286794</td>\n",
       "      <td>-0.209769</td>\n",
       "      <td>-0.595642</td>\n",
       "      <td>-0.302825</td>\n",
       "      <td>3.166925</td>\n",
       "      <td>1.080569</td>\n",
       "      <td>-0.429923</td>\n",
       "      <td>-0.447214</td>\n",
       "    </tr>\n",
       "    <tr>\n",
       "      <th>642</th>\n",
       "      <td>1.271286</td>\n",
       "      <td>-0.292205</td>\n",
       "      <td>-0.378288</td>\n",
       "      <td>-0.227801</td>\n",
       "      <td>-0.365493</td>\n",
       "      <td>-0.286794</td>\n",
       "      <td>-0.209769</td>\n",
       "      <td>0.975789</td>\n",
       "      <td>-0.302825</td>\n",
       "      <td>-0.315764</td>\n",
       "      <td>1.080569</td>\n",
       "      <td>-0.429923</td>\n",
       "      <td>-0.447214</td>\n",
       "    </tr>\n",
       "    <tr>\n",
       "      <th>766</th>\n",
       "      <td>1.271286</td>\n",
       "      <td>-0.292205</td>\n",
       "      <td>-0.269934</td>\n",
       "      <td>-0.227801</td>\n",
       "      <td>1.006713</td>\n",
       "      <td>-0.286794</td>\n",
       "      <td>-0.209769</td>\n",
       "      <td>-0.714037</td>\n",
       "      <td>-0.302825</td>\n",
       "      <td>-0.315764</td>\n",
       "      <td>1.080569</td>\n",
       "      <td>-0.429923</td>\n",
       "      <td>2.236068</td>\n",
       "    </tr>\n",
       "  </tbody>\n",
       "</table>\n",
       "<p>750 rows × 13 columns</p>\n",
       "</div>"
      ],
      "text/plain": [
       "     bodily_injuries  insured_occupation_sales  property_claim  \\\n",
       "65          1.271286                 -0.292205       -0.128241   \n",
       "244         0.034626                 -0.292205       -1.490999   \n",
       "595         0.034626                 -0.292205       -0.203255   \n",
       "873        -1.202033                 -0.292205        0.042625   \n",
       "631         0.034626                 -0.292205       -0.540819   \n",
       "..               ...                       ...             ...   \n",
       "291        -1.202033                 -0.292205        0.830274   \n",
       "501        -1.202033                 -0.292205       -0.519982   \n",
       "346         1.271286                 -0.292205       -0.186585   \n",
       "642         1.271286                 -0.292205       -0.378288   \n",
       "766         1.271286                 -0.292205       -0.269934   \n",
       "\n",
       "     insured_occupation_farming-fishing  injury_claim  \\\n",
       "65                            -0.227801      1.285251   \n",
       "244                           -0.227801     -1.393623   \n",
       "595                            4.389792     -1.524700   \n",
       "873                           -0.227801      0.048217   \n",
       "631                           -0.227801      0.474215   \n",
       "..                                  ...           ...   \n",
       "291                           -0.227801     -0.351156   \n",
       "501                           -0.227801      0.515177   \n",
       "346                           -0.227801     -0.177071   \n",
       "642                           -0.227801     -0.365493   \n",
       "766                           -0.227801      1.006713   \n",
       "\n",
       "     insured_occupation_tech-support  policy_deductable  capital-loss  \\\n",
       "65                         -0.286794          -1.037803      0.975789   \n",
       "244                        -0.286794          -0.209769     -1.546393   \n",
       "595                        -0.286794          -1.037803     -0.057480   \n",
       "873                        -0.286794           1.446300     -0.674572   \n",
       "631                        -0.286794          -0.209769     -0.760678   \n",
       "..                               ...                ...           ...   \n",
       "291                        -0.286794           1.446300     -0.183051   \n",
       "501                         3.486817          -0.209769     -0.950828   \n",
       "346                        -0.286794          -0.209769     -0.595642   \n",
       "642                        -0.286794          -0.209769      0.975789   \n",
       "766                        -0.286794          -0.209769     -0.714037   \n",
       "\n",
       "     incident_type_Parked Car  insured_occupation_machine-op-inspct  \\\n",
       "65                  -0.302825                             -0.315764   \n",
       "244                 -0.302825                             -0.315764   \n",
       "595                 -0.302825                             -0.315764   \n",
       "873                 -0.302825                             -0.315764   \n",
       "631                 -0.302825                             -0.315764   \n",
       "..                        ...                                   ...   \n",
       "291                 -0.302825                             -0.315764   \n",
       "501                 -0.302825                             -0.315764   \n",
       "346                 -0.302825                              3.166925   \n",
       "642                 -0.302825                             -0.315764   \n",
       "766                 -0.302825                             -0.315764   \n",
       "\n",
       "     collision_type_Rear Collision  insured_relationship_wife  \\\n",
       "65                       -0.925438                  -0.429923   \n",
       "244                       1.080569                  -0.429923   \n",
       "595                       1.080569                  -0.429923   \n",
       "873                       1.080569                  -0.429923   \n",
       "631                       1.080569                  -0.429923   \n",
       "..                             ...                        ...   \n",
       "291                      -0.925438                  -0.429923   \n",
       "501                      -0.925438                  -0.429923   \n",
       "346                       1.080569                  -0.429923   \n",
       "642                       1.080569                  -0.429923   \n",
       "766                       1.080569                  -0.429923   \n",
       "\n",
       "     insured_relationship_other-relative  \n",
       "65                              2.236068  \n",
       "244                             2.236068  \n",
       "595                            -0.447214  \n",
       "873                            -0.447214  \n",
       "631                            -0.447214  \n",
       "..                                   ...  \n",
       "291                             2.236068  \n",
       "501                            -0.447214  \n",
       "346                            -0.447214  \n",
       "642                            -0.447214  \n",
       "766                             2.236068  \n",
       "\n",
       "[750 rows x 13 columns]"
      ]
     },
     "execution_count": 74,
     "metadata": {},
     "output_type": "execute_result"
    }
   ],
   "source": [
    "Scaled_fs_train_data=scaled_train.filter(['incident_severit','bodily_injuries','insured_occupation_sales','property_claim','insured_occupation_farming-fishing','injury_claim','insured_occupation_tech-support','policy_deductable','capital-loss','incident_type_Parked Car','insured_occupation_machine-op-inspct','collision_type_Rear Collision','insured_relationship_wife','insured_relationship_other-relative'],axis=1)\n",
    "Scaled_fs_train_data"
   ]
  },
  {
   "cell_type": "code",
   "execution_count": 75,
   "id": "ea2b252f",
   "metadata": {
    "colab": {
     "base_uri": "https://localhost:8080/",
     "height": 505
    },
    "executionInfo": {
     "elapsed": 177,
     "status": "ok",
     "timestamp": 1678212424334,
     "user": {
      "displayName": "Tanmay Hajare",
      "userId": "05037382924936965487"
     },
     "user_tz": -330
    },
    "id": "ea2b252f",
    "outputId": "0919bd60-1a1f-4221-cfeb-60065fc7eb6a"
   },
   "outputs": [
    {
     "data": {
      "text/html": [
       "<div>\n",
       "<style scoped>\n",
       "    .dataframe tbody tr th:only-of-type {\n",
       "        vertical-align: middle;\n",
       "    }\n",
       "\n",
       "    .dataframe tbody tr th {\n",
       "        vertical-align: top;\n",
       "    }\n",
       "\n",
       "    .dataframe thead th {\n",
       "        text-align: right;\n",
       "    }\n",
       "</style>\n",
       "<table border=\"1\" class=\"dataframe\">\n",
       "  <thead>\n",
       "    <tr style=\"text-align: right;\">\n",
       "      <th></th>\n",
       "      <th>bodily_injuries</th>\n",
       "      <th>insured_occupation_sales</th>\n",
       "      <th>property_claim</th>\n",
       "      <th>insured_occupation_farming-fishing</th>\n",
       "      <th>injury_claim</th>\n",
       "      <th>insured_occupation_tech-support</th>\n",
       "      <th>policy_deductable</th>\n",
       "      <th>capital-loss</th>\n",
       "      <th>incident_type_Parked Car</th>\n",
       "      <th>insured_occupation_machine-op-inspct</th>\n",
       "      <th>collision_type_Rear Collision</th>\n",
       "      <th>insured_relationship_wife</th>\n",
       "      <th>insured_relationship_other-relative</th>\n",
       "    </tr>\n",
       "  </thead>\n",
       "  <tbody>\n",
       "    <tr>\n",
       "      <th>381</th>\n",
       "      <td>-0.061228</td>\n",
       "      <td>-0.270114</td>\n",
       "      <td>-0.297274</td>\n",
       "      <td>-0.261488</td>\n",
       "      <td>0.830272</td>\n",
       "      <td>-0.302825</td>\n",
       "      <td>-1.048430</td>\n",
       "      <td>0.044644</td>\n",
       "      <td>-0.302825</td>\n",
       "      <td>-0.333333</td>\n",
       "      <td>-0.992032</td>\n",
       "      <td>-0.423374</td>\n",
       "      <td>1.951331</td>\n",
       "    </tr>\n",
       "    <tr>\n",
       "      <th>732</th>\n",
       "      <td>1.116225</td>\n",
       "      <td>-0.270114</td>\n",
       "      <td>1.447109</td>\n",
       "      <td>-0.261488</td>\n",
       "      <td>-0.057535</td>\n",
       "      <td>-0.302825</td>\n",
       "      <td>1.320012</td>\n",
       "      <td>0.891389</td>\n",
       "      <td>-0.302825</td>\n",
       "      <td>-0.333333</td>\n",
       "      <td>-0.992032</td>\n",
       "      <td>-0.423374</td>\n",
       "      <td>-0.512471</td>\n",
       "    </tr>\n",
       "    <tr>\n",
       "      <th>179</th>\n",
       "      <td>1.116225</td>\n",
       "      <td>-0.270114</td>\n",
       "      <td>-1.284120</td>\n",
       "      <td>-0.261488</td>\n",
       "      <td>-1.428292</td>\n",
       "      <td>3.302236</td>\n",
       "      <td>-1.048430</td>\n",
       "      <td>-0.213213</td>\n",
       "      <td>-0.302825</td>\n",
       "      <td>-0.333333</td>\n",
       "      <td>1.008032</td>\n",
       "      <td>2.361980</td>\n",
       "      <td>-0.512471</td>\n",
       "    </tr>\n",
       "    <tr>\n",
       "      <th>845</th>\n",
       "      <td>-1.238680</td>\n",
       "      <td>-0.270114</td>\n",
       "      <td>-0.190809</td>\n",
       "      <td>-0.261488</td>\n",
       "      <td>-0.238384</td>\n",
       "      <td>-0.302825</td>\n",
       "      <td>1.320012</td>\n",
       "      <td>0.891389</td>\n",
       "      <td>-0.302825</td>\n",
       "      <td>-0.333333</td>\n",
       "      <td>-0.992032</td>\n",
       "      <td>-0.423374</td>\n",
       "      <td>-0.512471</td>\n",
       "    </tr>\n",
       "    <tr>\n",
       "      <th>111</th>\n",
       "      <td>-1.238680</td>\n",
       "      <td>-0.270114</td>\n",
       "      <td>-0.035207</td>\n",
       "      <td>-0.261488</td>\n",
       "      <td>1.356380</td>\n",
       "      <td>-0.302825</td>\n",
       "      <td>-1.048430</td>\n",
       "      <td>-0.460616</td>\n",
       "      <td>-0.302825</td>\n",
       "      <td>-0.333333</td>\n",
       "      <td>-0.992032</td>\n",
       "      <td>-0.423374</td>\n",
       "      <td>-0.512471</td>\n",
       "    </tr>\n",
       "    <tr>\n",
       "      <th>...</th>\n",
       "      <td>...</td>\n",
       "      <td>...</td>\n",
       "      <td>...</td>\n",
       "      <td>...</td>\n",
       "      <td>...</td>\n",
       "      <td>...</td>\n",
       "      <td>...</td>\n",
       "      <td>...</td>\n",
       "      <td>...</td>\n",
       "      <td>...</td>\n",
       "      <td>...</td>\n",
       "      <td>...</td>\n",
       "      <td>...</td>\n",
       "    </tr>\n",
       "    <tr>\n",
       "      <th>283</th>\n",
       "      <td>-1.238680</td>\n",
       "      <td>-0.270114</td>\n",
       "      <td>-0.241994</td>\n",
       "      <td>-0.261488</td>\n",
       "      <td>0.941248</td>\n",
       "      <td>3.302236</td>\n",
       "      <td>1.320012</td>\n",
       "      <td>-0.070346</td>\n",
       "      <td>-0.302825</td>\n",
       "      <td>-0.333333</td>\n",
       "      <td>1.008032</td>\n",
       "      <td>-0.423374</td>\n",
       "      <td>1.951331</td>\n",
       "    </tr>\n",
       "    <tr>\n",
       "      <th>965</th>\n",
       "      <td>-1.238680</td>\n",
       "      <td>-0.270114</td>\n",
       "      <td>0.382462</td>\n",
       "      <td>-0.261488</td>\n",
       "      <td>0.337046</td>\n",
       "      <td>-0.302825</td>\n",
       "      <td>-0.258950</td>\n",
       "      <td>0.891389</td>\n",
       "      <td>-0.302825</td>\n",
       "      <td>-0.333333</td>\n",
       "      <td>-0.992032</td>\n",
       "      <td>-0.423374</td>\n",
       "      <td>1.951331</td>\n",
       "    </tr>\n",
       "    <tr>\n",
       "      <th>591</th>\n",
       "      <td>1.116225</td>\n",
       "      <td>-0.270114</td>\n",
       "      <td>2.996989</td>\n",
       "      <td>-0.261488</td>\n",
       "      <td>-0.026708</td>\n",
       "      <td>-0.302825</td>\n",
       "      <td>-1.048430</td>\n",
       "      <td>0.891389</td>\n",
       "      <td>-0.302825</td>\n",
       "      <td>-0.333333</td>\n",
       "      <td>1.008032</td>\n",
       "      <td>-0.423374</td>\n",
       "      <td>-0.512471</td>\n",
       "    </tr>\n",
       "    <tr>\n",
       "      <th>176</th>\n",
       "      <td>-0.061228</td>\n",
       "      <td>-0.270114</td>\n",
       "      <td>0.284187</td>\n",
       "      <td>-0.261488</td>\n",
       "      <td>0.238401</td>\n",
       "      <td>-0.302825</td>\n",
       "      <td>-1.048430</td>\n",
       "      <td>0.891389</td>\n",
       "      <td>-0.302825</td>\n",
       "      <td>-0.333333</td>\n",
       "      <td>-0.992032</td>\n",
       "      <td>-0.423374</td>\n",
       "      <td>1.951331</td>\n",
       "    </tr>\n",
       "    <tr>\n",
       "      <th>155</th>\n",
       "      <td>1.116225</td>\n",
       "      <td>3.702146</td>\n",
       "      <td>-1.468386</td>\n",
       "      <td>-0.261488</td>\n",
       "      <td>-1.520772</td>\n",
       "      <td>-0.302825</td>\n",
       "      <td>-0.258950</td>\n",
       "      <td>0.891389</td>\n",
       "      <td>-0.302825</td>\n",
       "      <td>-0.333333</td>\n",
       "      <td>-0.992032</td>\n",
       "      <td>-0.423374</td>\n",
       "      <td>1.951331</td>\n",
       "    </tr>\n",
       "  </tbody>\n",
       "</table>\n",
       "<p>250 rows × 13 columns</p>\n",
       "</div>"
      ],
      "text/plain": [
       "     bodily_injuries  insured_occupation_sales  property_claim  \\\n",
       "381        -0.061228                 -0.270114       -0.297274   \n",
       "732         1.116225                 -0.270114        1.447109   \n",
       "179         1.116225                 -0.270114       -1.284120   \n",
       "845        -1.238680                 -0.270114       -0.190809   \n",
       "111        -1.238680                 -0.270114       -0.035207   \n",
       "..               ...                       ...             ...   \n",
       "283        -1.238680                 -0.270114       -0.241994   \n",
       "965        -1.238680                 -0.270114        0.382462   \n",
       "591         1.116225                 -0.270114        2.996989   \n",
       "176        -0.061228                 -0.270114        0.284187   \n",
       "155         1.116225                  3.702146       -1.468386   \n",
       "\n",
       "     insured_occupation_farming-fishing  injury_claim  \\\n",
       "381                           -0.261488      0.830272   \n",
       "732                           -0.261488     -0.057535   \n",
       "179                           -0.261488     -1.428292   \n",
       "845                           -0.261488     -0.238384   \n",
       "111                           -0.261488      1.356380   \n",
       "..                                  ...           ...   \n",
       "283                           -0.261488      0.941248   \n",
       "965                           -0.261488      0.337046   \n",
       "591                           -0.261488     -0.026708   \n",
       "176                           -0.261488      0.238401   \n",
       "155                           -0.261488     -1.520772   \n",
       "\n",
       "     insured_occupation_tech-support  policy_deductable  capital-loss  \\\n",
       "381                        -0.302825          -1.048430      0.044644   \n",
       "732                        -0.302825           1.320012      0.891389   \n",
       "179                         3.302236          -1.048430     -0.213213   \n",
       "845                        -0.302825           1.320012      0.891389   \n",
       "111                        -0.302825          -1.048430     -0.460616   \n",
       "..                               ...                ...           ...   \n",
       "283                         3.302236           1.320012     -0.070346   \n",
       "965                        -0.302825          -0.258950      0.891389   \n",
       "591                        -0.302825          -1.048430      0.891389   \n",
       "176                        -0.302825          -1.048430      0.891389   \n",
       "155                        -0.302825          -0.258950      0.891389   \n",
       "\n",
       "     incident_type_Parked Car  insured_occupation_machine-op-inspct  \\\n",
       "381                 -0.302825                             -0.333333   \n",
       "732                 -0.302825                             -0.333333   \n",
       "179                 -0.302825                             -0.333333   \n",
       "845                 -0.302825                             -0.333333   \n",
       "111                 -0.302825                             -0.333333   \n",
       "..                        ...                                   ...   \n",
       "283                 -0.302825                             -0.333333   \n",
       "965                 -0.302825                             -0.333333   \n",
       "591                 -0.302825                             -0.333333   \n",
       "176                 -0.302825                             -0.333333   \n",
       "155                 -0.302825                             -0.333333   \n",
       "\n",
       "     collision_type_Rear Collision  insured_relationship_wife  \\\n",
       "381                      -0.992032                  -0.423374   \n",
       "732                      -0.992032                  -0.423374   \n",
       "179                       1.008032                   2.361980   \n",
       "845                      -0.992032                  -0.423374   \n",
       "111                      -0.992032                  -0.423374   \n",
       "..                             ...                        ...   \n",
       "283                       1.008032                  -0.423374   \n",
       "965                      -0.992032                  -0.423374   \n",
       "591                       1.008032                  -0.423374   \n",
       "176                      -0.992032                  -0.423374   \n",
       "155                      -0.992032                  -0.423374   \n",
       "\n",
       "     insured_relationship_other-relative  \n",
       "381                             1.951331  \n",
       "732                            -0.512471  \n",
       "179                            -0.512471  \n",
       "845                            -0.512471  \n",
       "111                            -0.512471  \n",
       "..                                   ...  \n",
       "283                             1.951331  \n",
       "965                             1.951331  \n",
       "591                            -0.512471  \n",
       "176                             1.951331  \n",
       "155                             1.951331  \n",
       "\n",
       "[250 rows x 13 columns]"
      ]
     },
     "execution_count": 75,
     "metadata": {},
     "output_type": "execute_result"
    }
   ],
   "source": [
    "Scaled_fs_test_data=scaled_test.filter(['incident_severit','bodily_injuries','insured_occupation_sales','property_claim','insured_occupation_farming-fishing','injury_claim','insured_occupation_tech-support','policy_deductable','capital-loss','incident_type_Parked Car','insured_occupation_machine-op-inspct','collision_type_Rear Collision','insured_relationship_wife','insured_relationship_other-relative'],axis=1)\n",
    "Scaled_fs_test_data"
   ]
  },
  {
   "cell_type": "markdown",
   "id": "dd1405e5",
   "metadata": {
    "id": "dd1405e5"
   },
   "source": [
    "# <font color='red'>6.  Model Selection</font>\n",
    "#### 1.Logistic Regression\n",
    "#### 2.Support Vector Machines\n",
    "#### 3.K-Nearest Neighbours\n",
    "#### 4.Naïve Bayes\n",
    "#### 5.Decision Tree Classification\n",
    "#### 6.Random Forest Classification\n",
    "#### 7.XGBClassifier\n",
    "#### 8.ANN"
   ]
  },
  {
   "cell_type": "markdown",
   "id": "8d1c583a",
   "metadata": {
    "id": "8d1c583a"
   },
   "source": [
    "### 6.1 Logistics Regression "
   ]
  },
  {
   "cell_type": "code",
   "execution_count": 76,
   "id": "29ab2c50",
   "metadata": {
    "colab": {
     "base_uri": "https://localhost:8080/"
    },
    "executionInfo": {
     "elapsed": 175,
     "status": "ok",
     "timestamp": 1678212424336,
     "user": {
      "displayName": "Tanmay Hajare",
      "userId": "05037382924936965487"
     },
     "user_tz": -330
    },
    "id": "29ab2c50",
    "outputId": "aa2088a3-5e77-415a-83d3-ff797dedac85",
    "scrolled": true
   },
   "outputs": [
    {
     "data": {
      "text/plain": [
       "array([0, 0, 0, 0, 0, 0, 0, 0, 0, 0, 0, 0, 0, 0, 0, 0, 0, 0, 0, 0, 0, 0,\n",
       "       0, 0, 0, 0, 0, 0, 0, 0, 0, 0, 0, 0, 0, 0, 0, 0, 0, 0, 0, 0, 0, 0,\n",
       "       0, 0, 0, 0, 0, 0, 0, 0, 0, 0, 0, 0, 0, 0, 0, 0, 0, 0, 0, 0, 0, 0,\n",
       "       0, 0, 0, 0, 0, 0, 0, 0, 0, 0, 0, 0, 0, 0, 0, 0, 0, 0, 0, 0, 0, 0,\n",
       "       0, 0, 0, 0, 0, 0, 0, 0, 0, 0, 0, 0, 0, 0, 0, 0, 0, 0, 0, 0, 0, 0,\n",
       "       0, 0, 0, 0, 0, 0, 0, 0, 0, 0, 0, 0, 0, 0, 0, 0, 0, 0, 0, 0, 0, 0,\n",
       "       0, 0, 0, 0, 0, 0, 0, 0, 0, 0, 0, 0, 0, 0, 0, 0, 0, 0, 0, 0, 0, 0,\n",
       "       0, 0, 0, 0, 0, 0, 0, 0, 0, 0, 0, 0, 0, 0, 0, 0, 0, 0, 0, 0, 0, 0,\n",
       "       0, 0, 0, 0, 0, 0, 0, 0, 0, 0, 0, 0, 0, 0, 0, 0, 0, 0, 0, 0, 0, 0,\n",
       "       0, 0, 0, 0, 0, 0, 0, 0, 0, 0, 0, 0, 0, 0, 0, 0, 0, 0, 0, 0, 0, 0,\n",
       "       0, 0, 0, 0, 0, 0, 0, 0, 0, 0, 0, 0, 0, 0, 0, 0, 0, 0, 0, 0, 0, 0,\n",
       "       0, 0, 0, 0, 0, 0, 0, 0], dtype=int64)"
      ]
     },
     "execution_count": 76,
     "metadata": {},
     "output_type": "execute_result"
    }
   ],
   "source": [
    "from sklearn.linear_model import LogisticRegression\n",
    "model_Logi=LogisticRegression()\n",
    "model_Logi.fit(Scaled_fs_train_data,train_y)\n",
    "y_Predict_Logi=model_Logi.predict(Scaled_fs_test_data)\n",
    "y_Predict_Logi"
   ]
  },
  {
   "cell_type": "code",
   "execution_count": 77,
   "id": "c0764ee6",
   "metadata": {
    "colab": {
     "base_uri": "https://localhost:8080/"
    },
    "executionInfo": {
     "elapsed": 163,
     "status": "ok",
     "timestamp": 1678212424338,
     "user": {
      "displayName": "Tanmay Hajare",
      "userId": "05037382924936965487"
     },
     "user_tz": -330
    },
    "id": "c0764ee6",
    "outputId": "7f6ac363-d39b-440e-be05-b52d95df7219"
   },
   "outputs": [
    {
     "data": {
      "text/plain": [
       "0.728"
      ]
     },
     "execution_count": 77,
     "metadata": {},
     "output_type": "execute_result"
    }
   ],
   "source": [
    "from sklearn.metrics import accuracy_score\n",
    "acc_Lg=accuracy_score(test_y,y_Predict_Logi)\n",
    "acc_Lg"
   ]
  },
  {
   "cell_type": "markdown",
   "id": "b0b32d98",
   "metadata": {
    "id": "b0b32d98"
   },
   "source": [
    "### 6.2 Support vector classifier"
   ]
  },
  {
   "cell_type": "code",
   "execution_count": 78,
   "id": "f51574b7",
   "metadata": {
    "executionInfo": {
     "elapsed": 151,
     "status": "ok",
     "timestamp": 1678212424340,
     "user": {
      "displayName": "Tanmay Hajare",
      "userId": "05037382924936965487"
     },
     "user_tz": -330
    },
    "id": "f51574b7"
   },
   "outputs": [],
   "source": [
    "# first using the Support vector classifier for model training\n",
    "from sklearn.svm import SVC\n",
    "sv_classifier=SVC()"
   ]
  },
  {
   "cell_type": "code",
   "execution_count": 79,
   "id": "5388b323",
   "metadata": {
    "colab": {
     "base_uri": "https://localhost:8080/"
    },
    "executionInfo": {
     "elapsed": 2019,
     "status": "ok",
     "timestamp": 1678212426210,
     "user": {
      "displayName": "Tanmay Hajare",
      "userId": "05037382924936965487"
     },
     "user_tz": -330
    },
    "id": "5388b323",
    "outputId": "4c115e08-de3b-4e53-db4b-948bf0e7c6d6"
   },
   "outputs": [
    {
     "data": {
      "text/plain": [
       "array([0, 0, 0, 0, 0, 0, 0, 0, 0, 0, 0, 0, 0, 0, 0, 0, 0, 0, 0, 0, 0, 0,\n",
       "       0, 0, 0, 0, 0, 0, 0, 0, 0, 0, 0, 0, 0, 0, 0, 0, 0, 0, 0, 0, 0, 0,\n",
       "       0, 0, 0, 0, 0, 0, 0, 0, 0, 0, 0, 0, 0, 0, 0, 0, 0, 0, 0, 0, 0, 0,\n",
       "       0, 0, 0, 0, 0, 0, 0, 0, 0, 0, 0, 0, 0, 0, 0, 0, 0, 0, 0, 0, 0, 0,\n",
       "       0, 0, 0, 0, 0, 0, 0, 0, 0, 0, 0, 0, 0, 0, 0, 0, 0, 0, 0, 0, 0, 0,\n",
       "       0, 0, 0, 0, 0, 0, 0, 0, 0, 0, 0, 0, 0, 0, 0, 0, 0, 0, 0, 0, 0, 0,\n",
       "       0, 0, 0, 0, 0, 0, 0, 0, 0, 0, 0, 0, 0, 0, 0, 0, 0, 0, 0, 0, 0, 0,\n",
       "       0, 0, 0, 0, 0, 0, 0, 0, 0, 0, 0, 0, 0, 0, 0, 0, 0, 0, 0, 0, 0, 0,\n",
       "       0, 0, 0, 0, 0, 0, 0, 0, 0, 0, 0, 0, 0, 0, 0, 0, 0, 0, 0, 0, 0, 0,\n",
       "       0, 0, 0, 0, 0, 0, 0, 0, 0, 0, 0, 0, 0, 0, 0, 0, 0, 0, 0, 0, 0, 0,\n",
       "       0, 0, 0, 0, 0, 0, 0, 0, 0, 0, 0, 0, 0, 0, 0, 0, 0, 0, 0, 0, 0, 0,\n",
       "       0, 0, 0, 0, 0, 0, 0, 0], dtype=int64)"
      ]
     },
     "execution_count": 79,
     "metadata": {},
     "output_type": "execute_result"
    }
   ],
   "source": [
    "sv_classifier.fit(Scaled_fs_train_data, train_y)\n",
    "#y_pred=sv_classifier.predict([[0,0,6240,0,6240,0,2000,0,0,0,0,0,0]])\n",
    "y_pred=sv_classifier.predict(Scaled_fs_test_data)\n",
    "y_pred"
   ]
  },
  {
   "cell_type": "code",
   "execution_count": 80,
   "id": "1d4a68d4",
   "metadata": {
    "executionInfo": {
     "elapsed": 181,
     "status": "ok",
     "timestamp": 1678212426212,
     "user": {
      "displayName": "Tanmay Hajare",
      "userId": "05037382924936965487"
     },
     "user_tz": -330
    },
    "id": "1d4a68d4"
   },
   "outputs": [],
   "source": [
    "from sklearn.metrics import accuracy_score"
   ]
  },
  {
   "cell_type": "code",
   "execution_count": 81,
   "id": "4462dea3",
   "metadata": {
    "colab": {
     "base_uri": "https://localhost:8080/"
    },
    "executionInfo": {
     "elapsed": 180,
     "status": "ok",
     "timestamp": 1678212426213,
     "user": {
      "displayName": "Tanmay Hajare",
      "userId": "05037382924936965487"
     },
     "user_tz": -330
    },
    "id": "4462dea3",
    "outputId": "1dfa531f-a1d1-410d-ebca-afd606465603"
   },
   "outputs": [
    {
     "data": {
      "text/plain": [
       "0.728"
      ]
     },
     "execution_count": 81,
     "metadata": {},
     "output_type": "execute_result"
    }
   ],
   "source": [
    "acc_svc=accuracy_score(test_y,y_pred)\n",
    "acc_svc"
   ]
  },
  {
   "cell_type": "markdown",
   "id": "bb552867",
   "metadata": {
    "id": "bb552867"
   },
   "source": [
    "### 6.3 K-Nearest Neighbours"
   ]
  },
  {
   "cell_type": "code",
   "execution_count": 82,
   "id": "f611cf32",
   "metadata": {
    "colab": {
     "base_uri": "https://localhost:8080/"
    },
    "executionInfo": {
     "elapsed": 168,
     "status": "ok",
     "timestamp": 1678212426215,
     "user": {
      "displayName": "Tanmay Hajare",
      "userId": "05037382924936965487"
     },
     "user_tz": -330
    },
    "id": "f611cf32",
    "outputId": "fc04cadc-0d29-4550-858e-94630be5e49b"
   },
   "outputs": [
    {
     "data": {
      "text/plain": [
       "array([0, 0, 0, 0, 0, 0, 0, 0, 0, 0, 0, 0, 0, 0, 1, 0, 0, 0, 0, 0, 0, 0,\n",
       "       0, 0, 0, 0, 0, 0, 0, 0, 0, 0, 0, 0, 0, 0, 0, 0, 0, 0, 0, 0, 0, 0,\n",
       "       0, 1, 0, 0, 0, 0, 0, 0, 0, 1, 0, 0, 0, 0, 0, 1, 0, 0, 0, 0, 0, 0,\n",
       "       0, 1, 0, 0, 0, 1, 0, 0, 0, 0, 0, 0, 0, 1, 1, 1, 0, 0, 0, 0, 0, 0,\n",
       "       0, 0, 0, 1, 0, 0, 0, 0, 0, 0, 0, 0, 0, 0, 0, 0, 0, 0, 0, 0, 1, 0,\n",
       "       1, 0, 0, 0, 0, 1, 1, 0, 0, 0, 0, 0, 1, 0, 1, 0, 0, 0, 0, 0, 0, 0,\n",
       "       0, 0, 0, 0, 0, 0, 0, 0, 0, 1, 0, 0, 0, 0, 0, 0, 0, 0, 0, 0, 0, 0,\n",
       "       0, 0, 0, 1, 0, 0, 0, 0, 0, 0, 0, 0, 0, 0, 1, 0, 0, 0, 0, 0, 0, 0,\n",
       "       0, 0, 0, 0, 0, 0, 0, 0, 0, 0, 0, 0, 0, 0, 0, 0, 0, 0, 0, 0, 1, 0,\n",
       "       0, 0, 0, 0, 0, 0, 0, 0, 0, 0, 0, 0, 0, 0, 1, 0, 0, 0, 0, 0, 0, 0,\n",
       "       1, 0, 0, 0, 0, 0, 0, 0, 0, 0, 0, 0, 0, 0, 0, 0, 0, 0, 0, 0, 1, 0,\n",
       "       0, 0, 0, 1, 0, 0, 0, 0], dtype=int64)"
      ]
     },
     "execution_count": 82,
     "metadata": {},
     "output_type": "execute_result"
    }
   ],
   "source": [
    "from sklearn.neighbors import KNeighborsClassifier  \n",
    "classifier= KNeighborsClassifier(n_neighbors=5, metric='minkowski', p=2 )  \n",
    "classifier.fit(Scaled_fs_train_data, train_y)  \n",
    "#y_predict_knn=classifier.predict([[1,0,5720,0,11440,0,500,-24300,0,0,0,0,1]])\n",
    "y_predict_knn=classifier.predict(Scaled_fs_test_data)\n",
    "y_predict_knn"
   ]
  },
  {
   "cell_type": "code",
   "execution_count": 83,
   "id": "602b8b00",
   "metadata": {
    "colab": {
     "base_uri": "https://localhost:8080/"
    },
    "executionInfo": {
     "elapsed": 153,
     "status": "ok",
     "timestamp": 1678212426217,
     "user": {
      "displayName": "Tanmay Hajare",
      "userId": "05037382924936965487"
     },
     "user_tz": -330
    },
    "id": "602b8b00",
    "outputId": "242054ee-f7b8-47b6-a369-ff953d8a4af7"
   },
   "outputs": [
    {
     "data": {
      "text/plain": [
       "0.664"
      ]
     },
     "execution_count": 83,
     "metadata": {},
     "output_type": "execute_result"
    }
   ],
   "source": [
    "knn_accurancy=accuracy_score(test_y,y_predict_knn)\n",
    "knn_accurancy"
   ]
  },
  {
   "cell_type": "markdown",
   "id": "4d105dc7",
   "metadata": {
    "id": "4d105dc7"
   },
   "source": [
    "### 6.4 Naïve Bayes"
   ]
  },
  {
   "cell_type": "code",
   "execution_count": 84,
   "id": "c23f9e42",
   "metadata": {
    "executionInfo": {
     "elapsed": 142,
     "status": "ok",
     "timestamp": 1678212426220,
     "user": {
      "displayName": "Tanmay Hajare",
      "userId": "05037382924936965487"
     },
     "user_tz": -330
    },
    "id": "c23f9e42"
   },
   "outputs": [],
   "source": [
    "from sklearn.naive_bayes import GaussianNB  \n",
    "classifier = GaussianNB()  \n",
    "classifier.fit(Scaled_fs_train_data, train_y)  \n",
    "y_predict_NB=classifier.predict(Scaled_fs_test_data)"
   ]
  },
  {
   "cell_type": "code",
   "execution_count": 85,
   "id": "9168fb4a",
   "metadata": {
    "colab": {
     "base_uri": "https://localhost:8080/"
    },
    "executionInfo": {
     "elapsed": 141,
     "status": "ok",
     "timestamp": 1678212426221,
     "user": {
      "displayName": "Tanmay Hajare",
      "userId": "05037382924936965487"
     },
     "user_tz": -330
    },
    "id": "9168fb4a",
    "outputId": "5fc0c25c-97f1-46e6-ac4c-afbe9b378535"
   },
   "outputs": [
    {
     "data": {
      "text/plain": [
       "0.68"
      ]
     },
     "execution_count": 85,
     "metadata": {},
     "output_type": "execute_result"
    }
   ],
   "source": [
    "NB_accurancy=accuracy_score(test_y,y_predict_NB)\n",
    "NB_accurancy"
   ]
  },
  {
   "cell_type": "markdown",
   "id": "956de418",
   "metadata": {
    "id": "956de418"
   },
   "source": [
    "### 6.5 Decision Tree Classification"
   ]
  },
  {
   "cell_type": "code",
   "execution_count": 86,
   "id": "b4ad0e16",
   "metadata": {
    "executionInfo": {
     "elapsed": 108,
     "status": "ok",
     "timestamp": 1678212426223,
     "user": {
      "displayName": "Tanmay Hajare",
      "userId": "05037382924936965487"
     },
     "user_tz": -330
    },
    "id": "b4ad0e16"
   },
   "outputs": [],
   "source": [
    "from sklearn.tree import DecisionTreeClassifier  \n",
    "DT_classifier= DecisionTreeClassifier(criterion='entropy', random_state=0)  \n",
    "DT_classifier.fit(Scaled_fs_train_data, train_y) \n",
    "y_predict_DT=DT_classifier.predict(Scaled_fs_test_data)"
   ]
  },
  {
   "cell_type": "code",
   "execution_count": 87,
   "id": "44781e35",
   "metadata": {
    "colab": {
     "base_uri": "https://localhost:8080/"
    },
    "executionInfo": {
     "elapsed": 108,
     "status": "ok",
     "timestamp": 1678212426225,
     "user": {
      "displayName": "Tanmay Hajare",
      "userId": "05037382924936965487"
     },
     "user_tz": -330
    },
    "id": "44781e35",
    "outputId": "ed834a73-b98e-4cf4-9e4b-5e40aaaccdc5"
   },
   "outputs": [
    {
     "data": {
      "text/plain": [
       "0.624"
      ]
     },
     "execution_count": 87,
     "metadata": {},
     "output_type": "execute_result"
    }
   ],
   "source": [
    "DT_accurancy=accuracy_score(test_y,y_predict_DT)\n",
    "DT_accurancy"
   ]
  },
  {
   "cell_type": "markdown",
   "id": "fa8b6345",
   "metadata": {
    "id": "fa8b6345"
   },
   "source": [
    "### 6.6 Random Forest Classification"
   ]
  },
  {
   "cell_type": "code",
   "execution_count": 88,
   "id": "847556eb",
   "metadata": {
    "executionInfo": {
     "elapsed": 90,
     "status": "ok",
     "timestamp": 1678212426230,
     "user": {
      "displayName": "Tanmay Hajare",
      "userId": "05037382924936965487"
     },
     "user_tz": -330
    },
    "id": "847556eb"
   },
   "outputs": [],
   "source": [
    "from sklearn.ensemble import RandomForestClassifier\n",
    "model_rf=RandomForestClassifier(n_estimators=100)\n",
    "model_rf.fit(Scaled_fs_train_data,train_y)\n",
    "y_pred_RF=model_rf.predict(Scaled_fs_test_data)"
   ]
  },
  {
   "cell_type": "code",
   "execution_count": 89,
   "id": "2c12c9fa",
   "metadata": {
    "colab": {
     "base_uri": "https://localhost:8080/"
    },
    "executionInfo": {
     "elapsed": 83,
     "status": "ok",
     "timestamp": 1678212426232,
     "user": {
      "displayName": "Tanmay Hajare",
      "userId": "05037382924936965487"
     },
     "user_tz": -330
    },
    "id": "2c12c9fa",
    "outputId": "e709025d-3ef4-4602-93f5-8610e835c68f"
   },
   "outputs": [
    {
     "data": {
      "text/plain": [
       "0.716"
      ]
     },
     "execution_count": 89,
     "metadata": {},
     "output_type": "execute_result"
    }
   ],
   "source": [
    "RF_Accurancy=accuracy_score(test_y,y_pred_RF)\n",
    "RF_Accurancy"
   ]
  },
  {
   "cell_type": "markdown",
   "id": "06bcc150",
   "metadata": {
    "id": "06bcc150"
   },
   "source": [
    "### 6.7 XGBOOST Classifier"
   ]
  },
  {
   "cell_type": "code",
   "execution_count": 90,
   "id": "23cb8457",
   "metadata": {
    "executionInfo": {
     "elapsed": 70,
     "status": "ok",
     "timestamp": 1678212426233,
     "user": {
      "displayName": "Tanmay Hajare",
      "userId": "05037382924936965487"
     },
     "user_tz": -330
    },
    "id": "23cb8457"
   },
   "outputs": [],
   "source": [
    "from xgboost import XGBClassifier"
   ]
  },
  {
   "cell_type": "code",
   "execution_count": 91,
   "id": "bbaf72b2",
   "metadata": {
    "executionInfo": {
     "elapsed": 70,
     "status": "ok",
     "timestamp": 1678212426235,
     "user": {
      "displayName": "Tanmay Hajare",
      "userId": "05037382924936965487"
     },
     "user_tz": -330
    },
    "id": "bbaf72b2"
   },
   "outputs": [],
   "source": [
    "xgb=XGBClassifier()"
   ]
  },
  {
   "cell_type": "code",
   "execution_count": 92,
   "id": "6ee22fb3",
   "metadata": {
    "executionInfo": {
     "elapsed": 69,
     "status": "ok",
     "timestamp": 1678212426236,
     "user": {
      "displayName": "Tanmay Hajare",
      "userId": "05037382924936965487"
     },
     "user_tz": -330
    },
    "id": "6ee22fb3"
   },
   "outputs": [],
   "source": [
    "y_pred = xgb.fit(Scaled_fs_train_data, train_y).predict(Scaled_fs_test_data)"
   ]
  },
  {
   "cell_type": "code",
   "execution_count": 93,
   "id": "31918ceb",
   "metadata": {
    "colab": {
     "base_uri": "https://localhost:8080/"
    },
    "executionInfo": {
     "elapsed": 70,
     "status": "ok",
     "timestamp": 1678212426238,
     "user": {
      "displayName": "Tanmay Hajare",
      "userId": "05037382924936965487"
     },
     "user_tz": -330
    },
    "id": "31918ceb",
    "outputId": "1972e8f4-0f59-4bb5-c69c-edf570ae2621"
   },
   "outputs": [
    {
     "data": {
      "text/plain": [
       "0.624"
      ]
     },
     "execution_count": 93,
     "metadata": {},
     "output_type": "execute_result"
    }
   ],
   "source": [
    "acc_XGB=accuracy_score(test_y,y_pred)\n",
    "acc_XGB"
   ]
  },
  {
   "cell_type": "markdown",
   "id": "5a8f0c27",
   "metadata": {
    "id": "5a8f0c27"
   },
   "source": [
    "### 6.8 ANN"
   ]
  },
  {
   "cell_type": "code",
   "execution_count": 94,
   "id": "14490b31",
   "metadata": {
    "colab": {
     "base_uri": "https://localhost:8080/"
    },
    "executionInfo": {
     "elapsed": 3635,
     "status": "ok",
     "timestamp": 1678212429814,
     "user": {
      "displayName": "Tanmay Hajare",
      "userId": "05037382924936965487"
     },
     "user_tz": -330
    },
    "id": "14490b31",
    "outputId": "106bd54d-2e64-40f7-8575-21d2ceead78e"
   },
   "outputs": [
    {
     "name": "stdout",
     "output_type": "stream",
     "text": [
      "Epoch 1/10\n",
      "24/24 [==============================] - 1s 2ms/step - loss: 0.7663 - accuracy: 0.3027\n",
      "Epoch 2/10\n",
      "24/24 [==============================] - 0s 2ms/step - loss: 0.6378 - accuracy: 0.7547\n",
      "Epoch 3/10\n",
      "24/24 [==============================] - 0s 2ms/step - loss: 0.5953 - accuracy: 0.7600\n",
      "Epoch 4/10\n",
      "24/24 [==============================] - 0s 2ms/step - loss: 0.5781 - accuracy: 0.7613\n",
      "Epoch 5/10\n",
      "24/24 [==============================] - 0s 2ms/step - loss: 0.5676 - accuracy: 0.7613\n",
      "Epoch 6/10\n",
      "24/24 [==============================] - 0s 2ms/step - loss: 0.5606 - accuracy: 0.7613\n",
      "Epoch 7/10\n",
      "24/24 [==============================] - 0s 2ms/step - loss: 0.5560 - accuracy: 0.7613\n",
      "Epoch 8/10\n",
      "24/24 [==============================] - 0s 2ms/step - loss: 0.5533 - accuracy: 0.7613\n",
      "Epoch 9/10\n",
      "24/24 [==============================] - 0s 2ms/step - loss: 0.5514 - accuracy: 0.7613\n",
      "Epoch 10/10\n",
      "24/24 [==============================] - 0s 2ms/step - loss: 0.5502 - accuracy: 0.7613\n"
     ]
    },
    {
     "data": {
      "text/plain": [
       "<keras.callbacks.History at 0x203af3d5900>"
      ]
     },
     "execution_count": 94,
     "metadata": {},
     "output_type": "execute_result"
    }
   ],
   "source": [
    "import numpy as np \n",
    "import tensorflow as tf\n",
    "from tensorflow.keras import Sequential\n",
    "from tensorflow.keras.layers import Dense\n",
    "\n",
    "model_ann=Sequential()\n",
    "model_ann.add(Dense(10,input_dim=13,activation=\"sigmoid\"))\n",
    "model_ann.add(Dense(10,activation=\"relu\"))\n",
    "model_ann.add(Dense(10,activation=\"relu\"))\n",
    "model_ann.add(Dense(10,activation=\"relu\"))\n",
    "model_ann.add(Dense(1,activation=\"sigmoid\"))\n",
    "\n",
    "model_ann.compile(optimizer=\"sgd\",loss=\"binary_crossentropy\",metrics=[\"accuracy\"])\n",
    "\n",
    "model_ann.fit(Scaled_fs_train_data,train_y,epochs=10,verbose=1)"
   ]
  },
  {
   "cell_type": "code",
   "execution_count": 95,
   "id": "1f1e84cc",
   "metadata": {
    "colab": {
     "base_uri": "https://localhost:8080/"
    },
    "executionInfo": {
     "elapsed": 581,
     "status": "ok",
     "timestamp": 1678212430374,
     "user": {
      "displayName": "Tanmay Hajare",
      "userId": "05037382924936965487"
     },
     "user_tz": -330
    },
    "id": "1f1e84cc",
    "outputId": "c4b8780b-ce8a-47ad-9a53-54dcdc9d009e"
   },
   "outputs": [
    {
     "name": "stdout",
     "output_type": "stream",
     "text": [
      "1/1 [==============================] - 0s 115ms/step\n"
     ]
    },
    {
     "data": {
      "text/plain": [
       "array([[0.2082613]], dtype=float32)"
      ]
     },
     "execution_count": 95,
     "metadata": {},
     "output_type": "execute_result"
    }
   ],
   "source": [
    "y_pred_ANN=model_ann.predict([[1,0,5720,0,11440,0,500,-24300,0,0,0,0,1]])\n",
    "y_pred_ANN"
   ]
  },
  {
   "cell_type": "code",
   "execution_count": 96,
   "id": "e1d4bcb1",
   "metadata": {
    "colab": {
     "base_uri": "https://localhost:8080/"
    },
    "executionInfo": {
     "elapsed": 60,
     "status": "ok",
     "timestamp": 1678212430376,
     "user": {
      "displayName": "Tanmay Hajare",
      "userId": "05037382924936965487"
     },
     "user_tz": -330
    },
    "id": "e1d4bcb1",
    "outputId": "cca831cc-eba9-4a06-961c-2d89fc32bf96"
   },
   "outputs": [
    {
     "name": "stdout",
     "output_type": "stream",
     "text": [
      "8/8 [==============================] - 0s 2ms/step - loss: 0.5900 - accuracy: 0.7280\n"
     ]
    },
    {
     "data": {
      "text/plain": [
       "[0.5899701118469238, 0.7279999852180481]"
      ]
     },
     "execution_count": 96,
     "metadata": {},
     "output_type": "execute_result"
    }
   ],
   "source": [
    "acc_ANN=model_ann.evaluate(Scaled_fs_test_data,test_y)\n",
    "acc_ANN"
   ]
  },
  {
   "cell_type": "code",
   "execution_count": 97,
   "id": "10e96107",
   "metadata": {
    "executionInfo": {
     "elapsed": 43,
     "status": "ok",
     "timestamp": 1678212430378,
     "user": {
      "displayName": "Tanmay Hajare",
      "userId": "05037382924936965487"
     },
     "user_tz": -330
    },
    "id": "10e96107"
   },
   "outputs": [],
   "source": [
    "data={\"Accuracy Score\":[acc_Lg,acc_svc,knn_accurancy,NB_accurancy,DT_accurancy,RF_Accurancy,acc_XGB,acc_ANN[1]]}"
   ]
  },
  {
   "cell_type": "markdown",
   "id": "db131b0d",
   "metadata": {
    "id": "db131b0d"
   },
   "source": [
    "# <font color='red'>7. Results </font>"
   ]
  },
  {
   "cell_type": "markdown",
   "id": "583734f0",
   "metadata": {
    "id": "583734f0"
   },
   "source": [
    "### 7.1 Create Accurancy value dataframe"
   ]
  },
  {
   "cell_type": "code",
   "execution_count": 98,
   "id": "b4281005",
   "metadata": {
    "colab": {
     "base_uri": "https://localhost:8080/",
     "height": 300
    },
    "executionInfo": {
     "elapsed": 41,
     "status": "ok",
     "timestamp": 1678212430381,
     "user": {
      "displayName": "Tanmay Hajare",
      "userId": "05037382924936965487"
     },
     "user_tz": -330
    },
    "id": "b4281005",
    "outputId": "65ba1826-44c2-418b-eff8-f71257bfd3de"
   },
   "outputs": [
    {
     "data": {
      "text/html": [
       "<div>\n",
       "<style scoped>\n",
       "    .dataframe tbody tr th:only-of-type {\n",
       "        vertical-align: middle;\n",
       "    }\n",
       "\n",
       "    .dataframe tbody tr th {\n",
       "        vertical-align: top;\n",
       "    }\n",
       "\n",
       "    .dataframe thead th {\n",
       "        text-align: right;\n",
       "    }\n",
       "</style>\n",
       "<table border=\"1\" class=\"dataframe\">\n",
       "  <thead>\n",
       "    <tr style=\"text-align: right;\">\n",
       "      <th></th>\n",
       "      <th>Accuracy Score</th>\n",
       "    </tr>\n",
       "  </thead>\n",
       "  <tbody>\n",
       "    <tr>\n",
       "      <th>Logistic Regression</th>\n",
       "      <td>0.728</td>\n",
       "    </tr>\n",
       "    <tr>\n",
       "      <th>Support Vector Machine</th>\n",
       "      <td>0.728</td>\n",
       "    </tr>\n",
       "    <tr>\n",
       "      <th>K-Nearest Neighbour</th>\n",
       "      <td>0.664</td>\n",
       "    </tr>\n",
       "    <tr>\n",
       "      <th>Naive Bayes</th>\n",
       "      <td>0.680</td>\n",
       "    </tr>\n",
       "    <tr>\n",
       "      <th>Decision Tree</th>\n",
       "      <td>0.624</td>\n",
       "    </tr>\n",
       "    <tr>\n",
       "      <th>Random Forest</th>\n",
       "      <td>0.716</td>\n",
       "    </tr>\n",
       "    <tr>\n",
       "      <th>XG Boost</th>\n",
       "      <td>0.624</td>\n",
       "    </tr>\n",
       "    <tr>\n",
       "      <th>ANN</th>\n",
       "      <td>0.728</td>\n",
       "    </tr>\n",
       "  </tbody>\n",
       "</table>\n",
       "</div>"
      ],
      "text/plain": [
       "                        Accuracy Score\n",
       "Logistic Regression              0.728\n",
       "Support Vector Machine           0.728\n",
       "K-Nearest Neighbour              0.664\n",
       "Naive Bayes                      0.680\n",
       "Decision Tree                    0.624\n",
       "Random Forest                    0.716\n",
       "XG Boost                         0.624\n",
       "ANN                              0.728"
      ]
     },
     "execution_count": 98,
     "metadata": {},
     "output_type": "execute_result"
    }
   ],
   "source": [
    "dataframe=pd.DataFrame(data,index=[\"Logistic Regression\",\n",
    "                                \"Support Vector Machine\",\n",
    "                                \"K-Nearest Neighbour\",\n",
    "                                \"Naive Bayes\",\n",
    "                                \"Decision Tree\",\n",
    "                                \"Random Forest\",\n",
    "                                \"XG Boost\",\n",
    "                                \"ANN\"])\n",
    "dataframe"
   ]
  },
  {
   "cell_type": "markdown",
   "id": "6f277625",
   "metadata": {
    "id": "6f277625"
   },
   "source": [
    "### 7.2 Plot Accurancy value "
   ]
  },
  {
   "cell_type": "code",
   "execution_count": 99,
   "id": "83a0c3af",
   "metadata": {
    "colab": {
     "base_uri": "https://localhost:8080/",
     "height": 435
    },
    "executionInfo": {
     "elapsed": 1527,
     "status": "error",
     "timestamp": 1678212431871,
     "user": {
      "displayName": "Tanmay Hajare",
      "userId": "05037382924936965487"
     },
     "user_tz": -330
    },
    "id": "83a0c3af",
    "outputId": "d5437d21-edf3-48dc-8bea-d1a54e722e37"
   },
   "outputs": [
    {
     "data": {
      "image/png": "[encoded data removed]",
      "text/plain": [
       "<Figure size 640x480 with 1 Axes>"
      ]
     },
     "metadata": {},
     "output_type": "display_data"
    }
   ],
   "source": [
    "sns.lineplot(dataframe,markers=\"o\",dashes=True)\n",
    "plt.xticks(rotation=90)\n",
    "plt.xlabel(\"Machine Learning Algorithms\")\n",
    "plt.ylabel(\"Score\")\n",
    "plt.title(\"Comparing The Accuracy Scores Of different Algorithms\")\n",
    "plt.show()"
   ]
  },
  {
   "cell_type": "markdown",
   "id": "e58b6ec4",
   "metadata": {},
   "source": [
    "### 7.3 Predication "
   ]
  },
  {
   "cell_type": "markdown",
   "id": "0a562072",
   "metadata": {},
   "source": [
    "### SVM"
   ]
  },
  {
   "cell_type": "code",
   "execution_count": 100,
   "id": "e1049eaf",
   "metadata": {},
   "outputs": [
    {
     "name": "stderr",
     "output_type": "stream",
     "text": [
      "C:\\Program Files\\Python310\\lib\\site-packages\\sklearn\\base.py:409: UserWarning: X does not have valid feature names, but SVC was fitted with feature names\n",
      "  warnings.warn(\n"
     ]
    },
    {
     "data": {
      "text/plain": [
       "array([0], dtype=int64)"
      ]
     },
     "execution_count": 100,
     "metadata": {},
     "output_type": "execute_result"
    }
   ],
   "source": [
    "# we perform 8 classification algorithm in that we got good accurancy for Logistics Regression, SVM, and ANN\n",
    "#here we use svm for  predication  \n",
    "y_pred=sv_classifier.predict([[0,0,6240,0,6240,0,2000,0,0,0,0,0,0]])\n",
    "y_pred"
   ]
  }
 ],
 "metadata": {
  "colab": {
   "provenance": []
  },
  "kernelspec": {
   "display_name": "Python 3 (ipykernel)",
   "language": "python",
   "name": "python3"
  },
  "language_info": {
   "codemirror_mode": {
    "name": "ipython",
    "version": 3
   },
   "file_extension": ".py",
   "mimetype": "text/x-python",
   "name": "python",
   "nbconvert_exporter": "python",
   "pygments_lexer": "ipython3",
   "version": "3.10.8"
  }
 },
 "nbformat": 4,
 "nbformat_minor": 5
}
